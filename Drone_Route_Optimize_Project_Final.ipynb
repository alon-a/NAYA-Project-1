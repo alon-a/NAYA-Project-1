{
  "nbformat": 4,
  "nbformat_minor": 0,
  "metadata": {
    "colab": {
      "name": "Drone-Route-Optimize-Project-Final.ipynb",
      "provenance": [],
      "authorship_tag": "ABX9TyNd3c2lFbm7zQqp/Yj/AlTf",
      "include_colab_link": true
    },
    "kernelspec": {
      "name": "python3",
      "display_name": "Python 3"
    },
    "language_info": {
      "name": "python"
    }
  },
  "cells": [
    {
      "cell_type": "markdown",
      "metadata": {
        "id": "view-in-github",
        "colab_type": "text"
      },
      "source": [
        "<a href=\"https://colab.research.google.com/github/alon-a/NAYA-Project-1/blob/main/Drone_Route_Optimize_Project_Final.ipynb\" target=\"_parent\"><img src=\"https://colab.research.google.com/assets/colab-badge.svg\" alt=\"Open In Colab\"/></a>"
      ]
    },
    {
      "cell_type": "markdown",
      "metadata": {
        "id": "OAteqs5FA77W"
      },
      "source": [
        "This is the first project in the NAYA College Data-Scientist course by Alon Avramson.\n",
        "\n",
        "This project is part of a greater solution: A Drone-Shipping System using Gas-Stations Roofs with route optimization.\n",
        "The current project will select the map library, translate gas-stations locations to addresses and place a marker on the map for this location. "
      ]
    },
    {
      "cell_type": "markdown",
      "metadata": {
        "id": "b1p6xgn3hkTo"
      },
      "source": [
        "# Review the optional MAP libraries"
      ]
    },
    {
      "cell_type": "markdown",
      "metadata": {
        "id": "kD_IbrEXCEdW"
      },
      "source": [
        "First let's look for a map library (Yahoo search \"pyton maps\" or \"python geo map library\"):\n",
        "- [Sharpfiles](https://towardsdatascience.com/mapping-geograph-data-in-python-610a963d2d7f) PyShp. Developed and regulated by Esri as a (mostly) open specification, the shapefile format spatially describes geometries as either ‘points’, ‘polylines’, or ‘polygons’. In OpenStreetMap terms these can be considered as ‘nodes’, ‘ways’ and ‘closed ways’, respectively. Each geometry has a set of associated attributes. Broadly speaking these are a bit like OSM’s tags.\n",
        "- [GeoPandas](https://towardsdatascience.com/mapping-geograph-data-in-python-610a963d2d7f) is an open source project to make working with geospatial data in python easier. [GeoPandas](https://geopandas.org/) \n",
        "- [Mapping with Matplotlib, Pandas, Geopandas and Basemap in Python ](https://towardsdatascience.com/mapping-with-matplotlib-pandas-geopandas-and-basemap-in-python-d11b57ab5dac)\n",
        "- Basemap\n",
        "Refining the Yahoo search: python disppaly a marker on geo maps \n",
        "- [Folium ast ](https://stackoverflow.com/questions/46560309/print-a-map-with-markers-and-text-details-with-python) StackOverflow ex.\n",
        "- Folium - [Map with markers with Python and Folium](https://www.python-graph-gallery.com/312-add-markers-on-folium-map) Seems like the right choice for this project, it is easy to use, and light-weight\n",
        "- [Interactive map with Python and Folium](https://www.python-graph-gallery.com/288-map-background-with-folium)\n",
        "- [Show your Data in a Google Map with Python](https://thedatafrog.com/en/articles/show-data-google-map-python/) Requires Google API keys (credit card)\n",
        "- With Folium and Pandas [Generating Maps with Python: “Maps with Markers”-Part 2](https://medium.com/analytics-vidhya/generating-maps-with-python-maps-with-markers-part-2-2e291d987821)\n",
        "- [Map With Plotly, GeoPands, Basemap ](https://plotly.com/python/scatter-plots-on-maps/)\n",
        "- [OpenStreetMap](https://towardsdatascience.com/how-safe-are-the-streets-of-santiago-e01ba483ce4b) may be useful later for extracting roads \n",
        "\n",
        "Summary:\n",
        "- Folium - is my choice, simple, interactive, lightweight\n",
        "- Google Maps - complex integration\n",
        "- GeoPandas - Static maps\n",
        "- Basemaps - resulting files are too heavy, resulting low interactivity and long processing time\n",
        "- Sharpfiles - might be used later to add shapes on the map"
      ]
    },
    {
      "cell_type": "markdown",
      "metadata": {
        "id": "vKXPjhOBQ7I0"
      },
      "source": [
        "# Preparation"
      ]
    },
    {
      "cell_type": "markdown",
      "metadata": {
        "id": "efHlY4RAUHxH"
      },
      "source": [
        "Lets' look for translation of addresses to Geo-Lcation (Lat, Lon)\n",
        "- Manual [Get Lat Long from Address](https://www.latlong.net/convert-address-to-lat-long.html)\n",
        "- Geopy P[ython’s geocoding — Convert a list of addresses into a map](https://towardsdatascience.com/pythons-geocoding-convert-a-list-of-addresses-into-a-map-f522ef513fd6)\n",
        "- GeoCode Address [GeoLOcation IP Address](https://geolocation.com/en_US)\n",
        "- Geopy provides a class for popular mapping services. Nominatim is the service behind the popular OpenStreetMap that allows you to geocode for free. But you should comply with the usage policies in order to allow everyone to use it:     limit your requests to a single thread\n",
        "    limited to 1 machine only, no distributed scripts (including multiple Amazon EC2 instances or similar)\n",
        "    Results must be cached on your side. Clients sending repeatedly the same query may be classified as faulty and blocked.\n",
        "- Nominatim "
      ]
    },
    {
      "cell_type": "markdown",
      "metadata": {
        "id": "sQhzcHAFcT35"
      },
      "source": [
        "[Python’s geocoding — Convert a list of addresses into a map](https://towardsdatascience.com/pythons-geocoding-convert-a-list-of-addresses-into-a-map-f522ef513fd6) This is a full example that will be used a skeleton and starting point for my project"
      ]
    },
    {
      "cell_type": "markdown",
      "metadata": {
        "id": "yv0A4QG4b9k8"
      },
      "source": [
        "create a pandas dataFrame - will be implemented after learning Pandas"
      ]
    },
    {
      "cell_type": "markdown",
      "metadata": {
        "id": "nl2Z37UOgIMo"
      },
      "source": [
        "Translate a text dats with addresses to a DataFrame with Lon Lat columns is a good start for any map presentation\n",
        "- data = \"\"\"Name,Address\n",
        "EU,\"Rue de la Loi/Wetstraat 175, Brussel, Belgium\"\n",
        "Apple,\"1 Apple Park Way, Cupertino, CA\"\n",
        "Google,\"1600 Amphitheatre Parkway Mountain View, CA 94043\"\n",
        "UN,\"760 United Nations Plaza; Manhattan, New York City\"\n",
        "\"\"\""
      ]
    },
    {
      "cell_type": "markdown",
      "metadata": {
        "id": "rqu9HswvcLlz"
      },
      "source": [
        "[How to Get Geolocation in Python ](https://www.thepythoncode.com/article/get-geolocation-in-python) This is yet another simple example that will be used as skeleton in this project"
      ]
    },
    {
      "cell_type": "code",
      "metadata": {
        "id": "PQq41MRDcpCP"
      },
      "source": [
        "# !pip install geopy"
      ],
      "execution_count": 1,
      "outputs": []
    },
    {
      "cell_type": "markdown",
      "metadata": {
        "id": "enu3sFppm513"
      },
      "source": [
        "Getting Latitude and Longitude from an Address (Geocoding)"
      ]
    },
    {
      "cell_type": "code",
      "metadata": {
        "id": "GSE8KafIm8i8"
      },
      "source": [
        "# pip install pprintpp\n",
        "from geopy.geocoders import Nominatim\n",
        "import time # since he Nominatim Usage Policy, requires  to use a maximum of 1 request per second, we may need to use sleep(1)\n",
        "#from pprint import pprint # https://docs.python.org/3/library/pprint.html"
      ],
      "execution_count": 2,
      "outputs": []
    },
    {
      "cell_type": "code",
      "metadata": {
        "id": "FJbBHnH9n9jc"
      },
      "source": [
        "# instantiate a new Nominatim client\n",
        "app = Nominatim(user_agent=\"tutorial\")"
      ],
      "execution_count": 3,
      "outputs": []
    },
    {
      "cell_type": "markdown",
      "metadata": {
        "id": "E7RdIbgjqy68"
      },
      "source": [
        "Checking the results with: https://www.latlong.net/convert-address-to-lat-long.html results look good"
      ]
    },
    {
      "cell_type": "markdown",
      "metadata": {
        "id": "1gQTynCfsfHd"
      },
      "source": [
        "Now that I know how to create a geo-location from an address let's put it on a map and present it with a marker\n"
      ]
    },
    {
      "cell_type": "markdown",
      "metadata": {
        "id": "SzKAQcwnw98B"
      },
      "source": [
        "# Let's find out the avaiable data for the list of Gas Stations in Israel\n",
        "\n"
      ]
    },
    {
      "cell_type": "markdown",
      "metadata": {
        "id": "DdQ9PtcvxKkM"
      },
      "source": [
        "לפני זה נבדוק את אפשר להכניס כתובת בעברית על מנת לוודא שהחיפוש כתובות יכול להיות גם בעיברית\n",
        "\n"
      ]
    },
    {
      "cell_type": "markdown",
      "metadata": {
        "id": "jkzY6VUxyz7B"
      },
      "source": [
        "Yahoo search: רשימת כתובות של תחנות דלק בישראל"
      ]
    },
    {
      "cell_type": "markdown",
      "metadata": {
        "id": "lyZaHQ1pRJV-"
      },
      "source": [
        "- http://delek4u.info/\n",
        "- https://www.gov.il/he/Departments/General/gas_stations"
      ]
    },
    {
      "cell_type": "markdown",
      "metadata": {
        "id": "Xq7NE0YBXWsN"
      },
      "source": [
        "https://pythonbasics.org/read-excel/ Read Excel files"
      ]
    },
    {
      "cell_type": "markdown",
      "metadata": {
        "id": "-gmdrhoVzjrK"
      },
      "source": [
        "# The project"
      ]
    },
    {
      "cell_type": "markdown",
      "metadata": {
        "id": "2kmhd5q1h0l8"
      },
      "source": [
        "Relevnt links"
      ]
    },
    {
      "cell_type": "markdown",
      "metadata": {
        "id": "SGunesEIh-ki"
      },
      "source": [
        "Get the stations file from the internet and save it locally as fuel_stations.xlsx. This file cintains more than 1,200 stations. It is  required only if you want to re-create the data from scratch. If not, the application will look for a pickled file on the local default location (.content) enerated from the excel file. The pickled file includes about 370 stations. If the pickled file is not found the application uses a short list of 25 station. \n",
        "https://www.gov.il/he/Departments/General/gas_stations"
      ]
    },
    {
      "cell_type": "markdown",
      "metadata": {
        "id": "7kG_5D1dzLnn"
      },
      "source": [
        "Data preparation"
      ]
    },
    {
      "cell_type": "code",
      "metadata": {
        "id": "ZnLqmMeWPW-c",
        "colab": {
          "base_uri": "https://localhost:8080/"
        },
        "outputId": "12400744-493f-4b78-e540-dc46b5be6d93"
      },
      "source": [
        "!pip install geopy\n",
        "!pip install pprintpp"
      ],
      "execution_count": 4,
      "outputs": [
        {
          "output_type": "stream",
          "text": [
            "Requirement already satisfied: geopy in /usr/local/lib/python3.7/dist-packages (1.17.0)\n",
            "Requirement already satisfied: geographiclib<2,>=1.49 in /usr/local/lib/python3.7/dist-packages (from geopy) (1.52)\n",
            "Collecting pprintpp\n",
            "  Downloading pprintpp-0.4.0-py2.py3-none-any.whl (16 kB)\n",
            "Installing collected packages: pprintpp\n",
            "Successfully installed pprintpp-0.4.0\n"
          ],
          "name": "stdout"
        }
      ]
    },
    {
      "cell_type": "code",
      "metadata": {
        "id": "k_oC9XNGxP-z",
        "colab": {
          "base_uri": "https://localhost:8080/"
        },
        "outputId": "9f96b105-28cb-4549-c6c7-e3c32de46b7b"
      },
      "source": [
        "# Get the stations file from the internet and save it locally as fuel_stations.xlsx\n",
        "# https://www.gov.il/he/Departments/General/gas_stations\n",
        "import requests, os\n",
        "import http.client\n",
        "\n",
        "http.client.HTTPConnection._http_vsn = 10\n",
        "http.client.HTTPConnection._http_vsn_str = 'HTTP/1.0'\n",
        "\n",
        "url = 'https://www.gov.il/BlobFolder/generalpage/gas_stations/he/fuel_station_by_number2.xlsx'\n",
        "r = requests.get(url, allow_redirects=True)\n",
        "\n",
        "#https://www.pythonexcel.com/ \n",
        "\n",
        "#import openpyxl\n",
        "#mywb = openpyxl.load_workbook('filetest.xlsx')\n",
        "#sheet = mywb.active\n",
        "#sheet.title = 'Working on Save as'\n",
        "#mywb.save('example_filetest.xlsx')\n",
        "\n",
        "if (r.ok):\n",
        "\n",
        "  file_saved = 'fuel_stations.xlsx'\n",
        "\n",
        "  print(\"Downloading...\")\n",
        "  with open(file_saved, 'wb') as output:\n",
        "      output.write(r.content)\n",
        "  print(f\"Done! {file_saved} is ready\")\n",
        "\n",
        "else:\n",
        "  print(f'File could not be downloaded, {(r.reason)} , file returned code: {r.status_code} ')\n",
        "  print(r.url)\n"
      ],
      "execution_count": 6,
      "outputs": [
        {
          "output_type": "stream",
          "text": [
            "File could not be downloaded, Not Found , file returned code: 404 \n",
            "https://www.gov.il/BlobFolder/generalpage/gas_stations/he/fuel_station_by_number2.xlsx\n"
          ],
          "name": "stdout"
        }
      ]
    },
    {
      "cell_type": "code",
      "metadata": {
        "colab": {
          "base_uri": "https://localhost:8080/"
        },
        "id": "jDMCmteYEirb",
        "outputId": "41d16740-f6db-4368-c2ab-d23f390a758c"
      },
      "source": [
        "#getting back to the manually donwloaded file until downlad issues resolved\n",
        "import xlrd\n",
        "file_saved = 'fuel_station_by_number1.xlsx' \n",
        "gas_station_file_exist = True\n",
        "if os.path.exists(file_saved):\n",
        "  print('Reading the file...')\n",
        "  wb = xlrd.open_workbook(file_saved)\n",
        "  sh = wb.sheet_by_index(0)\n",
        "  print('Reading the file...')\n",
        "  sh\n",
        "else:\n",
        "  gas_station_file_exist = False\n",
        "  print(file_saved, ' does not exist on local disk please check')"
      ],
      "execution_count": 7,
      "outputs": [
        {
          "output_type": "stream",
          "text": [
            "fuel_station_by_number1.xlsx  does not exist on local disk please check\n"
          ],
          "name": "stdout"
        }
      ]
    },
    {
      "cell_type": "code",
      "metadata": {
        "id": "AfDEKfxlE3Mn"
      },
      "source": [
        "# Extract the station's addresses and names into a list\n",
        "if (gas_station_file_exist):\n",
        "  stations_list = []\n",
        "  for rx in range (10): #(sh.nrows): # using the first 10 lines as test, chane to sh.nrows for all rows\n",
        "      station_name = (sh.cell(rx,1).value)\n",
        "      station_location =  (sh.cell(rx,3).value)\n",
        "      stations_list.append([station_name,station_location])\n",
        "      pass\n",
        "  #stations_list\n",
        "  len(stations_list)"
      ],
      "execution_count": 8,
      "outputs": []
    },
    {
      "cell_type": "code",
      "metadata": {
        "id": "mi8ZYaeCP-6u"
      },
      "source": [
        "# import the libraries to create names and locations for the map\n",
        "from geopy.geocoders import Nominatim\n",
        "import time # since he Nominatim Usage Policy, requires  to use a maximum of 1 request per second, we may need to use sleep(1)\n",
        "from pprint import pprint # https://docs.python.org/3/library/pprint.html"
      ],
      "execution_count": 9,
      "outputs": []
    },
    {
      "cell_type": "code",
      "metadata": {
        "id": "WnQH0VH11Hvl"
      },
      "source": [
        "# initializing the Nominatim project\n",
        "app = Nominatim(user_agent=\"tutorial\")"
      ],
      "execution_count": 10,
      "outputs": []
    },
    {
      "cell_type": "markdown",
      "metadata": {
        "id": "LvQ6fvan1NvL"
      },
      "source": [
        "Prepare the initial location for the   map"
      ]
    },
    {
      "cell_type": "code",
      "metadata": {
        "colab": {
          "base_uri": "https://localhost:8080/"
        },
        "id": "pAPYOThY16lA",
        "outputId": "6b5a618b-2fe8-42e6-a593-9c024307c369"
      },
      "source": [
        "address = \"ראש פינה 26, פתח תקווה , ישראל\"\n",
        "location = app.geocode(address).raw\n",
        "# print raw data\n",
        "#print(location)\n",
        "#pprint(location) #checking the contribution of pprint over standard print\n",
        "latitude = location[\"lat\"]\n",
        "longitude = location[\"lon\"]\n",
        "print(f\"Lat: {latitude}, Lon: {longitude}\")"
      ],
      "execution_count": 11,
      "outputs": [
        {
          "output_type": "stream",
          "text": [
            "Lat: 32.10405555, Lon: 34.87346514896548\n"
          ],
          "name": "stdout"
        }
      ]
    },
    {
      "cell_type": "code",
      "metadata": {
        "id": "NooMcMRI1kTO",
        "colab": {
          "base_uri": "https://localhost:8080/",
          "height": 580
        },
        "outputId": "bb7996b0-98cf-450f-db29-be243aefaa1e"
      },
      "source": [
        "# Verify that a map can be generated and dispalyed with the defoned initial location \n",
        "# import the library\n",
        "import folium\n",
        "\n",
        "# Make a map with deep zoom\n",
        "m = folium.Map(location=[float(latitude),float(longitude) ], tiles=\"OpenStreetMap\", zoom_start=15)\n",
        "# Add the Marker\n",
        "folium.Marker(\n",
        "      location=[float(latitude),float(longitude)],\n",
        "      popup=\"Inital Address\",\n",
        "   ).add_to(m)\n",
        "\n",
        "#Show the map\n",
        "m"
      ],
      "execution_count": 12,
      "outputs": [
        {
          "output_type": "execute_result",
          "data": {
            "text/html": [
              "<div style=\"width:100%;\"><div style=\"position:relative;width:100%;height:0;padding-bottom:60%;\"><span style=\"color:#565656\">Make this Notebook Trusted to load map: File -> Trust Notebook</span><iframe src=\"about:blank\" style=\"position:absolute;width:100%;height:100%;left:0;top:0;border:none !important;\" data-html=%3C%21DOCTYPE%20html%3E%0A%3Chead%3E%20%20%20%20%0A%20%20%20%20%3Cmeta%20http-equiv%3D%22content-type%22%20content%3D%22text/html%3B%20charset%3DUTF-8%22%20/%3E%0A%20%20%20%20%3Cscript%3EL_PREFER_CANVAS%3Dfalse%3B%20L_NO_TOUCH%3Dfalse%3B%20L_DISABLE_3D%3Dfalse%3B%3C/script%3E%0A%20%20%20%20%3Cscript%20src%3D%22https%3A//cdn.jsdelivr.net/npm/leaflet%401.4.0/dist/leaflet.js%22%3E%3C/script%3E%0A%20%20%20%20%3Cscript%20src%3D%22https%3A//code.jquery.com/jquery-1.12.4.min.js%22%3E%3C/script%3E%0A%20%20%20%20%3Cscript%20src%3D%22https%3A//maxcdn.bootstrapcdn.com/bootstrap/3.2.0/js/bootstrap.min.js%22%3E%3C/script%3E%0A%20%20%20%20%3Cscript%20src%3D%22https%3A//cdnjs.cloudflare.com/ajax/libs/Leaflet.awesome-markers/2.0.2/leaflet.awesome-markers.js%22%3E%3C/script%3E%0A%20%20%20%20%3Clink%20rel%3D%22stylesheet%22%20href%3D%22https%3A//cdn.jsdelivr.net/npm/leaflet%401.4.0/dist/leaflet.css%22/%3E%0A%20%20%20%20%3Clink%20rel%3D%22stylesheet%22%20href%3D%22https%3A//maxcdn.bootstrapcdn.com/bootstrap/3.2.0/css/bootstrap.min.css%22/%3E%0A%20%20%20%20%3Clink%20rel%3D%22stylesheet%22%20href%3D%22https%3A//maxcdn.bootstrapcdn.com/bootstrap/3.2.0/css/bootstrap-theme.min.css%22/%3E%0A%20%20%20%20%3Clink%20rel%3D%22stylesheet%22%20href%3D%22https%3A//maxcdn.bootstrapcdn.com/font-awesome/4.6.3/css/font-awesome.min.css%22/%3E%0A%20%20%20%20%3Clink%20rel%3D%22stylesheet%22%20href%3D%22https%3A//cdnjs.cloudflare.com/ajax/libs/Leaflet.awesome-markers/2.0.2/leaflet.awesome-markers.css%22/%3E%0A%20%20%20%20%3Clink%20rel%3D%22stylesheet%22%20href%3D%22https%3A//rawcdn.githack.com/python-visualization/folium/master/folium/templates/leaflet.awesome.rotate.css%22/%3E%0A%20%20%20%20%3Cstyle%3Ehtml%2C%20body%20%7Bwidth%3A%20100%25%3Bheight%3A%20100%25%3Bmargin%3A%200%3Bpadding%3A%200%3B%7D%3C/style%3E%0A%20%20%20%20%3Cstyle%3E%23map%20%7Bposition%3Aabsolute%3Btop%3A0%3Bbottom%3A0%3Bright%3A0%3Bleft%3A0%3B%7D%3C/style%3E%0A%20%20%20%20%0A%20%20%20%20%3Cmeta%20name%3D%22viewport%22%20content%3D%22width%3Ddevice-width%2C%0A%20%20%20%20%20%20%20%20initial-scale%3D1.0%2C%20maximum-scale%3D1.0%2C%20user-scalable%3Dno%22%20/%3E%0A%20%20%20%20%3Cstyle%3E%23map_1010783f29db4982819cc51653c59970%20%7B%0A%20%20%20%20%20%20%20%20position%3A%20relative%3B%0A%20%20%20%20%20%20%20%20width%3A%20100.0%25%3B%0A%20%20%20%20%20%20%20%20height%3A%20100.0%25%3B%0A%20%20%20%20%20%20%20%20left%3A%200.0%25%3B%0A%20%20%20%20%20%20%20%20top%3A%200.0%25%3B%0A%20%20%20%20%20%20%20%20%7D%0A%20%20%20%20%3C/style%3E%0A%3C/head%3E%0A%3Cbody%3E%20%20%20%20%0A%20%20%20%20%0A%20%20%20%20%3Cdiv%20class%3D%22folium-map%22%20id%3D%22map_1010783f29db4982819cc51653c59970%22%20%3E%3C/div%3E%0A%3C/body%3E%0A%3Cscript%3E%20%20%20%20%0A%20%20%20%20%0A%20%20%20%20%0A%20%20%20%20%20%20%20%20var%20bounds%20%3D%20null%3B%0A%20%20%20%20%0A%0A%20%20%20%20var%20map_1010783f29db4982819cc51653c59970%20%3D%20L.map%28%0A%20%20%20%20%20%20%20%20%27map_1010783f29db4982819cc51653c59970%27%2C%20%7B%0A%20%20%20%20%20%20%20%20center%3A%20%5B32.10405555%2C%2034.87346514896548%5D%2C%0A%20%20%20%20%20%20%20%20zoom%3A%2015%2C%0A%20%20%20%20%20%20%20%20maxBounds%3A%20bounds%2C%0A%20%20%20%20%20%20%20%20layers%3A%20%5B%5D%2C%0A%20%20%20%20%20%20%20%20worldCopyJump%3A%20false%2C%0A%20%20%20%20%20%20%20%20crs%3A%20L.CRS.EPSG3857%2C%0A%20%20%20%20%20%20%20%20zoomControl%3A%20true%2C%0A%20%20%20%20%20%20%20%20%7D%29%3B%0A%0A%0A%20%20%20%20%0A%20%20%20%20var%20tile_layer_9a540ad4bc94406dbcc8bdfd0a8e5938%20%3D%20L.tileLayer%28%0A%20%20%20%20%20%20%20%20%27https%3A//%7Bs%7D.tile.openstreetmap.org/%7Bz%7D/%7Bx%7D/%7By%7D.png%27%2C%0A%20%20%20%20%20%20%20%20%7B%0A%20%20%20%20%20%20%20%20%22attribution%22%3A%20null%2C%0A%20%20%20%20%20%20%20%20%22detectRetina%22%3A%20false%2C%0A%20%20%20%20%20%20%20%20%22maxNativeZoom%22%3A%2018%2C%0A%20%20%20%20%20%20%20%20%22maxZoom%22%3A%2018%2C%0A%20%20%20%20%20%20%20%20%22minZoom%22%3A%200%2C%0A%20%20%20%20%20%20%20%20%22noWrap%22%3A%20false%2C%0A%20%20%20%20%20%20%20%20%22opacity%22%3A%201%2C%0A%20%20%20%20%20%20%20%20%22subdomains%22%3A%20%22abc%22%2C%0A%20%20%20%20%20%20%20%20%22tms%22%3A%20false%0A%7D%29.addTo%28map_1010783f29db4982819cc51653c59970%29%3B%0A%20%20%20%20%0A%20%20%20%20%20%20%20%20var%20marker_ee88cc2f1bdb4e8ba1a33d1687db47ca%20%3D%20L.marker%28%0A%20%20%20%20%20%20%20%20%20%20%20%20%5B32.10405555%2C%2034.87346514896548%5D%2C%0A%20%20%20%20%20%20%20%20%20%20%20%20%7B%0A%20%20%20%20%20%20%20%20%20%20%20%20%20%20%20%20icon%3A%20new%20L.Icon.Default%28%29%2C%0A%20%20%20%20%20%20%20%20%20%20%20%20%20%20%20%20%7D%0A%20%20%20%20%20%20%20%20%20%20%20%20%29.addTo%28map_1010783f29db4982819cc51653c59970%29%3B%0A%20%20%20%20%20%20%20%20%0A%20%20%20%20%0A%20%20%20%20%20%20%20%20%20%20%20%20var%20popup_14667501ee594a7b9e56bad9ddb5587a%20%3D%20L.popup%28%7BmaxWidth%3A%20%27100%25%27%0A%20%20%20%20%20%20%20%20%20%20%20%20%0A%20%20%20%20%20%20%20%20%20%20%20%20%7D%29%3B%0A%0A%20%20%20%20%20%20%20%20%20%20%20%20%0A%20%20%20%20%20%20%20%20%20%20%20%20%20%20%20%20var%20html_f1570a2b568345bb96c9a8af9f21c5f0%20%3D%20%24%28%60%3Cdiv%20id%3D%22html_f1570a2b568345bb96c9a8af9f21c5f0%22%20style%3D%22width%3A%20100.0%25%3B%20height%3A%20100.0%25%3B%22%3EInital%20Address%3C/div%3E%60%29%5B0%5D%3B%0A%20%20%20%20%20%20%20%20%20%20%20%20%20%20%20%20popup_14667501ee594a7b9e56bad9ddb5587a.setContent%28html_f1570a2b568345bb96c9a8af9f21c5f0%29%3B%0A%20%20%20%20%20%20%20%20%20%20%20%20%0A%0A%20%20%20%20%20%20%20%20%20%20%20%20marker_ee88cc2f1bdb4e8ba1a33d1687db47ca.bindPopup%28popup_14667501ee594a7b9e56bad9ddb5587a%29%0A%20%20%20%20%20%20%20%20%20%20%20%20%3B%0A%0A%20%20%20%20%20%20%20%20%20%20%20%20%0A%20%20%20%20%20%20%20%20%0A%3C/script%3E onload=\"this.contentDocument.open();this.contentDocument.write(    decodeURIComponent(this.getAttribute('data-html')));this.contentDocument.close();\" allowfullscreen webkitallowfullscreen mozallowfullscreen></iframe></div></div>"
            ],
            "text/plain": [
              "<folium.folium.Map at 0x7fe1603bded0>"
            ]
          },
          "metadata": {
            "tags": []
          },
          "execution_count": 12
        }
      ]
    },
    {
      "cell_type": "code",
      "metadata": {
        "id": "mgICyeY6Prb2"
      },
      "source": [
        "#Save the file as HTML\n",
        "m.save('My Initial Address Map.html')"
      ],
      "execution_count": 13,
      "outputs": []
    },
    {
      "cell_type": "markdown",
      "metadata": {
        "id": "mO3uf8k6PxcS"
      },
      "source": [
        "Translate the list of addresses to geo-code loactions"
      ]
    },
    {
      "cell_type": "code",
      "metadata": {
        "id": "JPKOIwH92TAj"
      },
      "source": [
        "# Translate the list of addresses to geo-codes locations (Lat,Lon)\n",
        "stations_list_geocoded = []\n",
        "if (gas_station_file_exist):\n",
        "  continue_the_run = input('This process may take about an hour, are sure you want to proceed? type YES to continue  ')\n",
        "  if continue_the_run != 'YES':\n",
        "    pass\n",
        "  else:\n",
        "    for i in range(len(stations_list)):\n",
        "      #print('Name: ', stations_list[i][0], 'Address: ',stations_list[i][1] )\n",
        "      station_name    = stations_list[i][0]\n",
        "      station_address = stations_list[i][1]\n",
        "      time.sleep(1)\n",
        "      print(station_name, station_address)\n",
        "      try:\n",
        "        geo_location = app.geocode(station_address).raw\n",
        "        latitude = geo_location[\"lat\"]\n",
        "        longitude = geo_location[\"lon\"]\n",
        "        stations_list_geocoded.append([station_name,station_address, latitude, longitude  ])\n",
        "        folium.Marker(\n",
        "          location=[float(latitude),float(longitude)],\n",
        "        popup=station_name,\n",
        "      ).add_to(m)\n",
        "      except:\n",
        "        print('Could not find geolocation for: ', station_address) \n",
        "  m"
      ],
      "execution_count": 14,
      "outputs": []
    },
    {
      "cell_type": "code",
      "metadata": {
        "colab": {
          "base_uri": "https://localhost:8080/"
        },
        "id": "x-1HcZ_6yShZ",
        "outputId": "5294fdd6-96a8-48d8-d53a-bc0648722c04"
      },
      "source": [
        "#stations_list_geocoded\n",
        "print(f'The list of geo-coded gas stations includes {len(stations_list_geocoded)} stations')"
      ],
      "execution_count": 15,
      "outputs": [
        {
          "output_type": "stream",
          "text": [
            "The list of geo-coded gas stations includes 0 stations\n"
          ],
          "name": "stdout"
        }
      ]
    },
    {
      "cell_type": "markdown",
      "metadata": {
        "id": "rnsIXUUlzSAV"
      },
      "source": [
        "Saving the list of gas stations that are already geo-coded"
      ]
    },
    {
      "cell_type": "code",
      "metadata": {
        "colab": {
          "base_uri": "https://localhost:8080/"
        },
        "id": "5csUvNkZybXk",
        "outputId": "41e364b6-cdac-42c6-cb32-cc2a91824c58"
      },
      "source": [
        "# In this case, since the creation of the stations_list_geocoded took a long time\n",
        "# to create, I save a pickle file in the name of\"stations_list_geocoded_new.pkl\"\n",
        "# but then loads another file \"stations_list_geocoded.pkl\" which was generated and saved\n",
        "if (len(stations_list_geocoded) == 0):\n",
        "  print('Nothing to save, the list is empty')\n",
        "else: \n",
        "  import pickle\n",
        "  myvar = stations_list_geocoded\n",
        "  print('Saving the stations_list_geocoded')\n",
        "  with open('stations_list_geocoded_new.pkl', 'wb') as file:  \n",
        "    # A new file will be created\n",
        "    pickle.dump(myvar, file)\n",
        "    print('Done')"
      ],
      "execution_count": 16,
      "outputs": [
        {
          "output_type": "stream",
          "text": [
            "Nothing to save, the list is empty\n"
          ],
          "name": "stdout"
        }
      ]
    },
    {
      "cell_type": "markdown",
      "metadata": {
        "id": "W-G-ROSk5Akc"
      },
      "source": [
        "# Loading the list of gas stations that are already geo-coded"
      ]
    },
    {
      "cell_type": "code",
      "metadata": {
        "colab": {
          "base_uri": "https://localhost:8080/"
        },
        "id": "ousVBFG_3E5n",
        "outputId": "01de20ca-7a60-470b-b69e-ec9137f69b1e"
      },
      "source": [
        "import ipywidgets as widgets\n",
        "from IPython.display import display\n",
        "button1 = widgets.Button(description=\"YES\")\n",
        "button2 = widgets.Button(description=\"NO\")\n",
        "\n",
        "def YES_click(x):\n",
        "    print(\"YES clicked\")\n",
        "    \n",
        "def NO_click(x):\n",
        "    print(\"NO clicked\")\n",
        "\n",
        "button1.on_click(YES_click)\n",
        "button2.on_click(NO_click)\n",
        "\n",
        "#display(button1, button2)\n",
        "\n",
        "# The geo-coded file was stored on a shared Dropbox location\n",
        "# https://www.dropbox.com/s/lb2hqr2ezn11vbk/stations_list_geocoded.pkl?dl=0\n",
        "import requests, os\n",
        "import http.client\n",
        "\n",
        "http.client.HTTPConnection._http_vsn = 10\n",
        "http.client.HTTPConnection._http_vsn_str = 'HTTP/1.0'\n",
        "\n",
        "url = 'https://www.dropbox.com/s/lb2hqr2ezn11vbk/stations_list_geocoded.pkl?dl=0'\n",
        "r = requests.get(url, allow_redirects=True)\n",
        "\n",
        "# https://www.w3schools.com/PYTHON/ref_requests_response.asp\n",
        "if (r.ok):\n",
        "  geo_coded_pickled_file_saved = 'stations_list_geocoded.pkl'\n",
        "\n",
        "  if os.path.exists(pickled_file): \n",
        "    ans= input('File already exsist, do you want to override? YES/NO: ')\n",
        "    if ( ans == 'YES'):\n",
        "      print(\"Downloading...\")\n",
        "      with open(geo_coded_pickled_file_saved, 'wb') as output:\n",
        "        output.write(r.content)\n",
        "      print(f\"Done! {geo_coded_pickled_file_saved} is overiiten and ready\")\n",
        "    else:\n",
        "      print('File was not changed')\n",
        "      pass\n",
        "  else:\n",
        "    print(\"Downloading...\")\n",
        "    with open(geo_coded_pickled_file_saved, 'wb') as output:\n",
        "      output.write(r.content)\n",
        "    print(f\"Done! a new file {geo_coded_pickled_file_saved} is ready\")\n",
        "else:\n",
        "  print(f' File could not be downloaded, {(r.reason)} , file returned code: {r.status_code} ')\n",
        "  print(r.url)\n",
        "  print(r.content)\n"
      ],
      "execution_count": 17,
      "outputs": [
        {
          "output_type": "stream",
          "text": [
            " File could not be downloaded, Bad Request , file returned code: 400 \n",
            "https://www.dropbox.com/s/lb2hqr2ezn11vbk/stations_list_geocoded.pkl?dl=0\n",
            "b'<!DOCTYPE html>\\n<html>\\n<head><meta http-equiv=\"Content-Type\" content=\"text/html; charset=utf-8\">\\n<title>Dropbox</title>\\n<link href=\"https://cfl.dropboxstatic.com/static/css/error.css\" rel=\"stylesheet\" type=\"text/css\"/>\\n<link rel=\"shortcut icon\" href=\"https://cfl.dropboxstatic.com/static/images/favicon.ico\"/>\\n\\n</head>\\n<body>\\n<div class=\"figure\">\\n<img src=\"https://cfl.dropboxstatic.com/static/images/illustration_catalog/sickbox-illo_m1.png\" srcset=\"https://cfl.dropboxstatic.com/static/images/illustration_catalog/sickbox-illo_m1@2x.png 2x\" alt=\"Error: 5xx\"/>\\n</div>\\n<div id=\"errorbox\">\\n<h1>Error</h1>Something went wrong. Don\\'t worry, your files are still safe and the Dropboxers have been notified. Check out our <a href=\"https://www.dropbox.com/help\">Help Center</a> and <a href=\"https://forums.dropbox.com\">forums</a> for help, or head back to <a href=\"https://www.dropbox.com/home\">home</a>.\\n</div>\\n\\n<script>\\nmessage = {\"ru\": \"\\\\u003ch1\\\\u003e\\\\u041e\\\\u0448\\\\u0438\\\\u0431\\\\u043a\\\\u0430 (5xx)\\\\u003c/h1\\\\u003e\\\\u041f\\\\u0440\\\\u043e\\\\u0438\\\\u0437\\\\u043e\\\\u0448\\\\u043b\\\\u0430 \\\\u043d\\\\u0435\\\\u0438\\\\u0437\\\\u0432\\\\u0435\\\\u0441\\\\u0442\\\\u043d\\\\u0430\\\\u044f \\\\u043e\\\\u0448\\\\u0438\\\\u0431\\\\u043a\\\\u0430. \\\\u041d\\\\u0435 \\\\u0431\\\\u0435\\\\u0441\\\\u043f\\\\u043e\\\\u043a\\\\u043e\\\\u0439\\\\u0442\\\\u0435\\\\u0441\\\\u044c, \\\\u0432\\\\u0430\\\\u0448\\\\u0438 \\\\u0444\\\\u0430\\\\u0439\\\\u043b\\\\u044b \\\\u043d\\\\u0435 \\\\u043f\\\\u043e\\\\u0441\\\\u0442\\\\u0440\\\\u0430\\\\u0434\\\\u0430\\\\u043b\\\\u0438, \\\\u0430 \\\\u0441\\\\u043e\\\\u0442\\\\u0440\\\\u0443\\\\u0434\\\\u043d\\\\u0438\\\\u043a\\\\u0438 Dropbox \\\\u043f\\\\u043e\\\\u043b\\\\u0443\\\\u0447\\\\u0438\\\\u043b\\\\u0438 \\\\u0443\\\\u0432\\\\u0435\\\\u0434\\\\u043e\\\\u043c\\\\u043b\\\\u0435\\\\u043d\\\\u0438\\\\u0435. \\\\u041f\\\\u0435\\\\u0440\\\\u0435\\\\u0439\\\\u0434\\\\u0438\\\\u0442\\\\u0435 \\\\u0432 \\\\u003ca href=\\\\\"https://www.dropbox.com/help\\\\\"\\\\u003e\\\\u0441\\\\u043f\\\\u0440\\\\u0430\\\\u0432\\\\u043e\\\\u0447\\\\u043d\\\\u044b\\\\u0439 \\\\u0446\\\\u0435\\\\u043d\\\\u0442\\\\u0440\\\\u003c/a\\\\u003e \\\\u0438\\\\u043b\\\\u0438 \\\\u043d\\\\u0430 \\\\u003ca href=\\\\\"https://forums.dropbox.com\\\\\"\\\\u003e\\\\u0444\\\\u043e\\\\u0440\\\\u0443\\\\u043c\\\\u044b\\\\u003c/a\\\\u003e \\\\u0434\\\\u043b\\\\u044f \\\\u043f\\\\u043e\\\\u043b\\\\u0443\\\\u0447\\\\u0435\\\\u043d\\\\u0438\\\\u044f \\\\u043f\\\\u043e\\\\u043c\\\\u043e\\\\u0449\\\\u0438 \\\\u0438\\\\u043b\\\\u0438 \\\\u0432\\\\u0435\\\\u0440\\\\u043d\\\\u0438\\\\u0442\\\\u0435\\\\u0441\\\\u044c \\\\u043d\\\\u0430 \\\\u003ca href=\\\\\"https://www.dropbox.com/home\\\\\"\\\\u003e\\\\u0434\\\\u043e\\\\u043c\\\\u0430\\\\u0448\\\\u043d\\\\u044e\\\\u044e \\\\u0441\\\\u0442\\\\u0440\\\\u0430\\\\u043d\\\\u0438\\\\u0446\\\\u0443\\\\u003c/a\\\\u003e.\", \"fr\": \"\\\\u003ch1\\\\u003eErreur (5xx)\\\\u003c/h1\\\\u003eUn probl\\\\u00e8me est survenu. Ne vous inqui\\\\u00e9tez pas, vos fichiers sont toujours en s\\\\u00e9curit\\\\u00e9 et les Dropboxeurs ont \\\\u00e9t\\\\u00e9 avertis. Consultez notre \\\\u003ca href=\\\\\"https://www.dropbox.com/help\\\\\"\\\\u003ecentre d\\'assistance\\\\u003c/a\\\\u003e et nos \\\\u003ca href=\\\\\"https://forums.dropbox.com\\\\\"\\\\u003eforums\\\\u003c/a\\\\u003e pour obtenir de l\\'aide, ou retournez sur la \\\\u003ca href=\\\\\"https://www.dropbox.com/home\\\\\"\\\\u003epage d\\'accueil\\\\u003c/a\\\\u003e.\", \"zh_TW\": \"\\\\u003ch1\\\\u003e\\\\u932f\\\\u8aa4 (5xx)\\\\u003c/h1\\\\u003e\\\\u767c\\\\u751f\\\\u932f\\\\u8aa4\\\\u3002\\\\u5225\\\\u64d4\\\\u5fc3\\\\uff0c\\\\u60a8\\\\u7684\\\\u6a94\\\\u6848\\\\u5b89\\\\u5168\\\\u7121\\\\u865e\\\\uff0c\\\\u5df2\\\\u901a\\\\u77e5 Dropbox \\\\u54e1\\\\u5de5\\\\u3002\\\\u8acb\\\\u5230\\\\u6211\\\\u5011\\\\u7684\\\\u003ca href=\\\\\"https://www.dropbox.com/help\\\\\"\\\\u003e\\\\u8aaa\\\\u660e\\\\u4e2d\\\\u5fc3\\\\u003c/a\\\\u003e\\\\u548c\\\\u003ca href=\\\\\"https://forums.dropbox.com\\\\\"\\\\u003e\\\\u8a0e\\\\u8ad6\\\\u5340\\\\u003c/a\\\\u003e\\\\u53d6\\\\u5f97\\\\u5354\\\\u52a9\\\\uff0c\\\\u6216\\\\u662f\\\\u56de\\\\u5230\\\\u003ca href=\\\\\"https://www.dropbox.com/home\\\\\"\\\\u003e\\\\u9996\\\\u9801\\\\u003c/a\\\\u003e\\\\u3002\", \"th_TH\": \"\\\\u003ch1\\\\u003e\\\\u0e02\\\\u0e49\\\\u0e2d\\\\u0e1c\\\\u0e34\\\\u0e14\\\\u0e1e\\\\u0e25\\\\u0e32\\\\u0e14 5xx\\\\u003c/h1\\\\u003e\\\\u0e21\\\\u0e35\\\\u0e1a\\\\u0e32\\\\u0e07\\\\u0e2d\\\\u0e22\\\\u0e48\\\\u0e32\\\\u0e07\\\\u0e17\\\\u0e35\\\\u0e48\\\\u0e44\\\\u0e21\\\\u0e48\\\\u0e16\\\\u0e39\\\\u0e01\\\\u0e15\\\\u0e49\\\\u0e2d\\\\u0e07 \\\\u0e44\\\\u0e21\\\\u0e48\\\\u0e15\\\\u0e49\\\\u0e2d\\\\u0e07\\\\u0e40\\\\u0e1b\\\\u0e47\\\\u0e19\\\\u0e2b\\\\u0e48\\\\u0e27\\\\u0e07 \\\\u0e44\\\\u0e1f\\\\u0e25\\\\u0e4c\\\\u0e02\\\\u0e2d\\\\u0e07\\\\u0e04\\\\u0e38\\\\u0e13\\\\u0e22\\\\u0e31\\\\u0e07\\\\u0e1b\\\\u0e25\\\\u0e2d\\\\u0e14\\\\u0e20\\\\u0e31\\\\u0e22\\\\u0e41\\\\u0e25\\\\u0e30 Dropboxer \\\\u0e44\\\\u0e14\\\\u0e49\\\\u0e23\\\\u0e31\\\\u0e1a\\\\u0e01\\\\u0e32\\\\u0e23\\\\u0e41\\\\u0e08\\\\u0e49\\\\u0e07\\\\u0e40\\\\u0e15\\\\u0e37\\\\u0e2d\\\\u0e19\\\\u0e41\\\\u0e25\\\\u0e49\\\\u0e27 \\\\u0e42\\\\u0e1b\\\\u0e23\\\\u0e14\\\\u0e14\\\\u0e39\\\\u0e23\\\\u0e32\\\\u0e22\\\\u0e25\\\\u0e30\\\\u0e40\\\\u0e2d\\\\u0e35\\\\u0e22\\\\u0e14\\\\u0e17\\\\u0e35\\\\u0e48 \\\\u003ca href=\\\\\"https://www.dropbox.com/help\\\\\"\\\\u003e\\\\u0e28\\\\u0e39\\\\u0e19\\\\u0e22\\\\u0e4c\\\\u0e04\\\\u0e27\\\\u0e32\\\\u0e21\\\\u0e0a\\\\u0e48\\\\u0e27\\\\u0e22\\\\u0e40\\\\u0e2b\\\\u0e25\\\\u0e37\\\\u0e2d\\\\u003c/a\\\\u003e \\\\u0e41\\\\u0e25\\\\u0e30 \\\\u003ca href=\\\\\"https://forums.dropbox.com\\\\\"\\\\u003e\\\\u0e1f\\\\u0e2d\\\\u0e23\\\\u0e31\\\\u0e21\\\\u003c/a\\\\u003e \\\\u0e40\\\\u0e1e\\\\u0e37\\\\u0e48\\\\u0e2d\\\\u0e02\\\\u0e2d\\\\u0e04\\\\u0e27\\\\u0e32\\\\u0e21\\\\u0e0a\\\\u0e48\\\\u0e27\\\\u0e22\\\\u0e40\\\\u0e2b\\\\u0e25\\\\u0e37\\\\u0e2d \\\\u0e2b\\\\u0e23\\\\u0e37\\\\u0e2d\\\\u0e01\\\\u0e25\\\\u0e31\\\\u0e1a\\\\u0e44\\\\u0e1b\\\\u0e17\\\\u0e35\\\\u0e48 \\\\u003ca href=\\\\\"https://www.dropbox.com/home\\\\\"\\\\u003e\\\\u0e2b\\\\u0e19\\\\u0e49\\\\u0e32\\\\u0e41\\\\u0e23\\\\u0e01\\\\u003c/a\\\\u003e\", \"pt_BR\": \"\\\\u003ch1\\\\u003eErro ( 5xx ).\\\\u003c/h1\\\\u003eDeu algo errado, mas n\\\\u00e3o se preocupe. Os seus arquivos permanecem em seguran\\\\u00e7a, e a equipe do Dropbox j\\\\u00e1 foi notificada. Confira nossa \\\\u003ca href=\\\\\"https://www.dropbox.com/help\\\\\"\\\\u003eCentral de ajuda\\\\u003c/a\\\\u003e e \\\\u003ca href=\\\\\"https://forums.dropbox.com\\\\\"\\\\u003enossos f\\\\u00f3runs\\\\u003c/a\\\\u003e para obter ajuda ou volte para a \\\\u003ca href=\\\\\"https://www.dropbox.com/home\\\\\"\\\\u003ep\\\\u00e1gina inicial\\\\u003c/a\\\\u003e.\", \"zh_CN\": \"\\\\u003ch1\\\\u003e\\\\u9519\\\\u8bef (5xx)\\\\u003c/h1\\\\u003e \\\\u51fa\\\\u73b0\\\\u95ee\\\\u9898\\\\u3002\\\\u522b\\\\u62c5\\\\u5fc3\\\\uff0c\\\\u60a8\\\\u7684\\\\u6587\\\\u4ef6\\\\u4ecd\\\\u5b89\\\\u5168\\\\uff0c\\\\u800c\\\\u4e14 Dropbox \\\\u5458\\\\u5de5\\\\u5df2\\\\u6536\\\\u5230\\\\u901a\\\\u77e5\\\\u3002\\\\u8bf7\\\\u67e5\\\\u9605\\\\u6211\\\\u4eec\\\\u7684\\\\u003ca href=\\\\\"https://www.dropbox.com/help\\\\\"\\\\u003e\\\\u5e2e\\\\u52a9\\\\u4e2d\\\\u5fc3\\\\u003c/a\\\\u003e\\\\u548c \\\\u003ca href=\\\\\"https://forums.dropbox.com\\\\\"\\\\u003e\\\\u8bba\\\\u575b\\\\u003c/a\\\\u003e\\\\u83b7\\\\u53d6\\\\u5e2e\\\\u52a9\\\\uff0c\\\\u6216\\\\u8fd4\\\\u56de \\\\u003ca href=\\\\\"https://www.dropbox.com/home\\\\\"\\\\u003e\\\\u4e3b\\\\u9875\\\\u003c/a\\\\u003e\\\\u3002\", \"da_DK\": \"\\\\u003ch1\\\\u003eFejl (5xx)\\\\u003c/h1\\\\u003e Noget gik galt. Men ingen grund til bekymring, dine filer er sikre, og Dropboxerne har f\\\\u00e5et besked. Tjek vores \\\\u003ca href=\\\\\"https://www.dropbox.com/help\\\\\"\\\\u003eHj\\\\u00e6lpecenter\\\\u003c/a\\\\u003e og \\\\u003ca href=\\\\\"https://forums.dropbox.com\\\\\"\\\\u003eforummer\\\\u003c/a\\\\u003e for hj\\\\u00e6lp, eller g\\\\u00e5 tilbage til \\\\u003ca href=\\\\\"https://www.dropbox.com/home\\\\\"\\\\u003estart\\\\u003c/a\\\\u003e.\", \"de\": \"\\\\u003ch1\\\\u003eFehler (5xx)\\\\u003c/h1\\\\u003eEtwas ist schiefgelaufen. Ihre Dateien sind aber immer noch sicher und Dropbox wurde benachrichtigt. Schauen Sie sich im \\\\u003ca href=\\\\\"https://www.dropbox.com/help\\\\\"\\\\u003eHilfecenter\\\\u003c/a\\\\u003e und in den \\\\u003ca href=\\\\\"https://forums.dropbox.com\\\\\"\\\\u003eForen\\\\u003c/a\\\\u003e um, wenn Sie Hilfe ben\\\\u00f6tigen, oder kehren Sie zur\\\\u00fcck auf die \\\\u003ca href=\\\\\"https://www.dropbox.com/home\\\\\"\\\\u003eStartseite\\\\u003c/a\\\\u003e.\", \"ko\": \"\\\\u003ch1\\\\u003e\\\\uc624\\\\ub958(5xx)\\\\u003c/h1\\\\u003e\\\\ubb38\\\\uc81c\\\\uac00 \\\\ubc1c\\\\uc0dd\\\\ud588\\\\uc2b5\\\\ub2c8\\\\ub2e4. \\\\ud30c\\\\uc77c\\\\uc740 \\\\uc548\\\\uc804\\\\ud558\\\\uac8c \\\\ubcf4\\\\uad00\\\\ub418\\\\uc5b4 \\\\uc788\\\\uc73c\\\\ub2c8 \\\\uc548\\\\uc2ec\\\\ud558\\\\uc138\\\\uc694. \\\\uc774 \\\\ubb38\\\\uc81c\\\\ub294 Dropbox \\\\ub2f4\\\\ub2f9\\\\uc790\\\\uc5d0\\\\uac8c \\\\uc804\\\\ub2ec\\\\ub418\\\\uc5c8\\\\uc73c\\\\uba70, \\\\ub3c4\\\\uc6c0\\\\uc774 \\\\ud544\\\\uc694\\\\ud55c \\\\uacbd\\\\uc6b0 Dropbox\\\\uc758 \\\\u003ca href=\\\\\"https://www.dropbox.com/help\\\\\"\\\\u003e\\\\ub3c4\\\\uc6c0\\\\ub9d0 \\\\uc13c\\\\ud130\\\\u003c/a\\\\u003e \\\\ubc0f \\\\u003ca href=\\\\\"https://forums.dropbox.com\\\\\"\\\\u003e\\\\ud3ec\\\\ub7fc\\\\u003c/a\\\\u003e\\\\uc744 \\\\ucc38\\\\uc870\\\\ud558\\\\uac70\\\\ub098 \\\\u003ca href=\\\\\"https://www.dropbox.com/home\\\\\"\\\\u003e\\\\ud648\\\\u003c/a\\\\u003e\\\\uc73c\\\\ub85c \\\\ub3cc\\\\uc544\\\\uac00\\\\uc138\\\\uc694.\", \"it\": \"\\\\u003ch1\\\\u003eErrore (5xx)\\\\u003c/h1\\\\u003eQualcosa \\\\u00e8 andato storto. Non ti preoccupare i tuoi file sono comunque al sicuro e i Dropboxer sono stati notificati. Consulta il \\\\u003ca href=\\\\\"https://www.dropbox.com/help\\\\\"\\\\u003eCentro assistenza\\\\u003c/a\\\\u003e e \\\\u003ca href=\\\\\"https://forums.dropbox.com\\\\\"\\\\u003ei forum\\\\u003c/a\\\\u003e per assistenza oppure torna alla \\\\u003ca href=\\\\\"https://www.dropbox.com/home\\\\\"\\\\u003ehomepage\\\\u003c/a\\\\u003e.\", \"ja\": \"\\\\u003ch1\\\\u003e\\\\u30a8\\\\u30e9\\\\u30fc\\\\uff085xx\\\\uff09\\\\u304c\\\\u767a\\\\u751f\\\\u3057\\\\u307e\\\\u3057\\\\u305f\\\\u3002\\\\u003c/h1\\\\u003e\\\\u30d5\\\\u30a1\\\\u30a4\\\\u30eb\\\\u306f\\\\u5b89\\\\u5168\\\\u3067\\\\u3059\\\\u306e\\\\u3067\\\\u3054\\\\u5b89\\\\u5fc3\\\\u304f\\\\u3060\\\\u3055\\\\u3044\\\\u3002Dropbox \\\\u306b\\\\u306f\\\\u65e2\\\\u306b\\\\u901a\\\\u77e5\\\\u3055\\\\u308c\\\\u3066\\\\u3044\\\\u307e\\\\u3059\\\\u3002\\\\u003ca href=\\\\\"https://www.dropbox.com/help\\\\\"\\\\u003e\\\\u30d8\\\\u30eb\\\\u30d7\\\\u30bb\\\\u30f3\\\\u30bf\\\\u30fc\\\\u003c/a\\\\u003e\\\\u3084\\\\u003ca href=\\\\\"https://forums.dropbox.com\\\\\"\\\\u003e\\\\u30d5\\\\u30a9\\\\u30fc\\\\u30e9\\\\u30e0\\\\u003c/a\\\\u003e\\\\u3092\\\\u53c2\\\\u7167\\\\u3059\\\\u308b\\\\u304b\\\\u3001[\\\\u003ca href=\\\\\"https://www.dropbox.com/home\\\\\"\\\\u003e\\\\u30db\\\\u30fc\\\\u30e0\\\\u003c/a\\\\u003e] \\\\u30da\\\\u30fc\\\\u30b8\\\\u306b\\\\u623b\\\\u3063\\\\u3066\\\\u304f\\\\u3060\\\\u3055\\\\u3044\\\\u3002\", \"uk_UA\": \"\\\\u003ch1\\\\u003e\\\\u041f\\\\u043e\\\\u043c\\\\u0438\\\\u043b\\\\u043a\\\\u0430 (5xx)\\\\u003c/h1\\\\u003e\\\\u0429\\\\u043e\\\\u0441\\\\u044c \\\\u043f\\\\u0456\\\\u0448\\\\u043b\\\\u043e \\\\u043d\\\\u0435 \\\\u0442\\\\u0430\\\\u043a. \\\\u041d\\\\u0435 \\\\u0445\\\\u0432\\\\u0438\\\\u043b\\\\u044e\\\\u0439\\\\u0442\\\\u0435\\\\u0441\\\\u044f, \\\\u0432\\\\u0430\\\\u0448\\\\u0456 \\\\u0444\\\\u0430\\\\u0439\\\\u043b\\\\u0438 \\\\u0432 \\\\u0431\\\\u0435\\\\u0437\\\\u043f\\\\u0435\\\\u0446\\\\u0456, \\\\u0430 \\\\u043f\\\\u0440\\\\u0430\\\\u0446\\\\u0456\\\\u0432\\\\u043d\\\\u0438\\\\u043a\\\\u0438 Dropbox \\\\u0443\\\\u0436\\\\u0435 \\\\u0432 \\\\u043a\\\\u0443\\\\u0440\\\\u0441\\\\u0456 \\\\u043f\\\\u043e\\\\u0434\\\\u0456\\\\u0439. \\\\u041f\\\\u0435\\\\u0440\\\\u0435\\\\u0433\\\\u043b\\\\u044f\\\\u043d\\\\u044c\\\\u0442\\\\u0435 \\\\u003ca href=\\\\\"https://www.dropbox.com/help\\\\\"\\\\u003e\\\\u0426\\\\u0435\\\\u043d\\\\u0442\\\\u0440 \\\\u0434\\\\u043e\\\\u0432\\\\u0456\\\\u0434\\\\u043a\\\\u0438\\\\u003c/a\\\\u003e \\\\u0442\\\\u0430 \\\\u003ca href=\\\\\"https://forums.dropbox.com\\\\\"\\\\u003e\\\\u0444\\\\u043e\\\\u0440\\\\u0443\\\\u043c\\\\u0438\\\\u003c/a\\\\u003e \\\\u0430\\\\u0431\\\\u043e \\\\u043f\\\\u043e\\\\u0432\\\\u0435\\\\u0440\\\\u043d\\\\u0456\\\\u0442\\\\u044c\\\\u0441\\\\u044f \\\\u043d\\\\u0430 \\\\u003ca href=\\\\\"https://www.dropbox.com/home\\\\\"\\\\u003e\\\\u0433\\\\u043e\\\\u043b\\\\u043e\\\\u0432\\\\u043d\\\\u0443 \\\\u0441\\\\u0442\\\\u043e\\\\u0440\\\\u0456\\\\u043d\\\\u043a\\\\u0443\\\\u003c/a\\\\u003e.\", \"nl_NL\": \"\\\\u003ch1\\\\u003eFout (5xx).\\\\u003c/h1\\\\u003eEr is iets misgegaan. Maak je geen zorgen, je bestanden zijn veilig en de Dropboxers zijn op de hoogte gesteld. Kijk in ons \\\\u003ca href=\\\\\"https://www.dropbox.com/help\\\\\"\\\\u003eHelpcentrum\\\\u003c/a\\\\u003e en de \\\\u003ca href=\\\\\"https://forums.dropbox.com\\\\\"\\\\u003eforums\\\\u003c/a\\\\u003e voor hulp of ga terug naar de \\\\u003ca href=\\\\\"https://www.dropbox.com/home\\\\\"\\\\u003estartpagina\\\\u003c/a\\\\u003e.\", \"pl\": \"\\\\u003ch1\\\\u003eB\\\\u0142\\\\u0105d (5xx)\\\\u003c/h1\\\\u003eWyst\\\\u0105pi\\\\u0142y problemy. Nie martw si\\\\u0119, Twoje pliki s\\\\u0105 nadal bezpieczne, a\\\\u00a0pracownicy us\\\\u0142ugi Dropbox zostali powiadomieni. Odwied\\\\u017a \\\\u003ca href=\\\\\"https://www.dropbox.com/help\\\\\"\\\\u003eCentrum pomocy\\\\u003c/a\\\\u003e i\\\\u00a0\\\\u003ca href=\\\\\"https://forums.dropbox.com\\\\\"\\\\u003efora\\\\u003c/a\\\\u003e, aby uzyska\\\\u0107 pomoc, lub przejd\\\\u017a do \\\\u003ca href=\\\\\"https://www.dropbox.com/home\\\\\"\\\\u003estrony g\\\\u0142\\\\u00f3wnej\\\\u003c/a\\\\u003e.\", \"sv_SE\": \"\\\\u003ch1\\\\u003eFel (5xx)\\\\u003c/h1\\\\u003e N\\\\u00e5got gick fel. Oroa dig inte. Dina filer \\\\u00e4r fortfarande s\\\\u00e4kra och Dropboxare har meddelats. Kolla in v\\\\u00e5rt \\\\u003ca href=\\\\\"https://www.dropbox.com/help\\\\\"\\\\u003eHj\\\\u00e4lpcenter\\\\u003c/a\\\\u003e och \\\\u003ca href=\\\\\"https://forums.dropbox.com\\\\\"\\\\u003ev\\\\u00e5ra forum\\\\u003c/a\\\\u003e f\\\\u00f6r att f\\\\u00e5 hj\\\\u00e4lp eller g\\\\u00e5 tillbaka till \\\\u003ca href=\\\\\"https://www.dropbox.com/home\\\\\"\\\\u003estartsidan.\\\\u003c/a\\\\u003e\", \"en_GB\": \"\\\\u003ch1\\\\u003eError (5xx)\\\\u003c/h1\\\\u003eSomething went wrong. Don\\'t worry, your files are still safe and the Dropboxers have been notified. Check out our \\\\u003ca href=\\\\\"https://www.dropbox.com/help\\\\\"\\\\u003eHelp Centre\\\\u003c/a\\\\u003e and \\\\u003ca href=\\\\\"https://forums.dropbox.com\\\\\"\\\\u003eforums\\\\u003c/a\\\\u003e for help, or head back \\\\u003ca href=\\\\\"https://www.dropbox.com/home\\\\\"\\\\u003ehome\\\\u003c/a\\\\u003e.\", \"ms\": \"\\\\u003ch1\\\\u003eRalat (5xx)\\\\u003c/h1\\\\u003eAda sesuatu yang tidak kena. Jangan risau, fail masih selamat dan Dropboxer telah dimaklumkan. Lihat \\\\u003ca href=\\\\\"https://www.dropbox.com/help\\\\\"\\\\u003ePusat Bantuan\\\\u003c/a\\\\u003e dan \\\\u003ca href=\\\\\"https://forums.dropbox.com\\\\\"\\\\u003eforum\\\\u003c/a\\\\u003e kami untuk bantuan, atau kembali ke \\\\u003ca href=\\\\\"https://www.dropbox.com/home\\\\\"\\\\u003eutama\\\\u003c/a\\\\u003e.\", \"es_ES\": \"\\\\u003ch1\\\\u003eError (5xx)\\\\u003c/h1\\\\u003eSe ha producido un error. No te preocupes, los archivos est\\\\u00e1n a salvo y los Dropboxers est\\\\u00e1n al tanto. Visita nuestro \\\\u003ca href=\\\\\"https://www.dropbox.com/help\\\\\"\\\\u003eCentro de ayuda\\\\u003c/a\\\\u003e y los \\\\u003ca href=\\\\\"https://forums.dropbox.com\\\\\"\\\\u003eforos\\\\u003c/a\\\\u003e si necesitas que te echen una mano, o bien vuelve a la \\\\u003ca href=\\\\\"https://www.dropbox.com/home\\\\\"\\\\u003ep\\\\u00e1gina principal\\\\u003c/a\\\\u003e.\", \"nb_NO\": \"\\\\u003ch1\\\\u003eFeilmelding (5xx)\\\\u003c/h1\\\\u003eNoe gikk galt. Ikke bekymre deg, filene dine er trygge og Dropbox er varslet. Sjekk ut v\\\\u00e5rt \\\\u003ca href=\\\\\"https://www.dropbox.com/help\\\\\"\\\\u003ehjelpesenter\\\\u003c/a\\\\u003e og \\\\u003ca href=\\\\\"https://forums.dropbox.com\\\\\"\\\\u003efora\\\\u003c/a\\\\u003e for hjelp, eller g\\\\u00e5 tilbake til \\\\u003ca href=\\\\\"https://www.dropbox.com/home\\\\\"\\\\u003ehjemmesiden\\\\u003c/a\\\\u003e.\", \"id\": \"\\\\u003ch1\\\\u003eKesalahan(5xx)\\\\u003c/h1\\\\u003eAda yang salah. Jangan cemas, file Anda tetap aman dan Dropboxer sudah diberi tahu. Kunjungi \\\\u003ca href=\\\\\"https://www.dropbox.com/help\\\\\"\\\\u003ePusat Bantuan\\\\u003c/a\\\\u003e dan \\\\u003ca href=\\\\\"https://forums.dropbox.com\\\\\"\\\\u003eforum\\\\u003c/a\\\\u003e kami untuk mendapatkan bantuan, atau kembalilah ke \\\\u003ca href=\\\\\"https://www.dropbox.com/home\\\\\"\\\\u003ehalaman awal\\\\u003c/a\\\\u003e.\", \"es\": \"\\\\u003ch1\\\\u003eError (5xx)\\\\u003c/h1\\\\u003eSe ha producido un error. No te preocupes, los archivos est\\\\u00e1n a salvo y los Dropboxers est\\\\u00e1n al tanto. Visita nuestro \\\\u003ca href=\\\\\"https://www.dropbox.com/help\\\\\"\\\\u003eCentro de ayuda\\\\u003c/a\\\\u003e y los \\\\u003ca href=\\\\\"https://forums.dropbox.com\\\\\"\\\\u003eforos\\\\u003c/a\\\\u003e si necesitas que te echen una mano, o bien vuelve a la \\\\u003ca href=\\\\\"https://www.dropbox.com/home\\\\\"\\\\u003ep\\\\u00e1gina principal\\\\u003c/a\\\\u003e.\"};\\nfunction read_cookie (name) {\\n        var nameEQ = name + \"=\";\\n        var ca = document.cookie.split(\\';\\');\\n        for (var i = 0; i < ca.length; i++) {\\n            var c = ca[i];\\n            while (c.charAt(0) == \\' \\') {\\n                c = c.substring(1, c.length);\\n            }\\n            if (c.indexOf(nameEQ) === 0) {\\n                return c.substring(nameEQ.length, c.length);\\n            }\\n        }\\n        return null;\\n}\\nfunction localize() {\\n    var locale = read_cookie(\\'locale\\');\\n    if (locale) {\\n       var msg = message[locale];\\n       if (msg) {\\n           var elem = document.getElementById(\\'errorbox\\');\\n           if (elem) {\\n               elem.innerHTML = msg;\\n           }\\n       }\\n    }\\n}\\nlocalize();\\n</script>\\n\\n</body>\\n</html>\\n'\n"
          ],
          "name": "stdout"
        }
      ]
    },
    {
      "cell_type": "code",
      "metadata": {
        "colab": {
          "base_uri": "https://localhost:8080/"
        },
        "id": "G-GUglRB5Q4Y",
        "outputId": "499fb84b-6c9f-4d30-ee3f-cd2df42f0f67"
      },
      "source": [
        "import pickle\n",
        "stations_list_geocoded_loaded =[]\n",
        "pickled_file = \"stations_list_geocoded.pkls\"\n",
        "if os.path.exists(pickled_file): \n",
        "  print('Loading the stations_list_geocoded')\n",
        "  with open(pickled_file, \"rb\") as f:\n",
        "    stations_list_geocoded_loaded = pickle.load(f)\n",
        "    print('Done')\n",
        "  #stations_list_geocoded_loaded\n",
        "else:\n",
        "  print(f'{pickled_file} file does not exist on local disk')\n",
        "  ans = input('There is a default shot list defined, would you like to use it? YES/NO: ')\n",
        "  if (ans == 'YES'):\n",
        "    stations_list_geocoded_loaded = [['אדגו', 'זלמן שזר 1 חדרה', '32.4353872', '34.9118045'],\n",
        " ['אלונים', 'צומת אלונים', '32.70921', '35.142188'],\n",
        " ['אשל אברהם', 'באר שבע', '31.2457442', '34.7925181'],\n",
        " ['מיקה וולפסון', 'הלוחמים 1 חולון', '32.034701299999995', '34.77136495'],\n",
        " ['הסיבים', 'הסיבים 35 פ\"ת', '32.0923047', '34.8572837'],\n",
        " ['הר תמיר', 'יעקב אליאב 1 גבעת שאול י-ם', '31.79496315', '35.18778583710159'],\n",
        " ['השבעה', 'דרך ירושלים 20 אזור', '31.525315', '34.603912'],\n",
        " ['טייבה', 'צומת השרון', '32.323644', '34.902989'],\n",
        " ['יאסין', 'באקה אל גרבייה', '32.4197144', '35.0428311'],\n",
        " ['דלק ירכא', 'ירכא', '32.9548871', '35.2087895'],\n",
        " ['דורון כפר סבא', 'נתיב האבות 1 כפר סבא', '32.1751957', '34.8911412'],\n",
        " ['אורות', 'דרך בר יהודה 34 חיפה', '32.7902739', '35.0266879'],\n",
        " ['סונול הבנים', 'הרצל 6 רמלה', '31.9349523', '34.8673488'],\n",
        " ['שעריים', 'הרצל 68 רחובות', '31.8937495', '34.8117132'],\n",
        " ['גבעונים', 'צומת גבעת זאב', '31.8705007', '35.1774813'],\n",
        " ['גל צומת הערבה', 'צומת הערבה', '30.987586', '35.308952'],\n",
        " ['מירון', 'צומת מירון-צפת', '32.987689', '35.442719'],\n",
        " ['גן לונדון', 'הירקון 83\\n תל אביב', '32.0777722', '34.76685'],\n",
        " ['געתון', 'כביש עכו נהריה', '33.0476412', '35.1407717'],\n",
        " ['דרור זקס', 'צומת דרור', '32.257813', '34.900012'],\n",
        " ['נוה יעקב', 'שכונת נווה יעקב ירושלים', '32.0502416', '34.7854123'],\n",
        " ['מבואות דליה', 'דלית אל כרמל', '32.6922393', '35.0482785'],\n",
        " ['פארק אפק', 'כפר קאסם 49940', '32.1139357', '34.9760002'],\n",
        " ['פוליבה', 'רמלה', '31.9279988', '34.8623473'],\n",
        " ['הנביאים הדר חיפה', 'לבונטין 3 חיפה 33303', '32.8132268', '34.9934915']]\n",
        "  print(f'The default list was loaded successfully')\n",
        "\n",
        "print(f' The list of geo-coded stations includes: {len(stations_list_geocoded_loaded)} lines')"
      ],
      "execution_count": 18,
      "outputs": [
        {
          "output_type": "stream",
          "text": [
            "stations_list_geocoded.pkls file does not exist on local disk\n",
            "There is a default shot list defined, would you like to use it? YES/NO: YES\n",
            "The default list was loaded successfully\n",
            " The list of geo-coded stations includes: 25 lines\n"
          ],
          "name": "stdout"
        }
      ]
    },
    {
      "cell_type": "code",
      "metadata": {
        "id": "X94K8hRM89m3",
        "colab": {
          "base_uri": "https://localhost:8080/"
        },
        "outputId": "e71ff5c7-cffc-4be2-f015-a8d212f1f400"
      },
      "source": [
        "print(f' The list of geo-coded stations includes: {len(stations_list_geocoded_loaded)} lines')"
      ],
      "execution_count": 19,
      "outputs": [
        {
          "output_type": "stream",
          "text": [
            " The list of geo-coded stations includes: 25 lines\n"
          ],
          "name": "stdout"
        }
      ]
    },
    {
      "cell_type": "code",
      "metadata": {
        "id": "UI39c3RJRYUS"
      },
      "source": [
        "# View the list \n",
        "#stations_list_geocoded_loaded"
      ],
      "execution_count": 20,
      "outputs": []
    },
    {
      "cell_type": "markdown",
      "metadata": {
        "id": "ALHz3yY7JVzm"
      },
      "source": [
        "# Creating the functions required for creating a new map and adding stations names and locations"
      ]
    },
    {
      "cell_type": "markdown",
      "metadata": {
        "id": "stGdWzBOUN0v"
      },
      "source": [
        "Create initial map object"
      ]
    },
    {
      "cell_type": "code",
      "metadata": {
        "id": "_zzCIeD4J1l1"
      },
      "source": [
        "def create_initial_map_location(station_name, lat, lon):\n",
        "  # import the library\n",
        "  import folium\n",
        "  # Make a map with deep zoom\n",
        "  m1 = folium.Map(location=[float(lat),float(lon) ], tiles=\"OpenStreetMap\", zoom_start=15)\n",
        "  # Add the Marker\n",
        "  folium.Marker(\n",
        "      location=[float(lat),float(lon)],\n",
        "      popup=station_name,\n",
        "  ).add_to(m1)\n",
        "  print('A new map object was created')\n",
        "  # Show the map\n",
        "  return(m1)\n"
      ],
      "execution_count": 21,
      "outputs": []
    },
    {
      "cell_type": "code",
      "metadata": {
        "colab": {
          "base_uri": "https://localhost:8080/"
        },
        "id": "VcXH0ALJUz_N",
        "outputId": "fbda6a2b-d10c-4db9-9877-be5da9719d8d"
      },
      "source": [
        "# Check the function\n",
        "station_map = create_initial_map_location('NEW STATION', 32.10405558, 34.87346514896540)"
      ],
      "execution_count": 22,
      "outputs": [
        {
          "output_type": "stream",
          "text": [
            "A new map object was created\n"
          ],
          "name": "stdout"
        }
      ]
    },
    {
      "cell_type": "code",
      "metadata": {
        "id": "OBMym-7ZrEbd",
        "colab": {
          "base_uri": "https://localhost:8080/",
          "height": 580
        },
        "outputId": "3e621dbd-14c4-4d4f-951e-7b4fc2547ac3"
      },
      "source": [
        "# Show the map\n",
        "station_map"
      ],
      "execution_count": 23,
      "outputs": [
        {
          "output_type": "execute_result",
          "data": {
            "text/html": [
              "<div style=\"width:100%;\"><div style=\"position:relative;width:100%;height:0;padding-bottom:60%;\"><span style=\"color:#565656\">Make this Notebook Trusted to load map: File -> Trust Notebook</span><iframe src=\"about:blank\" style=\"position:absolute;width:100%;height:100%;left:0;top:0;border:none !important;\" data-html=%3C%21DOCTYPE%20html%3E%0A%3Chead%3E%20%20%20%20%0A%20%20%20%20%3Cmeta%20http-equiv%3D%22content-type%22%20content%3D%22text/html%3B%20charset%3DUTF-8%22%20/%3E%0A%20%20%20%20%3Cscript%3EL_PREFER_CANVAS%3Dfalse%3B%20L_NO_TOUCH%3Dfalse%3B%20L_DISABLE_3D%3Dfalse%3B%3C/script%3E%0A%20%20%20%20%3Cscript%20src%3D%22https%3A//cdn.jsdelivr.net/npm/leaflet%401.4.0/dist/leaflet.js%22%3E%3C/script%3E%0A%20%20%20%20%3Cscript%20src%3D%22https%3A//code.jquery.com/jquery-1.12.4.min.js%22%3E%3C/script%3E%0A%20%20%20%20%3Cscript%20src%3D%22https%3A//maxcdn.bootstrapcdn.com/bootstrap/3.2.0/js/bootstrap.min.js%22%3E%3C/script%3E%0A%20%20%20%20%3Cscript%20src%3D%22https%3A//cdnjs.cloudflare.com/ajax/libs/Leaflet.awesome-markers/2.0.2/leaflet.awesome-markers.js%22%3E%3C/script%3E%0A%20%20%20%20%3Clink%20rel%3D%22stylesheet%22%20href%3D%22https%3A//cdn.jsdelivr.net/npm/leaflet%401.4.0/dist/leaflet.css%22/%3E%0A%20%20%20%20%3Clink%20rel%3D%22stylesheet%22%20href%3D%22https%3A//maxcdn.bootstrapcdn.com/bootstrap/3.2.0/css/bootstrap.min.css%22/%3E%0A%20%20%20%20%3Clink%20rel%3D%22stylesheet%22%20href%3D%22https%3A//maxcdn.bootstrapcdn.com/bootstrap/3.2.0/css/bootstrap-theme.min.css%22/%3E%0A%20%20%20%20%3Clink%20rel%3D%22stylesheet%22%20href%3D%22https%3A//maxcdn.bootstrapcdn.com/font-awesome/4.6.3/css/font-awesome.min.css%22/%3E%0A%20%20%20%20%3Clink%20rel%3D%22stylesheet%22%20href%3D%22https%3A//cdnjs.cloudflare.com/ajax/libs/Leaflet.awesome-markers/2.0.2/leaflet.awesome-markers.css%22/%3E%0A%20%20%20%20%3Clink%20rel%3D%22stylesheet%22%20href%3D%22https%3A//rawcdn.githack.com/python-visualization/folium/master/folium/templates/leaflet.awesome.rotate.css%22/%3E%0A%20%20%20%20%3Cstyle%3Ehtml%2C%20body%20%7Bwidth%3A%20100%25%3Bheight%3A%20100%25%3Bmargin%3A%200%3Bpadding%3A%200%3B%7D%3C/style%3E%0A%20%20%20%20%3Cstyle%3E%23map%20%7Bposition%3Aabsolute%3Btop%3A0%3Bbottom%3A0%3Bright%3A0%3Bleft%3A0%3B%7D%3C/style%3E%0A%20%20%20%20%0A%20%20%20%20%3Cmeta%20name%3D%22viewport%22%20content%3D%22width%3Ddevice-width%2C%0A%20%20%20%20%20%20%20%20initial-scale%3D1.0%2C%20maximum-scale%3D1.0%2C%20user-scalable%3Dno%22%20/%3E%0A%20%20%20%20%3Cstyle%3E%23map_09fa97b971d44bafb55eb8b118a0d457%20%7B%0A%20%20%20%20%20%20%20%20position%3A%20relative%3B%0A%20%20%20%20%20%20%20%20width%3A%20100.0%25%3B%0A%20%20%20%20%20%20%20%20height%3A%20100.0%25%3B%0A%20%20%20%20%20%20%20%20left%3A%200.0%25%3B%0A%20%20%20%20%20%20%20%20top%3A%200.0%25%3B%0A%20%20%20%20%20%20%20%20%7D%0A%20%20%20%20%3C/style%3E%0A%3C/head%3E%0A%3Cbody%3E%20%20%20%20%0A%20%20%20%20%0A%20%20%20%20%3Cdiv%20class%3D%22folium-map%22%20id%3D%22map_09fa97b971d44bafb55eb8b118a0d457%22%20%3E%3C/div%3E%0A%3C/body%3E%0A%3Cscript%3E%20%20%20%20%0A%20%20%20%20%0A%20%20%20%20%0A%20%20%20%20%20%20%20%20var%20bounds%20%3D%20null%3B%0A%20%20%20%20%0A%0A%20%20%20%20var%20map_09fa97b971d44bafb55eb8b118a0d457%20%3D%20L.map%28%0A%20%20%20%20%20%20%20%20%27map_09fa97b971d44bafb55eb8b118a0d457%27%2C%20%7B%0A%20%20%20%20%20%20%20%20center%3A%20%5B32.10405558%2C%2034.8734651489654%5D%2C%0A%20%20%20%20%20%20%20%20zoom%3A%2015%2C%0A%20%20%20%20%20%20%20%20maxBounds%3A%20bounds%2C%0A%20%20%20%20%20%20%20%20layers%3A%20%5B%5D%2C%0A%20%20%20%20%20%20%20%20worldCopyJump%3A%20false%2C%0A%20%20%20%20%20%20%20%20crs%3A%20L.CRS.EPSG3857%2C%0A%20%20%20%20%20%20%20%20zoomControl%3A%20true%2C%0A%20%20%20%20%20%20%20%20%7D%29%3B%0A%0A%0A%20%20%20%20%0A%20%20%20%20var%20tile_layer_fe0132f7af59426a93fb33a9665a19f3%20%3D%20L.tileLayer%28%0A%20%20%20%20%20%20%20%20%27https%3A//%7Bs%7D.tile.openstreetmap.org/%7Bz%7D/%7Bx%7D/%7By%7D.png%27%2C%0A%20%20%20%20%20%20%20%20%7B%0A%20%20%20%20%20%20%20%20%22attribution%22%3A%20null%2C%0A%20%20%20%20%20%20%20%20%22detectRetina%22%3A%20false%2C%0A%20%20%20%20%20%20%20%20%22maxNativeZoom%22%3A%2018%2C%0A%20%20%20%20%20%20%20%20%22maxZoom%22%3A%2018%2C%0A%20%20%20%20%20%20%20%20%22minZoom%22%3A%200%2C%0A%20%20%20%20%20%20%20%20%22noWrap%22%3A%20false%2C%0A%20%20%20%20%20%20%20%20%22opacity%22%3A%201%2C%0A%20%20%20%20%20%20%20%20%22subdomains%22%3A%20%22abc%22%2C%0A%20%20%20%20%20%20%20%20%22tms%22%3A%20false%0A%7D%29.addTo%28map_09fa97b971d44bafb55eb8b118a0d457%29%3B%0A%20%20%20%20%0A%20%20%20%20%20%20%20%20var%20marker_8f5399fb90a14d42b22135738903ba63%20%3D%20L.marker%28%0A%20%20%20%20%20%20%20%20%20%20%20%20%5B32.10405558%2C%2034.8734651489654%5D%2C%0A%20%20%20%20%20%20%20%20%20%20%20%20%7B%0A%20%20%20%20%20%20%20%20%20%20%20%20%20%20%20%20icon%3A%20new%20L.Icon.Default%28%29%2C%0A%20%20%20%20%20%20%20%20%20%20%20%20%20%20%20%20%7D%0A%20%20%20%20%20%20%20%20%20%20%20%20%29.addTo%28map_09fa97b971d44bafb55eb8b118a0d457%29%3B%0A%20%20%20%20%20%20%20%20%0A%20%20%20%20%0A%20%20%20%20%20%20%20%20%20%20%20%20var%20popup_c315ae8a3245482bb82145b560614e5a%20%3D%20L.popup%28%7BmaxWidth%3A%20%27100%25%27%0A%20%20%20%20%20%20%20%20%20%20%20%20%0A%20%20%20%20%20%20%20%20%20%20%20%20%7D%29%3B%0A%0A%20%20%20%20%20%20%20%20%20%20%20%20%0A%20%20%20%20%20%20%20%20%20%20%20%20%20%20%20%20var%20html_ffab13f4b037439194b8a5181911fa74%20%3D%20%24%28%60%3Cdiv%20id%3D%22html_ffab13f4b037439194b8a5181911fa74%22%20style%3D%22width%3A%20100.0%25%3B%20height%3A%20100.0%25%3B%22%3ENEW%20STATION%3C/div%3E%60%29%5B0%5D%3B%0A%20%20%20%20%20%20%20%20%20%20%20%20%20%20%20%20popup_c315ae8a3245482bb82145b560614e5a.setContent%28html_ffab13f4b037439194b8a5181911fa74%29%3B%0A%20%20%20%20%20%20%20%20%20%20%20%20%0A%0A%20%20%20%20%20%20%20%20%20%20%20%20marker_8f5399fb90a14d42b22135738903ba63.bindPopup%28popup_c315ae8a3245482bb82145b560614e5a%29%0A%20%20%20%20%20%20%20%20%20%20%20%20%3B%0A%0A%20%20%20%20%20%20%20%20%20%20%20%20%0A%20%20%20%20%20%20%20%20%0A%3C/script%3E onload=\"this.contentDocument.open();this.contentDocument.write(    decodeURIComponent(this.getAttribute('data-html')));this.contentDocument.close();\" allowfullscreen webkitallowfullscreen mozallowfullscreen></iframe></div></div>"
            ],
            "text/plain": [
              "<folium.folium.Map at 0x7fe15fc649d0>"
            ]
          },
          "metadata": {
            "tags": []
          },
          "execution_count": 23
        }
      ]
    },
    {
      "cell_type": "markdown",
      "metadata": {
        "id": "wk03bUPFTfug"
      },
      "source": [
        "Check geo-code for address"
      ]
    },
    {
      "cell_type": "code",
      "metadata": {
        "id": "JW-4QOe0KQaq"
      },
      "source": [
        "def check_geocode_for_address(address_string):\n",
        "  import geopy\n",
        "  from geopy.geocoders import Nominatim\n",
        "  import time\n",
        "  # instantiate a new Nominatim client\n",
        "  app = Nominatim(user_agent=\"tutorial\")\n",
        "  time.sleep(1) # as the Nominatim requires minimum of 1 sec between requests\n",
        "  try:\n",
        "      geo_location = app.geocode(address_string).raw\n",
        "      latitude = geo_location[\"lat\"]\n",
        "      longitude = geo_location[\"lon\"]\n",
        "      return(['OK',longitude,longitude])\n",
        "  except:\n",
        "      #print('Could not find geolocation for: ', address_string) \n",
        "      return(['NOK',address_string])"
      ],
      "execution_count": 24,
      "outputs": []
    },
    {
      "cell_type": "code",
      "metadata": {
        "colab": {
          "base_uri": "https://localhost:8080/"
        },
        "id": "sa-SfGpqN28z",
        "outputId": "c0f02cb4-858a-4fc1-c592-786f831a1d86"
      },
      "source": [
        "# Check the function - positive\n",
        "check_geocode_for_address('דרך ארץ 2 חריש') # expect positive answer"
      ],
      "execution_count": 25,
      "outputs": [
        {
          "output_type": "execute_result",
          "data": {
            "text/plain": [
              "['OK', '35.0383241', '35.0383241']"
            ]
          },
          "metadata": {
            "tags": []
          },
          "execution_count": 25
        }
      ]
    },
    {
      "cell_type": "code",
      "metadata": {
        "colab": {
          "base_uri": "https://localhost:8080/"
        },
        "id": "UL4pGXCuzTqs",
        "outputId": "1793546e-d222-437b-af9c-ac0b8901f384"
      },
      "source": [
        "# Check the function - causal\n",
        "check_geocode_for_address('זכרון יעקב 25 פתח תקווה ישראל')"
      ],
      "execution_count": 26,
      "outputs": [
        {
          "output_type": "execute_result",
          "data": {
            "text/plain": [
              "['OK', '34.8771646', '34.8771646']"
            ]
          },
          "metadata": {
            "tags": []
          },
          "execution_count": 26
        }
      ]
    },
    {
      "cell_type": "code",
      "metadata": {
        "colab": {
          "base_uri": "https://localhost:8080/"
        },
        "id": "4JDe13f2OHpl",
        "outputId": "033c8f97-4227-4afd-9707-bac6de7c5123"
      },
      "source": [
        "# Check the function - negative\n",
        "check_geocode_for_address('המתכנן 10 א.ת. דרומי אשקלון') #expect negative answer"
      ],
      "execution_count": 27,
      "outputs": [
        {
          "output_type": "execute_result",
          "data": {
            "text/plain": [
              "['NOK', 'המתכנן 10 א.ת. דרומי אשקלון']"
            ]
          },
          "metadata": {
            "tags": []
          },
          "execution_count": 27
        }
      ]
    },
    {
      "cell_type": "markdown",
      "metadata": {
        "id": "XluomjmFT5hm"
      },
      "source": [
        "Add a marker for a station with lat-lon to a map"
      ]
    },
    {
      "cell_type": "code",
      "metadata": {
        "id": "QZhDBrOYJnkI"
      },
      "source": [
        "def add_station_name_lat_lon_to_map(station_name, lat, lon, m1):\n",
        "  # import the library\n",
        "  import folium\n",
        "  # Make a map with deep zoom\n",
        "  #m1 = folium.Map(location=[float(lat),float(lon) ], tiles=\"OpenStreetMap\", zoom_start=15)\n",
        "  # Add the Marker\n",
        "  folium.Marker(\n",
        "      location=[float(lat),float(lon)],\n",
        "      popup=station_name,\n",
        "  ).add_to(m1)\n",
        "  print(station_name, 'Added on ',lat,lon )\n",
        "  # Show the map\n",
        "  return(m1)\n"
      ],
      "execution_count": 28,
      "outputs": []
    },
    {
      "cell_type": "code",
      "metadata": {
        "colab": {
          "base_uri": "https://localhost:8080/"
        },
        "id": "M2XvMR9Rbmyl",
        "outputId": "b6ca54f0-b9d4-4ff9-c7fc-35b9b746500a"
      },
      "source": [
        "# Check funtcion\n",
        "station_map = add_station_name_lat_lon_to_map('NEWER STATION', 32.103055, 34.872465148965, station_map)"
      ],
      "execution_count": 29,
      "outputs": [
        {
          "output_type": "stream",
          "text": [
            "NEWER STATION Added on  32.103055 34.872465148965\n"
          ],
          "name": "stdout"
        }
      ]
    },
    {
      "cell_type": "code",
      "metadata": {
        "colab": {
          "base_uri": "https://localhost:8080/",
          "height": 580
        },
        "id": "g5iWJB6gtynE",
        "outputId": "ffcef3d5-33e1-4e4b-e11f-4f53d1a9792a"
      },
      "source": [
        "# Show the map\n",
        "station_map"
      ],
      "execution_count": 30,
      "outputs": [
        {
          "output_type": "execute_result",
          "data": {
            "text/html": [
              "<div style=\"width:100%;\"><div style=\"position:relative;width:100%;height:0;padding-bottom:60%;\"><span style=\"color:#565656\">Make this Notebook Trusted to load map: File -> Trust Notebook</span><iframe src=\"about:blank\" style=\"position:absolute;width:100%;height:100%;left:0;top:0;border:none !important;\" data-html=%3C%21DOCTYPE%20html%3E%0A%3Chead%3E%20%20%20%20%0A%20%20%20%20%3Cmeta%20http-equiv%3D%22content-type%22%20content%3D%22text/html%3B%20charset%3DUTF-8%22%20/%3E%0A%20%20%20%20%3Cscript%3EL_PREFER_CANVAS%3Dfalse%3B%20L_NO_TOUCH%3Dfalse%3B%20L_DISABLE_3D%3Dfalse%3B%3C/script%3E%0A%20%20%20%20%3Cscript%20src%3D%22https%3A//cdn.jsdelivr.net/npm/leaflet%401.4.0/dist/leaflet.js%22%3E%3C/script%3E%0A%20%20%20%20%3Cscript%20src%3D%22https%3A//code.jquery.com/jquery-1.12.4.min.js%22%3E%3C/script%3E%0A%20%20%20%20%3Cscript%20src%3D%22https%3A//maxcdn.bootstrapcdn.com/bootstrap/3.2.0/js/bootstrap.min.js%22%3E%3C/script%3E%0A%20%20%20%20%3Cscript%20src%3D%22https%3A//cdnjs.cloudflare.com/ajax/libs/Leaflet.awesome-markers/2.0.2/leaflet.awesome-markers.js%22%3E%3C/script%3E%0A%20%20%20%20%3Clink%20rel%3D%22stylesheet%22%20href%3D%22https%3A//cdn.jsdelivr.net/npm/leaflet%401.4.0/dist/leaflet.css%22/%3E%0A%20%20%20%20%3Clink%20rel%3D%22stylesheet%22%20href%3D%22https%3A//maxcdn.bootstrapcdn.com/bootstrap/3.2.0/css/bootstrap.min.css%22/%3E%0A%20%20%20%20%3Clink%20rel%3D%22stylesheet%22%20href%3D%22https%3A//maxcdn.bootstrapcdn.com/bootstrap/3.2.0/css/bootstrap-theme.min.css%22/%3E%0A%20%20%20%20%3Clink%20rel%3D%22stylesheet%22%20href%3D%22https%3A//maxcdn.bootstrapcdn.com/font-awesome/4.6.3/css/font-awesome.min.css%22/%3E%0A%20%20%20%20%3Clink%20rel%3D%22stylesheet%22%20href%3D%22https%3A//cdnjs.cloudflare.com/ajax/libs/Leaflet.awesome-markers/2.0.2/leaflet.awesome-markers.css%22/%3E%0A%20%20%20%20%3Clink%20rel%3D%22stylesheet%22%20href%3D%22https%3A//rawcdn.githack.com/python-visualization/folium/master/folium/templates/leaflet.awesome.rotate.css%22/%3E%0A%20%20%20%20%3Cstyle%3Ehtml%2C%20body%20%7Bwidth%3A%20100%25%3Bheight%3A%20100%25%3Bmargin%3A%200%3Bpadding%3A%200%3B%7D%3C/style%3E%0A%20%20%20%20%3Cstyle%3E%23map%20%7Bposition%3Aabsolute%3Btop%3A0%3Bbottom%3A0%3Bright%3A0%3Bleft%3A0%3B%7D%3C/style%3E%0A%20%20%20%20%0A%20%20%20%20%3Cmeta%20name%3D%22viewport%22%20content%3D%22width%3Ddevice-width%2C%0A%20%20%20%20%20%20%20%20initial-scale%3D1.0%2C%20maximum-scale%3D1.0%2C%20user-scalable%3Dno%22%20/%3E%0A%20%20%20%20%3Cstyle%3E%23map_09fa97b971d44bafb55eb8b118a0d457%20%7B%0A%20%20%20%20%20%20%20%20position%3A%20relative%3B%0A%20%20%20%20%20%20%20%20width%3A%20100.0%25%3B%0A%20%20%20%20%20%20%20%20height%3A%20100.0%25%3B%0A%20%20%20%20%20%20%20%20left%3A%200.0%25%3B%0A%20%20%20%20%20%20%20%20top%3A%200.0%25%3B%0A%20%20%20%20%20%20%20%20%7D%0A%20%20%20%20%3C/style%3E%0A%3C/head%3E%0A%3Cbody%3E%20%20%20%20%0A%20%20%20%20%0A%20%20%20%20%3Cdiv%20class%3D%22folium-map%22%20id%3D%22map_09fa97b971d44bafb55eb8b118a0d457%22%20%3E%3C/div%3E%0A%3C/body%3E%0A%3Cscript%3E%20%20%20%20%0A%20%20%20%20%0A%20%20%20%20%0A%20%20%20%20%20%20%20%20var%20bounds%20%3D%20null%3B%0A%20%20%20%20%0A%0A%20%20%20%20var%20map_09fa97b971d44bafb55eb8b118a0d457%20%3D%20L.map%28%0A%20%20%20%20%20%20%20%20%27map_09fa97b971d44bafb55eb8b118a0d457%27%2C%20%7B%0A%20%20%20%20%20%20%20%20center%3A%20%5B32.10405558%2C%2034.8734651489654%5D%2C%0A%20%20%20%20%20%20%20%20zoom%3A%2015%2C%0A%20%20%20%20%20%20%20%20maxBounds%3A%20bounds%2C%0A%20%20%20%20%20%20%20%20layers%3A%20%5B%5D%2C%0A%20%20%20%20%20%20%20%20worldCopyJump%3A%20false%2C%0A%20%20%20%20%20%20%20%20crs%3A%20L.CRS.EPSG3857%2C%0A%20%20%20%20%20%20%20%20zoomControl%3A%20true%2C%0A%20%20%20%20%20%20%20%20%7D%29%3B%0A%0A%0A%20%20%20%20%0A%20%20%20%20var%20tile_layer_fe0132f7af59426a93fb33a9665a19f3%20%3D%20L.tileLayer%28%0A%20%20%20%20%20%20%20%20%27https%3A//%7Bs%7D.tile.openstreetmap.org/%7Bz%7D/%7Bx%7D/%7By%7D.png%27%2C%0A%20%20%20%20%20%20%20%20%7B%0A%20%20%20%20%20%20%20%20%22attribution%22%3A%20null%2C%0A%20%20%20%20%20%20%20%20%22detectRetina%22%3A%20false%2C%0A%20%20%20%20%20%20%20%20%22maxNativeZoom%22%3A%2018%2C%0A%20%20%20%20%20%20%20%20%22maxZoom%22%3A%2018%2C%0A%20%20%20%20%20%20%20%20%22minZoom%22%3A%200%2C%0A%20%20%20%20%20%20%20%20%22noWrap%22%3A%20false%2C%0A%20%20%20%20%20%20%20%20%22opacity%22%3A%201%2C%0A%20%20%20%20%20%20%20%20%22subdomains%22%3A%20%22abc%22%2C%0A%20%20%20%20%20%20%20%20%22tms%22%3A%20false%0A%7D%29.addTo%28map_09fa97b971d44bafb55eb8b118a0d457%29%3B%0A%20%20%20%20%0A%20%20%20%20%20%20%20%20var%20marker_8f5399fb90a14d42b22135738903ba63%20%3D%20L.marker%28%0A%20%20%20%20%20%20%20%20%20%20%20%20%5B32.10405558%2C%2034.8734651489654%5D%2C%0A%20%20%20%20%20%20%20%20%20%20%20%20%7B%0A%20%20%20%20%20%20%20%20%20%20%20%20%20%20%20%20icon%3A%20new%20L.Icon.Default%28%29%2C%0A%20%20%20%20%20%20%20%20%20%20%20%20%20%20%20%20%7D%0A%20%20%20%20%20%20%20%20%20%20%20%20%29.addTo%28map_09fa97b971d44bafb55eb8b118a0d457%29%3B%0A%20%20%20%20%20%20%20%20%0A%20%20%20%20%0A%20%20%20%20%20%20%20%20%20%20%20%20var%20popup_c315ae8a3245482bb82145b560614e5a%20%3D%20L.popup%28%7BmaxWidth%3A%20%27100%25%27%0A%20%20%20%20%20%20%20%20%20%20%20%20%0A%20%20%20%20%20%20%20%20%20%20%20%20%7D%29%3B%0A%0A%20%20%20%20%20%20%20%20%20%20%20%20%0A%20%20%20%20%20%20%20%20%20%20%20%20%20%20%20%20var%20html_ffab13f4b037439194b8a5181911fa74%20%3D%20%24%28%60%3Cdiv%20id%3D%22html_ffab13f4b037439194b8a5181911fa74%22%20style%3D%22width%3A%20100.0%25%3B%20height%3A%20100.0%25%3B%22%3ENEW%20STATION%3C/div%3E%60%29%5B0%5D%3B%0A%20%20%20%20%20%20%20%20%20%20%20%20%20%20%20%20popup_c315ae8a3245482bb82145b560614e5a.setContent%28html_ffab13f4b037439194b8a5181911fa74%29%3B%0A%20%20%20%20%20%20%20%20%20%20%20%20%0A%0A%20%20%20%20%20%20%20%20%20%20%20%20marker_8f5399fb90a14d42b22135738903ba63.bindPopup%28popup_c315ae8a3245482bb82145b560614e5a%29%0A%20%20%20%20%20%20%20%20%20%20%20%20%3B%0A%0A%20%20%20%20%20%20%20%20%20%20%20%20%0A%20%20%20%20%20%20%20%20%0A%20%20%20%20%0A%20%20%20%20%20%20%20%20var%20marker_b4f69d72833b4b9aaf02408ff188d24a%20%3D%20L.marker%28%0A%20%20%20%20%20%20%20%20%20%20%20%20%5B32.103055%2C%2034.872465148965%5D%2C%0A%20%20%20%20%20%20%20%20%20%20%20%20%7B%0A%20%20%20%20%20%20%20%20%20%20%20%20%20%20%20%20icon%3A%20new%20L.Icon.Default%28%29%2C%0A%20%20%20%20%20%20%20%20%20%20%20%20%20%20%20%20%7D%0A%20%20%20%20%20%20%20%20%20%20%20%20%29.addTo%28map_09fa97b971d44bafb55eb8b118a0d457%29%3B%0A%20%20%20%20%20%20%20%20%0A%20%20%20%20%0A%20%20%20%20%20%20%20%20%20%20%20%20var%20popup_2559bdb3da1945de9e2c4cd2ae034bbb%20%3D%20L.popup%28%7BmaxWidth%3A%20%27100%25%27%0A%20%20%20%20%20%20%20%20%20%20%20%20%0A%20%20%20%20%20%20%20%20%20%20%20%20%7D%29%3B%0A%0A%20%20%20%20%20%20%20%20%20%20%20%20%0A%20%20%20%20%20%20%20%20%20%20%20%20%20%20%20%20var%20html_6b50ae4f16dd4f8096fafdd56deebd6e%20%3D%20%24%28%60%3Cdiv%20id%3D%22html_6b50ae4f16dd4f8096fafdd56deebd6e%22%20style%3D%22width%3A%20100.0%25%3B%20height%3A%20100.0%25%3B%22%3ENEWER%20STATION%3C/div%3E%60%29%5B0%5D%3B%0A%20%20%20%20%20%20%20%20%20%20%20%20%20%20%20%20popup_2559bdb3da1945de9e2c4cd2ae034bbb.setContent%28html_6b50ae4f16dd4f8096fafdd56deebd6e%29%3B%0A%20%20%20%20%20%20%20%20%20%20%20%20%0A%0A%20%20%20%20%20%20%20%20%20%20%20%20marker_b4f69d72833b4b9aaf02408ff188d24a.bindPopup%28popup_2559bdb3da1945de9e2c4cd2ae034bbb%29%0A%20%20%20%20%20%20%20%20%20%20%20%20%3B%0A%0A%20%20%20%20%20%20%20%20%20%20%20%20%0A%20%20%20%20%20%20%20%20%0A%3C/script%3E onload=\"this.contentDocument.open();this.contentDocument.write(    decodeURIComponent(this.getAttribute('data-html')));this.contentDocument.close();\" allowfullscreen webkitallowfullscreen mozallowfullscreen></iframe></div></div>"
            ],
            "text/plain": [
              "<folium.folium.Map at 0x7fe15fc649d0>"
            ]
          },
          "metadata": {
            "tags": []
          },
          "execution_count": 30
        }
      ]
    },
    {
      "cell_type": "markdown",
      "metadata": {
        "id": "u2n0moxOTmsZ"
      },
      "source": [
        "Add a marker for a station with address to the map"
      ]
    },
    {
      "cell_type": "code",
      "metadata": {
        "id": "5YWebUiIJKfZ"
      },
      "source": [
        "def add_station_name_address_to_map(station_name, address_string, m1):\n",
        "  if check_geocode_for_address(address_string)[0] == 'OK':\n",
        "    lat = check_geocode_for_address(address_string)[1]\n",
        "    lon = check_geocode_for_address(address_string)[2]\n",
        "    m1=add_station_name_lat_lon_to_map(station_name,lat ,lon,m1 )\n",
        "    print(f'{station_name} on address: {address_string}  added successfully to the map {m1} on lat: {lat} lon: {lon})')\n",
        "    return(m1)\n",
        "  elif check_geocode_for_address(address_string)[0] == 'NOK':\n",
        "    print(f'{address_string}  could not be geocoded')\n",
        "    return(m1)"
      ],
      "execution_count": 31,
      "outputs": []
    },
    {
      "cell_type": "code",
      "metadata": {
        "colab": {
          "base_uri": "https://localhost:8080/"
        },
        "id": "V_Ko-iyXRDOA",
        "outputId": "6c509ecb-58f4-4241-b3af-e0df547ad953"
      },
      "source": [
        "# Check the function\n",
        "station_map = add_station_name_address_to_map('נקודה שלישית',('זכרון יעקב 25 פתח תקווה ישראל'),station_map) # expect positive answer"
      ],
      "execution_count": 32,
      "outputs": [
        {
          "output_type": "stream",
          "text": [
            "נקודה שלישית Added on  34.8771646 34.8771646\n",
            "נקודה שלישית on address: זכרון יעקב 25 פתח תקווה ישראל  added successfully to the map <folium.folium.Map object at 0x7fe15fc649d0> on lat: 34.8771646 lon: 34.8771646)\n"
          ],
          "name": "stdout"
        }
      ]
    },
    {
      "cell_type": "code",
      "metadata": {
        "id": "Tpuafnw3rrtV",
        "colab": {
          "base_uri": "https://localhost:8080/",
          "height": 580
        },
        "outputId": "256fb597-e0db-480e-8eb4-e5512dd23280"
      },
      "source": [
        "# Show the map\n",
        "# Note: here we see a successful address case but the lat,lon are abviously wrong\n",
        "station_map"
      ],
      "execution_count": 33,
      "outputs": [
        {
          "output_type": "execute_result",
          "data": {
            "text/html": [
              "<div style=\"width:100%;\"><div style=\"position:relative;width:100%;height:0;padding-bottom:60%;\"><span style=\"color:#565656\">Make this Notebook Trusted to load map: File -> Trust Notebook</span><iframe src=\"about:blank\" style=\"position:absolute;width:100%;height:100%;left:0;top:0;border:none !important;\" data-html=%3C%21DOCTYPE%20html%3E%0A%3Chead%3E%20%20%20%20%0A%20%20%20%20%3Cmeta%20http-equiv%3D%22content-type%22%20content%3D%22text/html%3B%20charset%3DUTF-8%22%20/%3E%0A%20%20%20%20%3Cscript%3EL_PREFER_CANVAS%3Dfalse%3B%20L_NO_TOUCH%3Dfalse%3B%20L_DISABLE_3D%3Dfalse%3B%3C/script%3E%0A%20%20%20%20%3Cscript%20src%3D%22https%3A//cdn.jsdelivr.net/npm/leaflet%401.4.0/dist/leaflet.js%22%3E%3C/script%3E%0A%20%20%20%20%3Cscript%20src%3D%22https%3A//code.jquery.com/jquery-1.12.4.min.js%22%3E%3C/script%3E%0A%20%20%20%20%3Cscript%20src%3D%22https%3A//maxcdn.bootstrapcdn.com/bootstrap/3.2.0/js/bootstrap.min.js%22%3E%3C/script%3E%0A%20%20%20%20%3Cscript%20src%3D%22https%3A//cdnjs.cloudflare.com/ajax/libs/Leaflet.awesome-markers/2.0.2/leaflet.awesome-markers.js%22%3E%3C/script%3E%0A%20%20%20%20%3Clink%20rel%3D%22stylesheet%22%20href%3D%22https%3A//cdn.jsdelivr.net/npm/leaflet%401.4.0/dist/leaflet.css%22/%3E%0A%20%20%20%20%3Clink%20rel%3D%22stylesheet%22%20href%3D%22https%3A//maxcdn.bootstrapcdn.com/bootstrap/3.2.0/css/bootstrap.min.css%22/%3E%0A%20%20%20%20%3Clink%20rel%3D%22stylesheet%22%20href%3D%22https%3A//maxcdn.bootstrapcdn.com/bootstrap/3.2.0/css/bootstrap-theme.min.css%22/%3E%0A%20%20%20%20%3Clink%20rel%3D%22stylesheet%22%20href%3D%22https%3A//maxcdn.bootstrapcdn.com/font-awesome/4.6.3/css/font-awesome.min.css%22/%3E%0A%20%20%20%20%3Clink%20rel%3D%22stylesheet%22%20href%3D%22https%3A//cdnjs.cloudflare.com/ajax/libs/Leaflet.awesome-markers/2.0.2/leaflet.awesome-markers.css%22/%3E%0A%20%20%20%20%3Clink%20rel%3D%22stylesheet%22%20href%3D%22https%3A//rawcdn.githack.com/python-visualization/folium/master/folium/templates/leaflet.awesome.rotate.css%22/%3E%0A%20%20%20%20%3Cstyle%3Ehtml%2C%20body%20%7Bwidth%3A%20100%25%3Bheight%3A%20100%25%3Bmargin%3A%200%3Bpadding%3A%200%3B%7D%3C/style%3E%0A%20%20%20%20%3Cstyle%3E%23map%20%7Bposition%3Aabsolute%3Btop%3A0%3Bbottom%3A0%3Bright%3A0%3Bleft%3A0%3B%7D%3C/style%3E%0A%20%20%20%20%0A%20%20%20%20%3Cmeta%20name%3D%22viewport%22%20content%3D%22width%3Ddevice-width%2C%0A%20%20%20%20%20%20%20%20initial-scale%3D1.0%2C%20maximum-scale%3D1.0%2C%20user-scalable%3Dno%22%20/%3E%0A%20%20%20%20%3Cstyle%3E%23map_09fa97b971d44bafb55eb8b118a0d457%20%7B%0A%20%20%20%20%20%20%20%20position%3A%20relative%3B%0A%20%20%20%20%20%20%20%20width%3A%20100.0%25%3B%0A%20%20%20%20%20%20%20%20height%3A%20100.0%25%3B%0A%20%20%20%20%20%20%20%20left%3A%200.0%25%3B%0A%20%20%20%20%20%20%20%20top%3A%200.0%25%3B%0A%20%20%20%20%20%20%20%20%7D%0A%20%20%20%20%3C/style%3E%0A%3C/head%3E%0A%3Cbody%3E%20%20%20%20%0A%20%20%20%20%0A%20%20%20%20%3Cdiv%20class%3D%22folium-map%22%20id%3D%22map_09fa97b971d44bafb55eb8b118a0d457%22%20%3E%3C/div%3E%0A%3C/body%3E%0A%3Cscript%3E%20%20%20%20%0A%20%20%20%20%0A%20%20%20%20%0A%20%20%20%20%20%20%20%20var%20bounds%20%3D%20null%3B%0A%20%20%20%20%0A%0A%20%20%20%20var%20map_09fa97b971d44bafb55eb8b118a0d457%20%3D%20L.map%28%0A%20%20%20%20%20%20%20%20%27map_09fa97b971d44bafb55eb8b118a0d457%27%2C%20%7B%0A%20%20%20%20%20%20%20%20center%3A%20%5B32.10405558%2C%2034.8734651489654%5D%2C%0A%20%20%20%20%20%20%20%20zoom%3A%2015%2C%0A%20%20%20%20%20%20%20%20maxBounds%3A%20bounds%2C%0A%20%20%20%20%20%20%20%20layers%3A%20%5B%5D%2C%0A%20%20%20%20%20%20%20%20worldCopyJump%3A%20false%2C%0A%20%20%20%20%20%20%20%20crs%3A%20L.CRS.EPSG3857%2C%0A%20%20%20%20%20%20%20%20zoomControl%3A%20true%2C%0A%20%20%20%20%20%20%20%20%7D%29%3B%0A%0A%0A%20%20%20%20%0A%20%20%20%20var%20tile_layer_fe0132f7af59426a93fb33a9665a19f3%20%3D%20L.tileLayer%28%0A%20%20%20%20%20%20%20%20%27https%3A//%7Bs%7D.tile.openstreetmap.org/%7Bz%7D/%7Bx%7D/%7By%7D.png%27%2C%0A%20%20%20%20%20%20%20%20%7B%0A%20%20%20%20%20%20%20%20%22attribution%22%3A%20null%2C%0A%20%20%20%20%20%20%20%20%22detectRetina%22%3A%20false%2C%0A%20%20%20%20%20%20%20%20%22maxNativeZoom%22%3A%2018%2C%0A%20%20%20%20%20%20%20%20%22maxZoom%22%3A%2018%2C%0A%20%20%20%20%20%20%20%20%22minZoom%22%3A%200%2C%0A%20%20%20%20%20%20%20%20%22noWrap%22%3A%20false%2C%0A%20%20%20%20%20%20%20%20%22opacity%22%3A%201%2C%0A%20%20%20%20%20%20%20%20%22subdomains%22%3A%20%22abc%22%2C%0A%20%20%20%20%20%20%20%20%22tms%22%3A%20false%0A%7D%29.addTo%28map_09fa97b971d44bafb55eb8b118a0d457%29%3B%0A%20%20%20%20%0A%20%20%20%20%20%20%20%20var%20marker_8f5399fb90a14d42b22135738903ba63%20%3D%20L.marker%28%0A%20%20%20%20%20%20%20%20%20%20%20%20%5B32.10405558%2C%2034.8734651489654%5D%2C%0A%20%20%20%20%20%20%20%20%20%20%20%20%7B%0A%20%20%20%20%20%20%20%20%20%20%20%20%20%20%20%20icon%3A%20new%20L.Icon.Default%28%29%2C%0A%20%20%20%20%20%20%20%20%20%20%20%20%20%20%20%20%7D%0A%20%20%20%20%20%20%20%20%20%20%20%20%29.addTo%28map_09fa97b971d44bafb55eb8b118a0d457%29%3B%0A%20%20%20%20%20%20%20%20%0A%20%20%20%20%0A%20%20%20%20%20%20%20%20%20%20%20%20var%20popup_c315ae8a3245482bb82145b560614e5a%20%3D%20L.popup%28%7BmaxWidth%3A%20%27100%25%27%0A%20%20%20%20%20%20%20%20%20%20%20%20%0A%20%20%20%20%20%20%20%20%20%20%20%20%7D%29%3B%0A%0A%20%20%20%20%20%20%20%20%20%20%20%20%0A%20%20%20%20%20%20%20%20%20%20%20%20%20%20%20%20var%20html_ffab13f4b037439194b8a5181911fa74%20%3D%20%24%28%60%3Cdiv%20id%3D%22html_ffab13f4b037439194b8a5181911fa74%22%20style%3D%22width%3A%20100.0%25%3B%20height%3A%20100.0%25%3B%22%3ENEW%20STATION%3C/div%3E%60%29%5B0%5D%3B%0A%20%20%20%20%20%20%20%20%20%20%20%20%20%20%20%20popup_c315ae8a3245482bb82145b560614e5a.setContent%28html_ffab13f4b037439194b8a5181911fa74%29%3B%0A%20%20%20%20%20%20%20%20%20%20%20%20%0A%0A%20%20%20%20%20%20%20%20%20%20%20%20marker_8f5399fb90a14d42b22135738903ba63.bindPopup%28popup_c315ae8a3245482bb82145b560614e5a%29%0A%20%20%20%20%20%20%20%20%20%20%20%20%3B%0A%0A%20%20%20%20%20%20%20%20%20%20%20%20%0A%20%20%20%20%20%20%20%20%0A%20%20%20%20%0A%20%20%20%20%20%20%20%20var%20marker_b4f69d72833b4b9aaf02408ff188d24a%20%3D%20L.marker%28%0A%20%20%20%20%20%20%20%20%20%20%20%20%5B32.103055%2C%2034.872465148965%5D%2C%0A%20%20%20%20%20%20%20%20%20%20%20%20%7B%0A%20%20%20%20%20%20%20%20%20%20%20%20%20%20%20%20icon%3A%20new%20L.Icon.Default%28%29%2C%0A%20%20%20%20%20%20%20%20%20%20%20%20%20%20%20%20%7D%0A%20%20%20%20%20%20%20%20%20%20%20%20%29.addTo%28map_09fa97b971d44bafb55eb8b118a0d457%29%3B%0A%20%20%20%20%20%20%20%20%0A%20%20%20%20%0A%20%20%20%20%20%20%20%20%20%20%20%20var%20popup_2559bdb3da1945de9e2c4cd2ae034bbb%20%3D%20L.popup%28%7BmaxWidth%3A%20%27100%25%27%0A%20%20%20%20%20%20%20%20%20%20%20%20%0A%20%20%20%20%20%20%20%20%20%20%20%20%7D%29%3B%0A%0A%20%20%20%20%20%20%20%20%20%20%20%20%0A%20%20%20%20%20%20%20%20%20%20%20%20%20%20%20%20var%20html_6b50ae4f16dd4f8096fafdd56deebd6e%20%3D%20%24%28%60%3Cdiv%20id%3D%22html_6b50ae4f16dd4f8096fafdd56deebd6e%22%20style%3D%22width%3A%20100.0%25%3B%20height%3A%20100.0%25%3B%22%3ENEWER%20STATION%3C/div%3E%60%29%5B0%5D%3B%0A%20%20%20%20%20%20%20%20%20%20%20%20%20%20%20%20popup_2559bdb3da1945de9e2c4cd2ae034bbb.setContent%28html_6b50ae4f16dd4f8096fafdd56deebd6e%29%3B%0A%20%20%20%20%20%20%20%20%20%20%20%20%0A%0A%20%20%20%20%20%20%20%20%20%20%20%20marker_b4f69d72833b4b9aaf02408ff188d24a.bindPopup%28popup_2559bdb3da1945de9e2c4cd2ae034bbb%29%0A%20%20%20%20%20%20%20%20%20%20%20%20%3B%0A%0A%20%20%20%20%20%20%20%20%20%20%20%20%0A%20%20%20%20%20%20%20%20%0A%20%20%20%20%0A%20%20%20%20%20%20%20%20var%20marker_baa11803aa60461dbda69ec2df890a31%20%3D%20L.marker%28%0A%20%20%20%20%20%20%20%20%20%20%20%20%5B34.8771646%2C%2034.8771646%5D%2C%0A%20%20%20%20%20%20%20%20%20%20%20%20%7B%0A%20%20%20%20%20%20%20%20%20%20%20%20%20%20%20%20icon%3A%20new%20L.Icon.Default%28%29%2C%0A%20%20%20%20%20%20%20%20%20%20%20%20%20%20%20%20%7D%0A%20%20%20%20%20%20%20%20%20%20%20%20%29.addTo%28map_09fa97b971d44bafb55eb8b118a0d457%29%3B%0A%20%20%20%20%20%20%20%20%0A%20%20%20%20%0A%20%20%20%20%20%20%20%20%20%20%20%20var%20popup_a40a7e17bebc4fbfa2eaa12723988840%20%3D%20L.popup%28%7BmaxWidth%3A%20%27100%25%27%0A%20%20%20%20%20%20%20%20%20%20%20%20%0A%20%20%20%20%20%20%20%20%20%20%20%20%7D%29%3B%0A%0A%20%20%20%20%20%20%20%20%20%20%20%20%0A%20%20%20%20%20%20%20%20%20%20%20%20%20%20%20%20var%20html_f1c9ca5c012c427fa23bf54f643a67c1%20%3D%20%24%28%60%3Cdiv%20id%3D%22html_f1c9ca5c012c427fa23bf54f643a67c1%22%20style%3D%22width%3A%20100.0%25%3B%20height%3A%20100.0%25%3B%22%3E%D7%A0%D7%A7%D7%95%D7%93%D7%94%20%D7%A9%D7%9C%D7%99%D7%A9%D7%99%D7%AA%3C/div%3E%60%29%5B0%5D%3B%0A%20%20%20%20%20%20%20%20%20%20%20%20%20%20%20%20popup_a40a7e17bebc4fbfa2eaa12723988840.setContent%28html_f1c9ca5c012c427fa23bf54f643a67c1%29%3B%0A%20%20%20%20%20%20%20%20%20%20%20%20%0A%0A%20%20%20%20%20%20%20%20%20%20%20%20marker_baa11803aa60461dbda69ec2df890a31.bindPopup%28popup_a40a7e17bebc4fbfa2eaa12723988840%29%0A%20%20%20%20%20%20%20%20%20%20%20%20%3B%0A%0A%20%20%20%20%20%20%20%20%20%20%20%20%0A%20%20%20%20%20%20%20%20%0A%3C/script%3E onload=\"this.contentDocument.open();this.contentDocument.write(    decodeURIComponent(this.getAttribute('data-html')));this.contentDocument.close();\" allowfullscreen webkitallowfullscreen mozallowfullscreen></iframe></div></div>"
            ],
            "text/plain": [
              "<folium.folium.Map at 0x7fe15fc649d0>"
            ]
          },
          "metadata": {
            "tags": []
          },
          "execution_count": 33
        }
      ]
    },
    {
      "cell_type": "code",
      "metadata": {
        "colab": {
          "base_uri": "https://localhost:8080/"
        },
        "id": "6gvkWzCpSjN-",
        "outputId": "90757260-3603-4eff-8e77-40b7602b337b"
      },
      "source": [
        "# Check another location\n",
        "station_map = add_station_name_address_to_map('עוד','המתכנן 10 א.ת. דרומי אשקלון', station_map) #expect negative answer"
      ],
      "execution_count": 34,
      "outputs": [
        {
          "output_type": "stream",
          "text": [
            "המתכנן 10 א.ת. דרומי אשקלון  could not be geocoded\n"
          ],
          "name": "stdout"
        }
      ]
    },
    {
      "cell_type": "markdown",
      "metadata": {
        "id": "rrPnj3U8vXyn"
      },
      "source": [
        "Populate the map with the loaded list of geo-coded stations\n"
      ]
    },
    {
      "cell_type": "code",
      "metadata": {
        "id": "JmpekwKpzuyK"
      },
      "source": [
        "def populate_map_with_geo_coded_stations(m1):\n",
        "  if (len(stations_list_geocoded_loaded) == 0):\n",
        "    print(f'List is empty, nothing new to show')\n",
        "    return(m1)\n",
        "  else:\n",
        "    for i in range(len(stations_list_geocoded_loaded)):\n",
        "      #print(stations_list_geocoded_loaded[i])\n",
        "      station_name = stations_list_geocoded_loaded[i][0]\n",
        "      lat = stations_list_geocoded_loaded[i][2]\n",
        "      lon = stations_list_geocoded_loaded[i][3]\n",
        "      add_station_name_lat_lon_to_map(station_name, lat, lon, m1)\n",
        "      print(f'{stations_list_geocoded_loaded[i]} marker was added to the map')\n",
        "    return(m1)"
      ],
      "execution_count": 35,
      "outputs": []
    },
    {
      "cell_type": "code",
      "metadata": {
        "colab": {
          "base_uri": "https://localhost:8080/"
        },
        "id": "WIpqpTHt0TYy",
        "outputId": "b4c6490f-645c-44cf-cbf2-6582da1a4d16"
      },
      "source": [
        "station_map = populate_map_with_geo_coded_stations(station_map)"
      ],
      "execution_count": 36,
      "outputs": [
        {
          "output_type": "stream",
          "text": [
            "אדגו Added on  32.4353872 34.9118045\n",
            "['אדגו', 'זלמן שזר 1 חדרה', '32.4353872', '34.9118045'] marker was added to the map\n",
            "אלונים Added on  32.70921 35.142188\n",
            "['אלונים', 'צומת אלונים', '32.70921', '35.142188'] marker was added to the map\n",
            "אשל אברהם Added on  31.2457442 34.7925181\n",
            "['אשל אברהם', 'באר שבע', '31.2457442', '34.7925181'] marker was added to the map\n",
            "מיקה וולפסון Added on  32.034701299999995 34.77136495\n",
            "['מיקה וולפסון', 'הלוחמים 1 חולון', '32.034701299999995', '34.77136495'] marker was added to the map\n",
            "הסיבים Added on  32.0923047 34.8572837\n",
            "['הסיבים', 'הסיבים 35 פ\"ת', '32.0923047', '34.8572837'] marker was added to the map\n",
            "הר תמיר Added on  31.79496315 35.18778583710159\n",
            "['הר תמיר', 'יעקב אליאב 1 גבעת שאול י-ם', '31.79496315', '35.18778583710159'] marker was added to the map\n",
            "השבעה Added on  31.525315 34.603912\n",
            "['השבעה', 'דרך ירושלים 20 אזור', '31.525315', '34.603912'] marker was added to the map\n",
            "טייבה Added on  32.323644 34.902989\n",
            "['טייבה', 'צומת השרון', '32.323644', '34.902989'] marker was added to the map\n",
            "יאסין Added on  32.4197144 35.0428311\n",
            "['יאסין', 'באקה אל גרבייה', '32.4197144', '35.0428311'] marker was added to the map\n",
            "דלק ירכא Added on  32.9548871 35.2087895\n",
            "['דלק ירכא', 'ירכא', '32.9548871', '35.2087895'] marker was added to the map\n",
            "דורון כפר סבא Added on  32.1751957 34.8911412\n",
            "['דורון כפר סבא', 'נתיב האבות 1 כפר סבא', '32.1751957', '34.8911412'] marker was added to the map\n",
            "אורות Added on  32.7902739 35.0266879\n",
            "['אורות', 'דרך בר יהודה 34 חיפה', '32.7902739', '35.0266879'] marker was added to the map\n",
            "סונול הבנים Added on  31.9349523 34.8673488\n",
            "['סונול הבנים', 'הרצל 6 רמלה', '31.9349523', '34.8673488'] marker was added to the map\n",
            "שעריים Added on  31.8937495 34.8117132\n",
            "['שעריים', 'הרצל 68 רחובות', '31.8937495', '34.8117132'] marker was added to the map\n",
            "גבעונים Added on  31.8705007 35.1774813\n",
            "['גבעונים', 'צומת גבעת זאב', '31.8705007', '35.1774813'] marker was added to the map\n",
            "גל צומת הערבה Added on  30.987586 35.308952\n",
            "['גל צומת הערבה', 'צומת הערבה', '30.987586', '35.308952'] marker was added to the map\n",
            "מירון Added on  32.987689 35.442719\n",
            "['מירון', 'צומת מירון-צפת', '32.987689', '35.442719'] marker was added to the map\n",
            "גן לונדון Added on  32.0777722 34.76685\n",
            "['גן לונדון', 'הירקון 83\\n תל אביב', '32.0777722', '34.76685'] marker was added to the map\n",
            "געתון Added on  33.0476412 35.1407717\n",
            "['געתון', 'כביש עכו נהריה', '33.0476412', '35.1407717'] marker was added to the map\n",
            "דרור זקס Added on  32.257813 34.900012\n",
            "['דרור זקס', 'צומת דרור', '32.257813', '34.900012'] marker was added to the map\n",
            "נוה יעקב Added on  32.0502416 34.7854123\n",
            "['נוה יעקב', 'שכונת נווה יעקב ירושלים', '32.0502416', '34.7854123'] marker was added to the map\n",
            "מבואות דליה Added on  32.6922393 35.0482785\n",
            "['מבואות דליה', 'דלית אל כרמל', '32.6922393', '35.0482785'] marker was added to the map\n",
            "פארק אפק Added on  32.1139357 34.9760002\n",
            "['פארק אפק', 'כפר קאסם 49940', '32.1139357', '34.9760002'] marker was added to the map\n",
            "פוליבה Added on  31.9279988 34.8623473\n",
            "['פוליבה', 'רמלה', '31.9279988', '34.8623473'] marker was added to the map\n",
            "הנביאים הדר חיפה Added on  32.8132268 34.9934915\n",
            "['הנביאים הדר חיפה', 'לבונטין 3 חיפה 33303', '32.8132268', '34.9934915'] marker was added to the map\n"
          ],
          "name": "stdout"
        }
      ]
    },
    {
      "cell_type": "code",
      "metadata": {
        "colab": {
          "base_uri": "https://localhost:8080/",
          "height": 580
        },
        "id": "dGq60q7uxcOp",
        "outputId": "c266d902-e762-4a00-acf8-60387863e6d0"
      },
      "source": [
        "# Show the map\n",
        "station_map"
      ],
      "execution_count": 37,
      "outputs": [
        {
          "output_type": "execute_result",
          "data": {
            "text/html": [
              "<div style=\"width:100%;\"><div style=\"position:relative;width:100%;height:0;padding-bottom:60%;\"><span style=\"color:#565656\">Make this Notebook Trusted to load map: File -> Trust Notebook</span><iframe src=\"about:blank\" style=\"position:absolute;width:100%;height:100%;left:0;top:0;border:none !important;\" data-html=%3C%21DOCTYPE%20html%3E%0A%3Chead%3E%20%20%20%20%0A%20%20%20%20%3Cmeta%20http-equiv%3D%22content-type%22%20content%3D%22text/html%3B%20charset%3DUTF-8%22%20/%3E%0A%20%20%20%20%3Cscript%3EL_PREFER_CANVAS%3Dfalse%3B%20L_NO_TOUCH%3Dfalse%3B%20L_DISABLE_3D%3Dfalse%3B%3C/script%3E%0A%20%20%20%20%3Cscript%20src%3D%22https%3A//cdn.jsdelivr.net/npm/leaflet%401.4.0/dist/leaflet.js%22%3E%3C/script%3E%0A%20%20%20%20%3Cscript%20src%3D%22https%3A//code.jquery.com/jquery-1.12.4.min.js%22%3E%3C/script%3E%0A%20%20%20%20%3Cscript%20src%3D%22https%3A//maxcdn.bootstrapcdn.com/bootstrap/3.2.0/js/bootstrap.min.js%22%3E%3C/script%3E%0A%20%20%20%20%3Cscript%20src%3D%22https%3A//cdnjs.cloudflare.com/ajax/libs/Leaflet.awesome-markers/2.0.2/leaflet.awesome-markers.js%22%3E%3C/script%3E%0A%20%20%20%20%3Clink%20rel%3D%22stylesheet%22%20href%3D%22https%3A//cdn.jsdelivr.net/npm/leaflet%401.4.0/dist/leaflet.css%22/%3E%0A%20%20%20%20%3Clink%20rel%3D%22stylesheet%22%20href%3D%22https%3A//maxcdn.bootstrapcdn.com/bootstrap/3.2.0/css/bootstrap.min.css%22/%3E%0A%20%20%20%20%3Clink%20rel%3D%22stylesheet%22%20href%3D%22https%3A//maxcdn.bootstrapcdn.com/bootstrap/3.2.0/css/bootstrap-theme.min.css%22/%3E%0A%20%20%20%20%3Clink%20rel%3D%22stylesheet%22%20href%3D%22https%3A//maxcdn.bootstrapcdn.com/font-awesome/4.6.3/css/font-awesome.min.css%22/%3E%0A%20%20%20%20%3Clink%20rel%3D%22stylesheet%22%20href%3D%22https%3A//cdnjs.cloudflare.com/ajax/libs/Leaflet.awesome-markers/2.0.2/leaflet.awesome-markers.css%22/%3E%0A%20%20%20%20%3Clink%20rel%3D%22stylesheet%22%20href%3D%22https%3A//rawcdn.githack.com/python-visualization/folium/master/folium/templates/leaflet.awesome.rotate.css%22/%3E%0A%20%20%20%20%3Cstyle%3Ehtml%2C%20body%20%7Bwidth%3A%20100%25%3Bheight%3A%20100%25%3Bmargin%3A%200%3Bpadding%3A%200%3B%7D%3C/style%3E%0A%20%20%20%20%3Cstyle%3E%23map%20%7Bposition%3Aabsolute%3Btop%3A0%3Bbottom%3A0%3Bright%3A0%3Bleft%3A0%3B%7D%3C/style%3E%0A%20%20%20%20%0A%20%20%20%20%3Cmeta%20name%3D%22viewport%22%20content%3D%22width%3Ddevice-width%2C%0A%20%20%20%20%20%20%20%20initial-scale%3D1.0%2C%20maximum-scale%3D1.0%2C%20user-scalable%3Dno%22%20/%3E%0A%20%20%20%20%3Cstyle%3E%23map_09fa97b971d44bafb55eb8b118a0d457%20%7B%0A%20%20%20%20%20%20%20%20position%3A%20relative%3B%0A%20%20%20%20%20%20%20%20width%3A%20100.0%25%3B%0A%20%20%20%20%20%20%20%20height%3A%20100.0%25%3B%0A%20%20%20%20%20%20%20%20left%3A%200.0%25%3B%0A%20%20%20%20%20%20%20%20top%3A%200.0%25%3B%0A%20%20%20%20%20%20%20%20%7D%0A%20%20%20%20%3C/style%3E%0A%3C/head%3E%0A%3Cbody%3E%20%20%20%20%0A%20%20%20%20%0A%20%20%20%20%3Cdiv%20class%3D%22folium-map%22%20id%3D%22map_09fa97b971d44bafb55eb8b118a0d457%22%20%3E%3C/div%3E%0A%3C/body%3E%0A%3Cscript%3E%20%20%20%20%0A%20%20%20%20%0A%20%20%20%20%0A%20%20%20%20%20%20%20%20var%20bounds%20%3D%20null%3B%0A%20%20%20%20%0A%0A%20%20%20%20var%20map_09fa97b971d44bafb55eb8b118a0d457%20%3D%20L.map%28%0A%20%20%20%20%20%20%20%20%27map_09fa97b971d44bafb55eb8b118a0d457%27%2C%20%7B%0A%20%20%20%20%20%20%20%20center%3A%20%5B32.10405558%2C%2034.8734651489654%5D%2C%0A%20%20%20%20%20%20%20%20zoom%3A%2015%2C%0A%20%20%20%20%20%20%20%20maxBounds%3A%20bounds%2C%0A%20%20%20%20%20%20%20%20layers%3A%20%5B%5D%2C%0A%20%20%20%20%20%20%20%20worldCopyJump%3A%20false%2C%0A%20%20%20%20%20%20%20%20crs%3A%20L.CRS.EPSG3857%2C%0A%20%20%20%20%20%20%20%20zoomControl%3A%20true%2C%0A%20%20%20%20%20%20%20%20%7D%29%3B%0A%0A%0A%20%20%20%20%0A%20%20%20%20var%20tile_layer_fe0132f7af59426a93fb33a9665a19f3%20%3D%20L.tileLayer%28%0A%20%20%20%20%20%20%20%20%27https%3A//%7Bs%7D.tile.openstreetmap.org/%7Bz%7D/%7Bx%7D/%7By%7D.png%27%2C%0A%20%20%20%20%20%20%20%20%7B%0A%20%20%20%20%20%20%20%20%22attribution%22%3A%20null%2C%0A%20%20%20%20%20%20%20%20%22detectRetina%22%3A%20false%2C%0A%20%20%20%20%20%20%20%20%22maxNativeZoom%22%3A%2018%2C%0A%20%20%20%20%20%20%20%20%22maxZoom%22%3A%2018%2C%0A%20%20%20%20%20%20%20%20%22minZoom%22%3A%200%2C%0A%20%20%20%20%20%20%20%20%22noWrap%22%3A%20false%2C%0A%20%20%20%20%20%20%20%20%22opacity%22%3A%201%2C%0A%20%20%20%20%20%20%20%20%22subdomains%22%3A%20%22abc%22%2C%0A%20%20%20%20%20%20%20%20%22tms%22%3A%20false%0A%7D%29.addTo%28map_09fa97b971d44bafb55eb8b118a0d457%29%3B%0A%20%20%20%20%0A%20%20%20%20%20%20%20%20var%20marker_8f5399fb90a14d42b22135738903ba63%20%3D%20L.marker%28%0A%20%20%20%20%20%20%20%20%20%20%20%20%5B32.10405558%2C%2034.8734651489654%5D%2C%0A%20%20%20%20%20%20%20%20%20%20%20%20%7B%0A%20%20%20%20%20%20%20%20%20%20%20%20%20%20%20%20icon%3A%20new%20L.Icon.Default%28%29%2C%0A%20%20%20%20%20%20%20%20%20%20%20%20%20%20%20%20%7D%0A%20%20%20%20%20%20%20%20%20%20%20%20%29.addTo%28map_09fa97b971d44bafb55eb8b118a0d457%29%3B%0A%20%20%20%20%20%20%20%20%0A%20%20%20%20%0A%20%20%20%20%20%20%20%20%20%20%20%20var%20popup_c315ae8a3245482bb82145b560614e5a%20%3D%20L.popup%28%7BmaxWidth%3A%20%27100%25%27%0A%20%20%20%20%20%20%20%20%20%20%20%20%0A%20%20%20%20%20%20%20%20%20%20%20%20%7D%29%3B%0A%0A%20%20%20%20%20%20%20%20%20%20%20%20%0A%20%20%20%20%20%20%20%20%20%20%20%20%20%20%20%20var%20html_ffab13f4b037439194b8a5181911fa74%20%3D%20%24%28%60%3Cdiv%20id%3D%22html_ffab13f4b037439194b8a5181911fa74%22%20style%3D%22width%3A%20100.0%25%3B%20height%3A%20100.0%25%3B%22%3ENEW%20STATION%3C/div%3E%60%29%5B0%5D%3B%0A%20%20%20%20%20%20%20%20%20%20%20%20%20%20%20%20popup_c315ae8a3245482bb82145b560614e5a.setContent%28html_ffab13f4b037439194b8a5181911fa74%29%3B%0A%20%20%20%20%20%20%20%20%20%20%20%20%0A%0A%20%20%20%20%20%20%20%20%20%20%20%20marker_8f5399fb90a14d42b22135738903ba63.bindPopup%28popup_c315ae8a3245482bb82145b560614e5a%29%0A%20%20%20%20%20%20%20%20%20%20%20%20%3B%0A%0A%20%20%20%20%20%20%20%20%20%20%20%20%0A%20%20%20%20%20%20%20%20%0A%20%20%20%20%0A%20%20%20%20%20%20%20%20var%20marker_b4f69d72833b4b9aaf02408ff188d24a%20%3D%20L.marker%28%0A%20%20%20%20%20%20%20%20%20%20%20%20%5B32.103055%2C%2034.872465148965%5D%2C%0A%20%20%20%20%20%20%20%20%20%20%20%20%7B%0A%20%20%20%20%20%20%20%20%20%20%20%20%20%20%20%20icon%3A%20new%20L.Icon.Default%28%29%2C%0A%20%20%20%20%20%20%20%20%20%20%20%20%20%20%20%20%7D%0A%20%20%20%20%20%20%20%20%20%20%20%20%29.addTo%28map_09fa97b971d44bafb55eb8b118a0d457%29%3B%0A%20%20%20%20%20%20%20%20%0A%20%20%20%20%0A%20%20%20%20%20%20%20%20%20%20%20%20var%20popup_2559bdb3da1945de9e2c4cd2ae034bbb%20%3D%20L.popup%28%7BmaxWidth%3A%20%27100%25%27%0A%20%20%20%20%20%20%20%20%20%20%20%20%0A%20%20%20%20%20%20%20%20%20%20%20%20%7D%29%3B%0A%0A%20%20%20%20%20%20%20%20%20%20%20%20%0A%20%20%20%20%20%20%20%20%20%20%20%20%20%20%20%20var%20html_6b50ae4f16dd4f8096fafdd56deebd6e%20%3D%20%24%28%60%3Cdiv%20id%3D%22html_6b50ae4f16dd4f8096fafdd56deebd6e%22%20style%3D%22width%3A%20100.0%25%3B%20height%3A%20100.0%25%3B%22%3ENEWER%20STATION%3C/div%3E%60%29%5B0%5D%3B%0A%20%20%20%20%20%20%20%20%20%20%20%20%20%20%20%20popup_2559bdb3da1945de9e2c4cd2ae034bbb.setContent%28html_6b50ae4f16dd4f8096fafdd56deebd6e%29%3B%0A%20%20%20%20%20%20%20%20%20%20%20%20%0A%0A%20%20%20%20%20%20%20%20%20%20%20%20marker_b4f69d72833b4b9aaf02408ff188d24a.bindPopup%28popup_2559bdb3da1945de9e2c4cd2ae034bbb%29%0A%20%20%20%20%20%20%20%20%20%20%20%20%3B%0A%0A%20%20%20%20%20%20%20%20%20%20%20%20%0A%20%20%20%20%20%20%20%20%0A%20%20%20%20%0A%20%20%20%20%20%20%20%20var%20marker_baa11803aa60461dbda69ec2df890a31%20%3D%20L.marker%28%0A%20%20%20%20%20%20%20%20%20%20%20%20%5B34.8771646%2C%2034.8771646%5D%2C%0A%20%20%20%20%20%20%20%20%20%20%20%20%7B%0A%20%20%20%20%20%20%20%20%20%20%20%20%20%20%20%20icon%3A%20new%20L.Icon.Default%28%29%2C%0A%20%20%20%20%20%20%20%20%20%20%20%20%20%20%20%20%7D%0A%20%20%20%20%20%20%20%20%20%20%20%20%29.addTo%28map_09fa97b971d44bafb55eb8b118a0d457%29%3B%0A%20%20%20%20%20%20%20%20%0A%20%20%20%20%0A%20%20%20%20%20%20%20%20%20%20%20%20var%20popup_a40a7e17bebc4fbfa2eaa12723988840%20%3D%20L.popup%28%7BmaxWidth%3A%20%27100%25%27%0A%20%20%20%20%20%20%20%20%20%20%20%20%0A%20%20%20%20%20%20%20%20%20%20%20%20%7D%29%3B%0A%0A%20%20%20%20%20%20%20%20%20%20%20%20%0A%20%20%20%20%20%20%20%20%20%20%20%20%20%20%20%20var%20html_f1c9ca5c012c427fa23bf54f643a67c1%20%3D%20%24%28%60%3Cdiv%20id%3D%22html_f1c9ca5c012c427fa23bf54f643a67c1%22%20style%3D%22width%3A%20100.0%25%3B%20height%3A%20100.0%25%3B%22%3E%D7%A0%D7%A7%D7%95%D7%93%D7%94%20%D7%A9%D7%9C%D7%99%D7%A9%D7%99%D7%AA%3C/div%3E%60%29%5B0%5D%3B%0A%20%20%20%20%20%20%20%20%20%20%20%20%20%20%20%20popup_a40a7e17bebc4fbfa2eaa12723988840.setContent%28html_f1c9ca5c012c427fa23bf54f643a67c1%29%3B%0A%20%20%20%20%20%20%20%20%20%20%20%20%0A%0A%20%20%20%20%20%20%20%20%20%20%20%20marker_baa11803aa60461dbda69ec2df890a31.bindPopup%28popup_a40a7e17bebc4fbfa2eaa12723988840%29%0A%20%20%20%20%20%20%20%20%20%20%20%20%3B%0A%0A%20%20%20%20%20%20%20%20%20%20%20%20%0A%20%20%20%20%20%20%20%20%0A%20%20%20%20%0A%20%20%20%20%20%20%20%20var%20marker_28256ef13bc54aa1a05983efa4d5c4a0%20%3D%20L.marker%28%0A%20%20%20%20%20%20%20%20%20%20%20%20%5B32.4353872%2C%2034.9118045%5D%2C%0A%20%20%20%20%20%20%20%20%20%20%20%20%7B%0A%20%20%20%20%20%20%20%20%20%20%20%20%20%20%20%20icon%3A%20new%20L.Icon.Default%28%29%2C%0A%20%20%20%20%20%20%20%20%20%20%20%20%20%20%20%20%7D%0A%20%20%20%20%20%20%20%20%20%20%20%20%29.addTo%28map_09fa97b971d44bafb55eb8b118a0d457%29%3B%0A%20%20%20%20%20%20%20%20%0A%20%20%20%20%0A%20%20%20%20%20%20%20%20%20%20%20%20var%20popup_a15e189819ce40c7bd95aa94dc273054%20%3D%20L.popup%28%7BmaxWidth%3A%20%27100%25%27%0A%20%20%20%20%20%20%20%20%20%20%20%20%0A%20%20%20%20%20%20%20%20%20%20%20%20%7D%29%3B%0A%0A%20%20%20%20%20%20%20%20%20%20%20%20%0A%20%20%20%20%20%20%20%20%20%20%20%20%20%20%20%20var%20html_c0258288fd5e48e9b32654849c727e69%20%3D%20%24%28%60%3Cdiv%20id%3D%22html_c0258288fd5e48e9b32654849c727e69%22%20style%3D%22width%3A%20100.0%25%3B%20height%3A%20100.0%25%3B%22%3E%D7%90%D7%93%D7%92%D7%95%3C/div%3E%60%29%5B0%5D%3B%0A%20%20%20%20%20%20%20%20%20%20%20%20%20%20%20%20popup_a15e189819ce40c7bd95aa94dc273054.setContent%28html_c0258288fd5e48e9b32654849c727e69%29%3B%0A%20%20%20%20%20%20%20%20%20%20%20%20%0A%0A%20%20%20%20%20%20%20%20%20%20%20%20marker_28256ef13bc54aa1a05983efa4d5c4a0.bindPopup%28popup_a15e189819ce40c7bd95aa94dc273054%29%0A%20%20%20%20%20%20%20%20%20%20%20%20%3B%0A%0A%20%20%20%20%20%20%20%20%20%20%20%20%0A%20%20%20%20%20%20%20%20%0A%20%20%20%20%0A%20%20%20%20%20%20%20%20var%20marker_c126ca84c9e54bce9c2ebfd136589c20%20%3D%20L.marker%28%0A%20%20%20%20%20%20%20%20%20%20%20%20%5B32.70921%2C%2035.142188%5D%2C%0A%20%20%20%20%20%20%20%20%20%20%20%20%7B%0A%20%20%20%20%20%20%20%20%20%20%20%20%20%20%20%20icon%3A%20new%20L.Icon.Default%28%29%2C%0A%20%20%20%20%20%20%20%20%20%20%20%20%20%20%20%20%7D%0A%20%20%20%20%20%20%20%20%20%20%20%20%29.addTo%28map_09fa97b971d44bafb55eb8b118a0d457%29%3B%0A%20%20%20%20%20%20%20%20%0A%20%20%20%20%0A%20%20%20%20%20%20%20%20%20%20%20%20var%20popup_8a2006f857924be9b8eb94b67a186d2d%20%3D%20L.popup%28%7BmaxWidth%3A%20%27100%25%27%0A%20%20%20%20%20%20%20%20%20%20%20%20%0A%20%20%20%20%20%20%20%20%20%20%20%20%7D%29%3B%0A%0A%20%20%20%20%20%20%20%20%20%20%20%20%0A%20%20%20%20%20%20%20%20%20%20%20%20%20%20%20%20var%20html_ae024c4d00fa4c7dbe08fd39a2e867ae%20%3D%20%24%28%60%3Cdiv%20id%3D%22html_ae024c4d00fa4c7dbe08fd39a2e867ae%22%20style%3D%22width%3A%20100.0%25%3B%20height%3A%20100.0%25%3B%22%3E%D7%90%D7%9C%D7%95%D7%A0%D7%99%D7%9D%3C/div%3E%60%29%5B0%5D%3B%0A%20%20%20%20%20%20%20%20%20%20%20%20%20%20%20%20popup_8a2006f857924be9b8eb94b67a186d2d.setContent%28html_ae024c4d00fa4c7dbe08fd39a2e867ae%29%3B%0A%20%20%20%20%20%20%20%20%20%20%20%20%0A%0A%20%20%20%20%20%20%20%20%20%20%20%20marker_c126ca84c9e54bce9c2ebfd136589c20.bindPopup%28popup_8a2006f857924be9b8eb94b67a186d2d%29%0A%20%20%20%20%20%20%20%20%20%20%20%20%3B%0A%0A%20%20%20%20%20%20%20%20%20%20%20%20%0A%20%20%20%20%20%20%20%20%0A%20%20%20%20%0A%20%20%20%20%20%20%20%20var%20marker_ddba56c7c5d94484810f5a7753f5f025%20%3D%20L.marker%28%0A%20%20%20%20%20%20%20%20%20%20%20%20%5B31.2457442%2C%2034.7925181%5D%2C%0A%20%20%20%20%20%20%20%20%20%20%20%20%7B%0A%20%20%20%20%20%20%20%20%20%20%20%20%20%20%20%20icon%3A%20new%20L.Icon.Default%28%29%2C%0A%20%20%20%20%20%20%20%20%20%20%20%20%20%20%20%20%7D%0A%20%20%20%20%20%20%20%20%20%20%20%20%29.addTo%28map_09fa97b971d44bafb55eb8b118a0d457%29%3B%0A%20%20%20%20%20%20%20%20%0A%20%20%20%20%0A%20%20%20%20%20%20%20%20%20%20%20%20var%20popup_821ed6d7dcc34adba598f5f4c261cc2a%20%3D%20L.popup%28%7BmaxWidth%3A%20%27100%25%27%0A%20%20%20%20%20%20%20%20%20%20%20%20%0A%20%20%20%20%20%20%20%20%20%20%20%20%7D%29%3B%0A%0A%20%20%20%20%20%20%20%20%20%20%20%20%0A%20%20%20%20%20%20%20%20%20%20%20%20%20%20%20%20var%20html_24967f4a8dc34b78a38406b8dcd5b8e7%20%3D%20%24%28%60%3Cdiv%20id%3D%22html_24967f4a8dc34b78a38406b8dcd5b8e7%22%20style%3D%22width%3A%20100.0%25%3B%20height%3A%20100.0%25%3B%22%3E%D7%90%D7%A9%D7%9C%20%D7%90%D7%91%D7%A8%D7%94%D7%9D%3C/div%3E%60%29%5B0%5D%3B%0A%20%20%20%20%20%20%20%20%20%20%20%20%20%20%20%20popup_821ed6d7dcc34adba598f5f4c261cc2a.setContent%28html_24967f4a8dc34b78a38406b8dcd5b8e7%29%3B%0A%20%20%20%20%20%20%20%20%20%20%20%20%0A%0A%20%20%20%20%20%20%20%20%20%20%20%20marker_ddba56c7c5d94484810f5a7753f5f025.bindPopup%28popup_821ed6d7dcc34adba598f5f4c261cc2a%29%0A%20%20%20%20%20%20%20%20%20%20%20%20%3B%0A%0A%20%20%20%20%20%20%20%20%20%20%20%20%0A%20%20%20%20%20%20%20%20%0A%20%20%20%20%0A%20%20%20%20%20%20%20%20var%20marker_3af2caec3bef48988c55f4d6c6dcea1c%20%3D%20L.marker%28%0A%20%20%20%20%20%20%20%20%20%20%20%20%5B32.034701299999995%2C%2034.77136495%5D%2C%0A%20%20%20%20%20%20%20%20%20%20%20%20%7B%0A%20%20%20%20%20%20%20%20%20%20%20%20%20%20%20%20icon%3A%20new%20L.Icon.Default%28%29%2C%0A%20%20%20%20%20%20%20%20%20%20%20%20%20%20%20%20%7D%0A%20%20%20%20%20%20%20%20%20%20%20%20%29.addTo%28map_09fa97b971d44bafb55eb8b118a0d457%29%3B%0A%20%20%20%20%20%20%20%20%0A%20%20%20%20%0A%20%20%20%20%20%20%20%20%20%20%20%20var%20popup_0de7786ab53343e881d651264a5a6fa6%20%3D%20L.popup%28%7BmaxWidth%3A%20%27100%25%27%0A%20%20%20%20%20%20%20%20%20%20%20%20%0A%20%20%20%20%20%20%20%20%20%20%20%20%7D%29%3B%0A%0A%20%20%20%20%20%20%20%20%20%20%20%20%0A%20%20%20%20%20%20%20%20%20%20%20%20%20%20%20%20var%20html_6e9c3f7bd33a4437812fd657af360d8a%20%3D%20%24%28%60%3Cdiv%20id%3D%22html_6e9c3f7bd33a4437812fd657af360d8a%22%20style%3D%22width%3A%20100.0%25%3B%20height%3A%20100.0%25%3B%22%3E%D7%9E%D7%99%D7%A7%D7%94%20%D7%95%D7%95%D7%9C%D7%A4%D7%A1%D7%95%D7%9F%3C/div%3E%60%29%5B0%5D%3B%0A%20%20%20%20%20%20%20%20%20%20%20%20%20%20%20%20popup_0de7786ab53343e881d651264a5a6fa6.setContent%28html_6e9c3f7bd33a4437812fd657af360d8a%29%3B%0A%20%20%20%20%20%20%20%20%20%20%20%20%0A%0A%20%20%20%20%20%20%20%20%20%20%20%20marker_3af2caec3bef48988c55f4d6c6dcea1c.bindPopup%28popup_0de7786ab53343e881d651264a5a6fa6%29%0A%20%20%20%20%20%20%20%20%20%20%20%20%3B%0A%0A%20%20%20%20%20%20%20%20%20%20%20%20%0A%20%20%20%20%20%20%20%20%0A%20%20%20%20%0A%20%20%20%20%20%20%20%20var%20marker_1c3213bf173b4902879ce464d1fed941%20%3D%20L.marker%28%0A%20%20%20%20%20%20%20%20%20%20%20%20%5B32.0923047%2C%2034.8572837%5D%2C%0A%20%20%20%20%20%20%20%20%20%20%20%20%7B%0A%20%20%20%20%20%20%20%20%20%20%20%20%20%20%20%20icon%3A%20new%20L.Icon.Default%28%29%2C%0A%20%20%20%20%20%20%20%20%20%20%20%20%20%20%20%20%7D%0A%20%20%20%20%20%20%20%20%20%20%20%20%29.addTo%28map_09fa97b971d44bafb55eb8b118a0d457%29%3B%0A%20%20%20%20%20%20%20%20%0A%20%20%20%20%0A%20%20%20%20%20%20%20%20%20%20%20%20var%20popup_ea10609aa7f4442fa4d9695844a95727%20%3D%20L.popup%28%7BmaxWidth%3A%20%27100%25%27%0A%20%20%20%20%20%20%20%20%20%20%20%20%0A%20%20%20%20%20%20%20%20%20%20%20%20%7D%29%3B%0A%0A%20%20%20%20%20%20%20%20%20%20%20%20%0A%20%20%20%20%20%20%20%20%20%20%20%20%20%20%20%20var%20html_59cf0d4caeb3487397e1ce31f2403b51%20%3D%20%24%28%60%3Cdiv%20id%3D%22html_59cf0d4caeb3487397e1ce31f2403b51%22%20style%3D%22width%3A%20100.0%25%3B%20height%3A%20100.0%25%3B%22%3E%D7%94%D7%A1%D7%99%D7%91%D7%99%D7%9D%3C/div%3E%60%29%5B0%5D%3B%0A%20%20%20%20%20%20%20%20%20%20%20%20%20%20%20%20popup_ea10609aa7f4442fa4d9695844a95727.setContent%28html_59cf0d4caeb3487397e1ce31f2403b51%29%3B%0A%20%20%20%20%20%20%20%20%20%20%20%20%0A%0A%20%20%20%20%20%20%20%20%20%20%20%20marker_1c3213bf173b4902879ce464d1fed941.bindPopup%28popup_ea10609aa7f4442fa4d9695844a95727%29%0A%20%20%20%20%20%20%20%20%20%20%20%20%3B%0A%0A%20%20%20%20%20%20%20%20%20%20%20%20%0A%20%20%20%20%20%20%20%20%0A%20%20%20%20%0A%20%20%20%20%20%20%20%20var%20marker_917c854cc392485b90a7ef0f74e7c7f5%20%3D%20L.marker%28%0A%20%20%20%20%20%20%20%20%20%20%20%20%5B31.79496315%2C%2035.18778583710159%5D%2C%0A%20%20%20%20%20%20%20%20%20%20%20%20%7B%0A%20%20%20%20%20%20%20%20%20%20%20%20%20%20%20%20icon%3A%20new%20L.Icon.Default%28%29%2C%0A%20%20%20%20%20%20%20%20%20%20%20%20%20%20%20%20%7D%0A%20%20%20%20%20%20%20%20%20%20%20%20%29.addTo%28map_09fa97b971d44bafb55eb8b118a0d457%29%3B%0A%20%20%20%20%20%20%20%20%0A%20%20%20%20%0A%20%20%20%20%20%20%20%20%20%20%20%20var%20popup_f8c4538e4cfe4d44bcd974912b1683c0%20%3D%20L.popup%28%7BmaxWidth%3A%20%27100%25%27%0A%20%20%20%20%20%20%20%20%20%20%20%20%0A%20%20%20%20%20%20%20%20%20%20%20%20%7D%29%3B%0A%0A%20%20%20%20%20%20%20%20%20%20%20%20%0A%20%20%20%20%20%20%20%20%20%20%20%20%20%20%20%20var%20html_6f5e481b46c84f3e8bb9817d81866df8%20%3D%20%24%28%60%3Cdiv%20id%3D%22html_6f5e481b46c84f3e8bb9817d81866df8%22%20style%3D%22width%3A%20100.0%25%3B%20height%3A%20100.0%25%3B%22%3E%D7%94%D7%A8%20%D7%AA%D7%9E%D7%99%D7%A8%3C/div%3E%60%29%5B0%5D%3B%0A%20%20%20%20%20%20%20%20%20%20%20%20%20%20%20%20popup_f8c4538e4cfe4d44bcd974912b1683c0.setContent%28html_6f5e481b46c84f3e8bb9817d81866df8%29%3B%0A%20%20%20%20%20%20%20%20%20%20%20%20%0A%0A%20%20%20%20%20%20%20%20%20%20%20%20marker_917c854cc392485b90a7ef0f74e7c7f5.bindPopup%28popup_f8c4538e4cfe4d44bcd974912b1683c0%29%0A%20%20%20%20%20%20%20%20%20%20%20%20%3B%0A%0A%20%20%20%20%20%20%20%20%20%20%20%20%0A%20%20%20%20%20%20%20%20%0A%20%20%20%20%0A%20%20%20%20%20%20%20%20var%20marker_0e2474fdb46e41f3b296f80bafd2bd13%20%3D%20L.marker%28%0A%20%20%20%20%20%20%20%20%20%20%20%20%5B31.525315%2C%2034.603912%5D%2C%0A%20%20%20%20%20%20%20%20%20%20%20%20%7B%0A%20%20%20%20%20%20%20%20%20%20%20%20%20%20%20%20icon%3A%20new%20L.Icon.Default%28%29%2C%0A%20%20%20%20%20%20%20%20%20%20%20%20%20%20%20%20%7D%0A%20%20%20%20%20%20%20%20%20%20%20%20%29.addTo%28map_09fa97b971d44bafb55eb8b118a0d457%29%3B%0A%20%20%20%20%20%20%20%20%0A%20%20%20%20%0A%20%20%20%20%20%20%20%20%20%20%20%20var%20popup_218e7a37459742b792fbedf2b6d76645%20%3D%20L.popup%28%7BmaxWidth%3A%20%27100%25%27%0A%20%20%20%20%20%20%20%20%20%20%20%20%0A%20%20%20%20%20%20%20%20%20%20%20%20%7D%29%3B%0A%0A%20%20%20%20%20%20%20%20%20%20%20%20%0A%20%20%20%20%20%20%20%20%20%20%20%20%20%20%20%20var%20html_b214bbc9d2f94b96bf30168ab17a85e9%20%3D%20%24%28%60%3Cdiv%20id%3D%22html_b214bbc9d2f94b96bf30168ab17a85e9%22%20style%3D%22width%3A%20100.0%25%3B%20height%3A%20100.0%25%3B%22%3E%D7%94%D7%A9%D7%91%D7%A2%D7%94%3C/div%3E%60%29%5B0%5D%3B%0A%20%20%20%20%20%20%20%20%20%20%20%20%20%20%20%20popup_218e7a37459742b792fbedf2b6d76645.setContent%28html_b214bbc9d2f94b96bf30168ab17a85e9%29%3B%0A%20%20%20%20%20%20%20%20%20%20%20%20%0A%0A%20%20%20%20%20%20%20%20%20%20%20%20marker_0e2474fdb46e41f3b296f80bafd2bd13.bindPopup%28popup_218e7a37459742b792fbedf2b6d76645%29%0A%20%20%20%20%20%20%20%20%20%20%20%20%3B%0A%0A%20%20%20%20%20%20%20%20%20%20%20%20%0A%20%20%20%20%20%20%20%20%0A%20%20%20%20%0A%20%20%20%20%20%20%20%20var%20marker_485220cae57a420e99d7db621d501b8d%20%3D%20L.marker%28%0A%20%20%20%20%20%20%20%20%20%20%20%20%5B32.323644%2C%2034.902989%5D%2C%0A%20%20%20%20%20%20%20%20%20%20%20%20%7B%0A%20%20%20%20%20%20%20%20%20%20%20%20%20%20%20%20icon%3A%20new%20L.Icon.Default%28%29%2C%0A%20%20%20%20%20%20%20%20%20%20%20%20%20%20%20%20%7D%0A%20%20%20%20%20%20%20%20%20%20%20%20%29.addTo%28map_09fa97b971d44bafb55eb8b118a0d457%29%3B%0A%20%20%20%20%20%20%20%20%0A%20%20%20%20%0A%20%20%20%20%20%20%20%20%20%20%20%20var%20popup_ef8efb0e3ebb454eab59637e33183d6c%20%3D%20L.popup%28%7BmaxWidth%3A%20%27100%25%27%0A%20%20%20%20%20%20%20%20%20%20%20%20%0A%20%20%20%20%20%20%20%20%20%20%20%20%7D%29%3B%0A%0A%20%20%20%20%20%20%20%20%20%20%20%20%0A%20%20%20%20%20%20%20%20%20%20%20%20%20%20%20%20var%20html_a6b0d5fa82c44dc5831009a03f43899a%20%3D%20%24%28%60%3Cdiv%20id%3D%22html_a6b0d5fa82c44dc5831009a03f43899a%22%20style%3D%22width%3A%20100.0%25%3B%20height%3A%20100.0%25%3B%22%3E%D7%98%D7%99%D7%99%D7%91%D7%94%3C/div%3E%60%29%5B0%5D%3B%0A%20%20%20%20%20%20%20%20%20%20%20%20%20%20%20%20popup_ef8efb0e3ebb454eab59637e33183d6c.setContent%28html_a6b0d5fa82c44dc5831009a03f43899a%29%3B%0A%20%20%20%20%20%20%20%20%20%20%20%20%0A%0A%20%20%20%20%20%20%20%20%20%20%20%20marker_485220cae57a420e99d7db621d501b8d.bindPopup%28popup_ef8efb0e3ebb454eab59637e33183d6c%29%0A%20%20%20%20%20%20%20%20%20%20%20%20%3B%0A%0A%20%20%20%20%20%20%20%20%20%20%20%20%0A%20%20%20%20%20%20%20%20%0A%20%20%20%20%0A%20%20%20%20%20%20%20%20var%20marker_662d2e73c2d747ae8bb7043a11a543cc%20%3D%20L.marker%28%0A%20%20%20%20%20%20%20%20%20%20%20%20%5B32.4197144%2C%2035.0428311%5D%2C%0A%20%20%20%20%20%20%20%20%20%20%20%20%7B%0A%20%20%20%20%20%20%20%20%20%20%20%20%20%20%20%20icon%3A%20new%20L.Icon.Default%28%29%2C%0A%20%20%20%20%20%20%20%20%20%20%20%20%20%20%20%20%7D%0A%20%20%20%20%20%20%20%20%20%20%20%20%29.addTo%28map_09fa97b971d44bafb55eb8b118a0d457%29%3B%0A%20%20%20%20%20%20%20%20%0A%20%20%20%20%0A%20%20%20%20%20%20%20%20%20%20%20%20var%20popup_0388cb99790a448391b19bc61ca6a27c%20%3D%20L.popup%28%7BmaxWidth%3A%20%27100%25%27%0A%20%20%20%20%20%20%20%20%20%20%20%20%0A%20%20%20%20%20%20%20%20%20%20%20%20%7D%29%3B%0A%0A%20%20%20%20%20%20%20%20%20%20%20%20%0A%20%20%20%20%20%20%20%20%20%20%20%20%20%20%20%20var%20html_a1724039510f40308099a6fc28b6729a%20%3D%20%24%28%60%3Cdiv%20id%3D%22html_a1724039510f40308099a6fc28b6729a%22%20style%3D%22width%3A%20100.0%25%3B%20height%3A%20100.0%25%3B%22%3E%D7%99%D7%90%D7%A1%D7%99%D7%9F%3C/div%3E%60%29%5B0%5D%3B%0A%20%20%20%20%20%20%20%20%20%20%20%20%20%20%20%20popup_0388cb99790a448391b19bc61ca6a27c.setContent%28html_a1724039510f40308099a6fc28b6729a%29%3B%0A%20%20%20%20%20%20%20%20%20%20%20%20%0A%0A%20%20%20%20%20%20%20%20%20%20%20%20marker_662d2e73c2d747ae8bb7043a11a543cc.bindPopup%28popup_0388cb99790a448391b19bc61ca6a27c%29%0A%20%20%20%20%20%20%20%20%20%20%20%20%3B%0A%0A%20%20%20%20%20%20%20%20%20%20%20%20%0A%20%20%20%20%20%20%20%20%0A%20%20%20%20%0A%20%20%20%20%20%20%20%20var%20marker_d23047181a5d4edb84b60434232fbd53%20%3D%20L.marker%28%0A%20%20%20%20%20%20%20%20%20%20%20%20%5B32.9548871%2C%2035.2087895%5D%2C%0A%20%20%20%20%20%20%20%20%20%20%20%20%7B%0A%20%20%20%20%20%20%20%20%20%20%20%20%20%20%20%20icon%3A%20new%20L.Icon.Default%28%29%2C%0A%20%20%20%20%20%20%20%20%20%20%20%20%20%20%20%20%7D%0A%20%20%20%20%20%20%20%20%20%20%20%20%29.addTo%28map_09fa97b971d44bafb55eb8b118a0d457%29%3B%0A%20%20%20%20%20%20%20%20%0A%20%20%20%20%0A%20%20%20%20%20%20%20%20%20%20%20%20var%20popup_3e4b8715baf14f19b1e033bb1d383d6b%20%3D%20L.popup%28%7BmaxWidth%3A%20%27100%25%27%0A%20%20%20%20%20%20%20%20%20%20%20%20%0A%20%20%20%20%20%20%20%20%20%20%20%20%7D%29%3B%0A%0A%20%20%20%20%20%20%20%20%20%20%20%20%0A%20%20%20%20%20%20%20%20%20%20%20%20%20%20%20%20var%20html_8f36b6e7fcfb41a5a4474d008d5b8ca2%20%3D%20%24%28%60%3Cdiv%20id%3D%22html_8f36b6e7fcfb41a5a4474d008d5b8ca2%22%20style%3D%22width%3A%20100.0%25%3B%20height%3A%20100.0%25%3B%22%3E%D7%93%D7%9C%D7%A7%20%D7%99%D7%A8%D7%9B%D7%90%3C/div%3E%60%29%5B0%5D%3B%0A%20%20%20%20%20%20%20%20%20%20%20%20%20%20%20%20popup_3e4b8715baf14f19b1e033bb1d383d6b.setContent%28html_8f36b6e7fcfb41a5a4474d008d5b8ca2%29%3B%0A%20%20%20%20%20%20%20%20%20%20%20%20%0A%0A%20%20%20%20%20%20%20%20%20%20%20%20marker_d23047181a5d4edb84b60434232fbd53.bindPopup%28popup_3e4b8715baf14f19b1e033bb1d383d6b%29%0A%20%20%20%20%20%20%20%20%20%20%20%20%3B%0A%0A%20%20%20%20%20%20%20%20%20%20%20%20%0A%20%20%20%20%20%20%20%20%0A%20%20%20%20%0A%20%20%20%20%20%20%20%20var%20marker_54e76ae3047348b88b6ef95d87cc2ffe%20%3D%20L.marker%28%0A%20%20%20%20%20%20%20%20%20%20%20%20%5B32.1751957%2C%2034.8911412%5D%2C%0A%20%20%20%20%20%20%20%20%20%20%20%20%7B%0A%20%20%20%20%20%20%20%20%20%20%20%20%20%20%20%20icon%3A%20new%20L.Icon.Default%28%29%2C%0A%20%20%20%20%20%20%20%20%20%20%20%20%20%20%20%20%7D%0A%20%20%20%20%20%20%20%20%20%20%20%20%29.addTo%28map_09fa97b971d44bafb55eb8b118a0d457%29%3B%0A%20%20%20%20%20%20%20%20%0A%20%20%20%20%0A%20%20%20%20%20%20%20%20%20%20%20%20var%20popup_d2bde417e41444a98181e573286b978d%20%3D%20L.popup%28%7BmaxWidth%3A%20%27100%25%27%0A%20%20%20%20%20%20%20%20%20%20%20%20%0A%20%20%20%20%20%20%20%20%20%20%20%20%7D%29%3B%0A%0A%20%20%20%20%20%20%20%20%20%20%20%20%0A%20%20%20%20%20%20%20%20%20%20%20%20%20%20%20%20var%20html_93d82b6a3c5240c0aa7afb8c0f259998%20%3D%20%24%28%60%3Cdiv%20id%3D%22html_93d82b6a3c5240c0aa7afb8c0f259998%22%20style%3D%22width%3A%20100.0%25%3B%20height%3A%20100.0%25%3B%22%3E%D7%93%D7%95%D7%A8%D7%95%D7%9F%20%D7%9B%D7%A4%D7%A8%20%D7%A1%D7%91%D7%90%3C/div%3E%60%29%5B0%5D%3B%0A%20%20%20%20%20%20%20%20%20%20%20%20%20%20%20%20popup_d2bde417e41444a98181e573286b978d.setContent%28html_93d82b6a3c5240c0aa7afb8c0f259998%29%3B%0A%20%20%20%20%20%20%20%20%20%20%20%20%0A%0A%20%20%20%20%20%20%20%20%20%20%20%20marker_54e76ae3047348b88b6ef95d87cc2ffe.bindPopup%28popup_d2bde417e41444a98181e573286b978d%29%0A%20%20%20%20%20%20%20%20%20%20%20%20%3B%0A%0A%20%20%20%20%20%20%20%20%20%20%20%20%0A%20%20%20%20%20%20%20%20%0A%20%20%20%20%0A%20%20%20%20%20%20%20%20var%20marker_23cb7624d4b04551812ab28409b4f99e%20%3D%20L.marker%28%0A%20%20%20%20%20%20%20%20%20%20%20%20%5B32.7902739%2C%2035.0266879%5D%2C%0A%20%20%20%20%20%20%20%20%20%20%20%20%7B%0A%20%20%20%20%20%20%20%20%20%20%20%20%20%20%20%20icon%3A%20new%20L.Icon.Default%28%29%2C%0A%20%20%20%20%20%20%20%20%20%20%20%20%20%20%20%20%7D%0A%20%20%20%20%20%20%20%20%20%20%20%20%29.addTo%28map_09fa97b971d44bafb55eb8b118a0d457%29%3B%0A%20%20%20%20%20%20%20%20%0A%20%20%20%20%0A%20%20%20%20%20%20%20%20%20%20%20%20var%20popup_ed4d544ba13d4d46a12af03c25e3cad2%20%3D%20L.popup%28%7BmaxWidth%3A%20%27100%25%27%0A%20%20%20%20%20%20%20%20%20%20%20%20%0A%20%20%20%20%20%20%20%20%20%20%20%20%7D%29%3B%0A%0A%20%20%20%20%20%20%20%20%20%20%20%20%0A%20%20%20%20%20%20%20%20%20%20%20%20%20%20%20%20var%20html_1ca7f535d0484cd38770349ce6a89625%20%3D%20%24%28%60%3Cdiv%20id%3D%22html_1ca7f535d0484cd38770349ce6a89625%22%20style%3D%22width%3A%20100.0%25%3B%20height%3A%20100.0%25%3B%22%3E%D7%90%D7%95%D7%A8%D7%95%D7%AA%3C/div%3E%60%29%5B0%5D%3B%0A%20%20%20%20%20%20%20%20%20%20%20%20%20%20%20%20popup_ed4d544ba13d4d46a12af03c25e3cad2.setContent%28html_1ca7f535d0484cd38770349ce6a89625%29%3B%0A%20%20%20%20%20%20%20%20%20%20%20%20%0A%0A%20%20%20%20%20%20%20%20%20%20%20%20marker_23cb7624d4b04551812ab28409b4f99e.bindPopup%28popup_ed4d544ba13d4d46a12af03c25e3cad2%29%0A%20%20%20%20%20%20%20%20%20%20%20%20%3B%0A%0A%20%20%20%20%20%20%20%20%20%20%20%20%0A%20%20%20%20%20%20%20%20%0A%20%20%20%20%0A%20%20%20%20%20%20%20%20var%20marker_9b20fde4d6984a9baa29298806a95990%20%3D%20L.marker%28%0A%20%20%20%20%20%20%20%20%20%20%20%20%5B31.9349523%2C%2034.8673488%5D%2C%0A%20%20%20%20%20%20%20%20%20%20%20%20%7B%0A%20%20%20%20%20%20%20%20%20%20%20%20%20%20%20%20icon%3A%20new%20L.Icon.Default%28%29%2C%0A%20%20%20%20%20%20%20%20%20%20%20%20%20%20%20%20%7D%0A%20%20%20%20%20%20%20%20%20%20%20%20%29.addTo%28map_09fa97b971d44bafb55eb8b118a0d457%29%3B%0A%20%20%20%20%20%20%20%20%0A%20%20%20%20%0A%20%20%20%20%20%20%20%20%20%20%20%20var%20popup_56edb26ac3b0492689e9d58d2157dca3%20%3D%20L.popup%28%7BmaxWidth%3A%20%27100%25%27%0A%20%20%20%20%20%20%20%20%20%20%20%20%0A%20%20%20%20%20%20%20%20%20%20%20%20%7D%29%3B%0A%0A%20%20%20%20%20%20%20%20%20%20%20%20%0A%20%20%20%20%20%20%20%20%20%20%20%20%20%20%20%20var%20html_b6b457697632490ab89e58a57de615d3%20%3D%20%24%28%60%3Cdiv%20id%3D%22html_b6b457697632490ab89e58a57de615d3%22%20style%3D%22width%3A%20100.0%25%3B%20height%3A%20100.0%25%3B%22%3E%D7%A1%D7%95%D7%A0%D7%95%D7%9C%20%D7%94%D7%91%D7%A0%D7%99%D7%9D%3C/div%3E%60%29%5B0%5D%3B%0A%20%20%20%20%20%20%20%20%20%20%20%20%20%20%20%20popup_56edb26ac3b0492689e9d58d2157dca3.setContent%28html_b6b457697632490ab89e58a57de615d3%29%3B%0A%20%20%20%20%20%20%20%20%20%20%20%20%0A%0A%20%20%20%20%20%20%20%20%20%20%20%20marker_9b20fde4d6984a9baa29298806a95990.bindPopup%28popup_56edb26ac3b0492689e9d58d2157dca3%29%0A%20%20%20%20%20%20%20%20%20%20%20%20%3B%0A%0A%20%20%20%20%20%20%20%20%20%20%20%20%0A%20%20%20%20%20%20%20%20%0A%20%20%20%20%0A%20%20%20%20%20%20%20%20var%20marker_792f963c68c441e0aa859a1422bbb457%20%3D%20L.marker%28%0A%20%20%20%20%20%20%20%20%20%20%20%20%5B31.8937495%2C%2034.8117132%5D%2C%0A%20%20%20%20%20%20%20%20%20%20%20%20%7B%0A%20%20%20%20%20%20%20%20%20%20%20%20%20%20%20%20icon%3A%20new%20L.Icon.Default%28%29%2C%0A%20%20%20%20%20%20%20%20%20%20%20%20%20%20%20%20%7D%0A%20%20%20%20%20%20%20%20%20%20%20%20%29.addTo%28map_09fa97b971d44bafb55eb8b118a0d457%29%3B%0A%20%20%20%20%20%20%20%20%0A%20%20%20%20%0A%20%20%20%20%20%20%20%20%20%20%20%20var%20popup_d7562a30d81642b8aed90f97e9be01bf%20%3D%20L.popup%28%7BmaxWidth%3A%20%27100%25%27%0A%20%20%20%20%20%20%20%20%20%20%20%20%0A%20%20%20%20%20%20%20%20%20%20%20%20%7D%29%3B%0A%0A%20%20%20%20%20%20%20%20%20%20%20%20%0A%20%20%20%20%20%20%20%20%20%20%20%20%20%20%20%20var%20html_cf9a0b278b2f4532aa2ccca5d76ebf19%20%3D%20%24%28%60%3Cdiv%20id%3D%22html_cf9a0b278b2f4532aa2ccca5d76ebf19%22%20style%3D%22width%3A%20100.0%25%3B%20height%3A%20100.0%25%3B%22%3E%D7%A9%D7%A2%D7%A8%D7%99%D7%99%D7%9D%3C/div%3E%60%29%5B0%5D%3B%0A%20%20%20%20%20%20%20%20%20%20%20%20%20%20%20%20popup_d7562a30d81642b8aed90f97e9be01bf.setContent%28html_cf9a0b278b2f4532aa2ccca5d76ebf19%29%3B%0A%20%20%20%20%20%20%20%20%20%20%20%20%0A%0A%20%20%20%20%20%20%20%20%20%20%20%20marker_792f963c68c441e0aa859a1422bbb457.bindPopup%28popup_d7562a30d81642b8aed90f97e9be01bf%29%0A%20%20%20%20%20%20%20%20%20%20%20%20%3B%0A%0A%20%20%20%20%20%20%20%20%20%20%20%20%0A%20%20%20%20%20%20%20%20%0A%20%20%20%20%0A%20%20%20%20%20%20%20%20var%20marker_6f6feb6721f840058a4078c5373fb427%20%3D%20L.marker%28%0A%20%20%20%20%20%20%20%20%20%20%20%20%5B31.8705007%2C%2035.1774813%5D%2C%0A%20%20%20%20%20%20%20%20%20%20%20%20%7B%0A%20%20%20%20%20%20%20%20%20%20%20%20%20%20%20%20icon%3A%20new%20L.Icon.Default%28%29%2C%0A%20%20%20%20%20%20%20%20%20%20%20%20%20%20%20%20%7D%0A%20%20%20%20%20%20%20%20%20%20%20%20%29.addTo%28map_09fa97b971d44bafb55eb8b118a0d457%29%3B%0A%20%20%20%20%20%20%20%20%0A%20%20%20%20%0A%20%20%20%20%20%20%20%20%20%20%20%20var%20popup_e23fca48019549fa8f80fb108f7dba70%20%3D%20L.popup%28%7BmaxWidth%3A%20%27100%25%27%0A%20%20%20%20%20%20%20%20%20%20%20%20%0A%20%20%20%20%20%20%20%20%20%20%20%20%7D%29%3B%0A%0A%20%20%20%20%20%20%20%20%20%20%20%20%0A%20%20%20%20%20%20%20%20%20%20%20%20%20%20%20%20var%20html_8f3497eaa8de496782b4b8d35b6c43e7%20%3D%20%24%28%60%3Cdiv%20id%3D%22html_8f3497eaa8de496782b4b8d35b6c43e7%22%20style%3D%22width%3A%20100.0%25%3B%20height%3A%20100.0%25%3B%22%3E%D7%92%D7%91%D7%A2%D7%95%D7%A0%D7%99%D7%9D%3C/div%3E%60%29%5B0%5D%3B%0A%20%20%20%20%20%20%20%20%20%20%20%20%20%20%20%20popup_e23fca48019549fa8f80fb108f7dba70.setContent%28html_8f3497eaa8de496782b4b8d35b6c43e7%29%3B%0A%20%20%20%20%20%20%20%20%20%20%20%20%0A%0A%20%20%20%20%20%20%20%20%20%20%20%20marker_6f6feb6721f840058a4078c5373fb427.bindPopup%28popup_e23fca48019549fa8f80fb108f7dba70%29%0A%20%20%20%20%20%20%20%20%20%20%20%20%3B%0A%0A%20%20%20%20%20%20%20%20%20%20%20%20%0A%20%20%20%20%20%20%20%20%0A%20%20%20%20%0A%20%20%20%20%20%20%20%20var%20marker_cedf529f00764234b8a11cacf72bd4a7%20%3D%20L.marker%28%0A%20%20%20%20%20%20%20%20%20%20%20%20%5B30.987586%2C%2035.308952%5D%2C%0A%20%20%20%20%20%20%20%20%20%20%20%20%7B%0A%20%20%20%20%20%20%20%20%20%20%20%20%20%20%20%20icon%3A%20new%20L.Icon.Default%28%29%2C%0A%20%20%20%20%20%20%20%20%20%20%20%20%20%20%20%20%7D%0A%20%20%20%20%20%20%20%20%20%20%20%20%29.addTo%28map_09fa97b971d44bafb55eb8b118a0d457%29%3B%0A%20%20%20%20%20%20%20%20%0A%20%20%20%20%0A%20%20%20%20%20%20%20%20%20%20%20%20var%20popup_91cdc8a6f9904d6a8f8242e0573082f9%20%3D%20L.popup%28%7BmaxWidth%3A%20%27100%25%27%0A%20%20%20%20%20%20%20%20%20%20%20%20%0A%20%20%20%20%20%20%20%20%20%20%20%20%7D%29%3B%0A%0A%20%20%20%20%20%20%20%20%20%20%20%20%0A%20%20%20%20%20%20%20%20%20%20%20%20%20%20%20%20var%20html_cab4895f46b447f18261c3bf3b4878ca%20%3D%20%24%28%60%3Cdiv%20id%3D%22html_cab4895f46b447f18261c3bf3b4878ca%22%20style%3D%22width%3A%20100.0%25%3B%20height%3A%20100.0%25%3B%22%3E%D7%92%D7%9C%20%D7%A6%D7%95%D7%9E%D7%AA%20%D7%94%D7%A2%D7%A8%D7%91%D7%94%3C/div%3E%60%29%5B0%5D%3B%0A%20%20%20%20%20%20%20%20%20%20%20%20%20%20%20%20popup_91cdc8a6f9904d6a8f8242e0573082f9.setContent%28html_cab4895f46b447f18261c3bf3b4878ca%29%3B%0A%20%20%20%20%20%20%20%20%20%20%20%20%0A%0A%20%20%20%20%20%20%20%20%20%20%20%20marker_cedf529f00764234b8a11cacf72bd4a7.bindPopup%28popup_91cdc8a6f9904d6a8f8242e0573082f9%29%0A%20%20%20%20%20%20%20%20%20%20%20%20%3B%0A%0A%20%20%20%20%20%20%20%20%20%20%20%20%0A%20%20%20%20%20%20%20%20%0A%20%20%20%20%0A%20%20%20%20%20%20%20%20var%20marker_fbafdbab015f4257b68f46310ec9b8dc%20%3D%20L.marker%28%0A%20%20%20%20%20%20%20%20%20%20%20%20%5B32.987689%2C%2035.442719%5D%2C%0A%20%20%20%20%20%20%20%20%20%20%20%20%7B%0A%20%20%20%20%20%20%20%20%20%20%20%20%20%20%20%20icon%3A%20new%20L.Icon.Default%28%29%2C%0A%20%20%20%20%20%20%20%20%20%20%20%20%20%20%20%20%7D%0A%20%20%20%20%20%20%20%20%20%20%20%20%29.addTo%28map_09fa97b971d44bafb55eb8b118a0d457%29%3B%0A%20%20%20%20%20%20%20%20%0A%20%20%20%20%0A%20%20%20%20%20%20%20%20%20%20%20%20var%20popup_fc4fcfc82e0147feb55c94544bbee9e0%20%3D%20L.popup%28%7BmaxWidth%3A%20%27100%25%27%0A%20%20%20%20%20%20%20%20%20%20%20%20%0A%20%20%20%20%20%20%20%20%20%20%20%20%7D%29%3B%0A%0A%20%20%20%20%20%20%20%20%20%20%20%20%0A%20%20%20%20%20%20%20%20%20%20%20%20%20%20%20%20var%20html_98d1676b2bb943288f63ba38acf91d04%20%3D%20%24%28%60%3Cdiv%20id%3D%22html_98d1676b2bb943288f63ba38acf91d04%22%20style%3D%22width%3A%20100.0%25%3B%20height%3A%20100.0%25%3B%22%3E%D7%9E%D7%99%D7%A8%D7%95%D7%9F%3C/div%3E%60%29%5B0%5D%3B%0A%20%20%20%20%20%20%20%20%20%20%20%20%20%20%20%20popup_fc4fcfc82e0147feb55c94544bbee9e0.setContent%28html_98d1676b2bb943288f63ba38acf91d04%29%3B%0A%20%20%20%20%20%20%20%20%20%20%20%20%0A%0A%20%20%20%20%20%20%20%20%20%20%20%20marker_fbafdbab015f4257b68f46310ec9b8dc.bindPopup%28popup_fc4fcfc82e0147feb55c94544bbee9e0%29%0A%20%20%20%20%20%20%20%20%20%20%20%20%3B%0A%0A%20%20%20%20%20%20%20%20%20%20%20%20%0A%20%20%20%20%20%20%20%20%0A%20%20%20%20%0A%20%20%20%20%20%20%20%20var%20marker_4a0ce74d26bd4768ab9750ace193b843%20%3D%20L.marker%28%0A%20%20%20%20%20%20%20%20%20%20%20%20%5B32.0777722%2C%2034.76685%5D%2C%0A%20%20%20%20%20%20%20%20%20%20%20%20%7B%0A%20%20%20%20%20%20%20%20%20%20%20%20%20%20%20%20icon%3A%20new%20L.Icon.Default%28%29%2C%0A%20%20%20%20%20%20%20%20%20%20%20%20%20%20%20%20%7D%0A%20%20%20%20%20%20%20%20%20%20%20%20%29.addTo%28map_09fa97b971d44bafb55eb8b118a0d457%29%3B%0A%20%20%20%20%20%20%20%20%0A%20%20%20%20%0A%20%20%20%20%20%20%20%20%20%20%20%20var%20popup_16febb207eb547249ee7393115acb7da%20%3D%20L.popup%28%7BmaxWidth%3A%20%27100%25%27%0A%20%20%20%20%20%20%20%20%20%20%20%20%0A%20%20%20%20%20%20%20%20%20%20%20%20%7D%29%3B%0A%0A%20%20%20%20%20%20%20%20%20%20%20%20%0A%20%20%20%20%20%20%20%20%20%20%20%20%20%20%20%20var%20html_da6d2aca2b68428288a728f7073c08f1%20%3D%20%24%28%60%3Cdiv%20id%3D%22html_da6d2aca2b68428288a728f7073c08f1%22%20style%3D%22width%3A%20100.0%25%3B%20height%3A%20100.0%25%3B%22%3E%D7%92%D7%9F%20%D7%9C%D7%95%D7%A0%D7%93%D7%95%D7%9F%3C/div%3E%60%29%5B0%5D%3B%0A%20%20%20%20%20%20%20%20%20%20%20%20%20%20%20%20popup_16febb207eb547249ee7393115acb7da.setContent%28html_da6d2aca2b68428288a728f7073c08f1%29%3B%0A%20%20%20%20%20%20%20%20%20%20%20%20%0A%0A%20%20%20%20%20%20%20%20%20%20%20%20marker_4a0ce74d26bd4768ab9750ace193b843.bindPopup%28popup_16febb207eb547249ee7393115acb7da%29%0A%20%20%20%20%20%20%20%20%20%20%20%20%3B%0A%0A%20%20%20%20%20%20%20%20%20%20%20%20%0A%20%20%20%20%20%20%20%20%0A%20%20%20%20%0A%20%20%20%20%20%20%20%20var%20marker_89dc91beab30437784c60ff1e226c809%20%3D%20L.marker%28%0A%20%20%20%20%20%20%20%20%20%20%20%20%5B33.0476412%2C%2035.1407717%5D%2C%0A%20%20%20%20%20%20%20%20%20%20%20%20%7B%0A%20%20%20%20%20%20%20%20%20%20%20%20%20%20%20%20icon%3A%20new%20L.Icon.Default%28%29%2C%0A%20%20%20%20%20%20%20%20%20%20%20%20%20%20%20%20%7D%0A%20%20%20%20%20%20%20%20%20%20%20%20%29.addTo%28map_09fa97b971d44bafb55eb8b118a0d457%29%3B%0A%20%20%20%20%20%20%20%20%0A%20%20%20%20%0A%20%20%20%20%20%20%20%20%20%20%20%20var%20popup_fc6c9098acb7496c9c9addd15cdd00f1%20%3D%20L.popup%28%7BmaxWidth%3A%20%27100%25%27%0A%20%20%20%20%20%20%20%20%20%20%20%20%0A%20%20%20%20%20%20%20%20%20%20%20%20%7D%29%3B%0A%0A%20%20%20%20%20%20%20%20%20%20%20%20%0A%20%20%20%20%20%20%20%20%20%20%20%20%20%20%20%20var%20html_92cb4c581a60429cb855a68dcceb4109%20%3D%20%24%28%60%3Cdiv%20id%3D%22html_92cb4c581a60429cb855a68dcceb4109%22%20style%3D%22width%3A%20100.0%25%3B%20height%3A%20100.0%25%3B%22%3E%D7%92%D7%A2%D7%AA%D7%95%D7%9F%3C/div%3E%60%29%5B0%5D%3B%0A%20%20%20%20%20%20%20%20%20%20%20%20%20%20%20%20popup_fc6c9098acb7496c9c9addd15cdd00f1.setContent%28html_92cb4c581a60429cb855a68dcceb4109%29%3B%0A%20%20%20%20%20%20%20%20%20%20%20%20%0A%0A%20%20%20%20%20%20%20%20%20%20%20%20marker_89dc91beab30437784c60ff1e226c809.bindPopup%28popup_fc6c9098acb7496c9c9addd15cdd00f1%29%0A%20%20%20%20%20%20%20%20%20%20%20%20%3B%0A%0A%20%20%20%20%20%20%20%20%20%20%20%20%0A%20%20%20%20%20%20%20%20%0A%20%20%20%20%0A%20%20%20%20%20%20%20%20var%20marker_9fc19d3096214555b93dcce7e827d4ee%20%3D%20L.marker%28%0A%20%20%20%20%20%20%20%20%20%20%20%20%5B32.257813%2C%2034.900012%5D%2C%0A%20%20%20%20%20%20%20%20%20%20%20%20%7B%0A%20%20%20%20%20%20%20%20%20%20%20%20%20%20%20%20icon%3A%20new%20L.Icon.Default%28%29%2C%0A%20%20%20%20%20%20%20%20%20%20%20%20%20%20%20%20%7D%0A%20%20%20%20%20%20%20%20%20%20%20%20%29.addTo%28map_09fa97b971d44bafb55eb8b118a0d457%29%3B%0A%20%20%20%20%20%20%20%20%0A%20%20%20%20%0A%20%20%20%20%20%20%20%20%20%20%20%20var%20popup_385c5900b18945df8e734e412e90601b%20%3D%20L.popup%28%7BmaxWidth%3A%20%27100%25%27%0A%20%20%20%20%20%20%20%20%20%20%20%20%0A%20%20%20%20%20%20%20%20%20%20%20%20%7D%29%3B%0A%0A%20%20%20%20%20%20%20%20%20%20%20%20%0A%20%20%20%20%20%20%20%20%20%20%20%20%20%20%20%20var%20html_139b8c2aa3524db1a6efbe19c74446d8%20%3D%20%24%28%60%3Cdiv%20id%3D%22html_139b8c2aa3524db1a6efbe19c74446d8%22%20style%3D%22width%3A%20100.0%25%3B%20height%3A%20100.0%25%3B%22%3E%D7%93%D7%A8%D7%95%D7%A8%20%D7%96%D7%A7%D7%A1%3C/div%3E%60%29%5B0%5D%3B%0A%20%20%20%20%20%20%20%20%20%20%20%20%20%20%20%20popup_385c5900b18945df8e734e412e90601b.setContent%28html_139b8c2aa3524db1a6efbe19c74446d8%29%3B%0A%20%20%20%20%20%20%20%20%20%20%20%20%0A%0A%20%20%20%20%20%20%20%20%20%20%20%20marker_9fc19d3096214555b93dcce7e827d4ee.bindPopup%28popup_385c5900b18945df8e734e412e90601b%29%0A%20%20%20%20%20%20%20%20%20%20%20%20%3B%0A%0A%20%20%20%20%20%20%20%20%20%20%20%20%0A%20%20%20%20%20%20%20%20%0A%20%20%20%20%0A%20%20%20%20%20%20%20%20var%20marker_d7db3170ff194ec193f1ad1795824692%20%3D%20L.marker%28%0A%20%20%20%20%20%20%20%20%20%20%20%20%5B32.0502416%2C%2034.7854123%5D%2C%0A%20%20%20%20%20%20%20%20%20%20%20%20%7B%0A%20%20%20%20%20%20%20%20%20%20%20%20%20%20%20%20icon%3A%20new%20L.Icon.Default%28%29%2C%0A%20%20%20%20%20%20%20%20%20%20%20%20%20%20%20%20%7D%0A%20%20%20%20%20%20%20%20%20%20%20%20%29.addTo%28map_09fa97b971d44bafb55eb8b118a0d457%29%3B%0A%20%20%20%20%20%20%20%20%0A%20%20%20%20%0A%20%20%20%20%20%20%20%20%20%20%20%20var%20popup_c7398b2db0ba4c8dbae65716a1621395%20%3D%20L.popup%28%7BmaxWidth%3A%20%27100%25%27%0A%20%20%20%20%20%20%20%20%20%20%20%20%0A%20%20%20%20%20%20%20%20%20%20%20%20%7D%29%3B%0A%0A%20%20%20%20%20%20%20%20%20%20%20%20%0A%20%20%20%20%20%20%20%20%20%20%20%20%20%20%20%20var%20html_53dc102a903349678bd69b937e780332%20%3D%20%24%28%60%3Cdiv%20id%3D%22html_53dc102a903349678bd69b937e780332%22%20style%3D%22width%3A%20100.0%25%3B%20height%3A%20100.0%25%3B%22%3E%D7%A0%D7%95%D7%94%20%D7%99%D7%A2%D7%A7%D7%91%3C/div%3E%60%29%5B0%5D%3B%0A%20%20%20%20%20%20%20%20%20%20%20%20%20%20%20%20popup_c7398b2db0ba4c8dbae65716a1621395.setContent%28html_53dc102a903349678bd69b937e780332%29%3B%0A%20%20%20%20%20%20%20%20%20%20%20%20%0A%0A%20%20%20%20%20%20%20%20%20%20%20%20marker_d7db3170ff194ec193f1ad1795824692.bindPopup%28popup_c7398b2db0ba4c8dbae65716a1621395%29%0A%20%20%20%20%20%20%20%20%20%20%20%20%3B%0A%0A%20%20%20%20%20%20%20%20%20%20%20%20%0A%20%20%20%20%20%20%20%20%0A%20%20%20%20%0A%20%20%20%20%20%20%20%20var%20marker_91aa8f8e11114bfd8d992f22659c86b0%20%3D%20L.marker%28%0A%20%20%20%20%20%20%20%20%20%20%20%20%5B32.6922393%2C%2035.0482785%5D%2C%0A%20%20%20%20%20%20%20%20%20%20%20%20%7B%0A%20%20%20%20%20%20%20%20%20%20%20%20%20%20%20%20icon%3A%20new%20L.Icon.Default%28%29%2C%0A%20%20%20%20%20%20%20%20%20%20%20%20%20%20%20%20%7D%0A%20%20%20%20%20%20%20%20%20%20%20%20%29.addTo%28map_09fa97b971d44bafb55eb8b118a0d457%29%3B%0A%20%20%20%20%20%20%20%20%0A%20%20%20%20%0A%20%20%20%20%20%20%20%20%20%20%20%20var%20popup_14b453663ef64af9a8ba06420e65f2cc%20%3D%20L.popup%28%7BmaxWidth%3A%20%27100%25%27%0A%20%20%20%20%20%20%20%20%20%20%20%20%0A%20%20%20%20%20%20%20%20%20%20%20%20%7D%29%3B%0A%0A%20%20%20%20%20%20%20%20%20%20%20%20%0A%20%20%20%20%20%20%20%20%20%20%20%20%20%20%20%20var%20html_b618146aabc84f529afe05d0927b0db9%20%3D%20%24%28%60%3Cdiv%20id%3D%22html_b618146aabc84f529afe05d0927b0db9%22%20style%3D%22width%3A%20100.0%25%3B%20height%3A%20100.0%25%3B%22%3E%D7%9E%D7%91%D7%95%D7%90%D7%95%D7%AA%20%D7%93%D7%9C%D7%99%D7%94%3C/div%3E%60%29%5B0%5D%3B%0A%20%20%20%20%20%20%20%20%20%20%20%20%20%20%20%20popup_14b453663ef64af9a8ba06420e65f2cc.setContent%28html_b618146aabc84f529afe05d0927b0db9%29%3B%0A%20%20%20%20%20%20%20%20%20%20%20%20%0A%0A%20%20%20%20%20%20%20%20%20%20%20%20marker_91aa8f8e11114bfd8d992f22659c86b0.bindPopup%28popup_14b453663ef64af9a8ba06420e65f2cc%29%0A%20%20%20%20%20%20%20%20%20%20%20%20%3B%0A%0A%20%20%20%20%20%20%20%20%20%20%20%20%0A%20%20%20%20%20%20%20%20%0A%20%20%20%20%0A%20%20%20%20%20%20%20%20var%20marker_619dd9bad085489ba9a6e546601a3587%20%3D%20L.marker%28%0A%20%20%20%20%20%20%20%20%20%20%20%20%5B32.1139357%2C%2034.9760002%5D%2C%0A%20%20%20%20%20%20%20%20%20%20%20%20%7B%0A%20%20%20%20%20%20%20%20%20%20%20%20%20%20%20%20icon%3A%20new%20L.Icon.Default%28%29%2C%0A%20%20%20%20%20%20%20%20%20%20%20%20%20%20%20%20%7D%0A%20%20%20%20%20%20%20%20%20%20%20%20%29.addTo%28map_09fa97b971d44bafb55eb8b118a0d457%29%3B%0A%20%20%20%20%20%20%20%20%0A%20%20%20%20%0A%20%20%20%20%20%20%20%20%20%20%20%20var%20popup_85deb1964af348e98abf2121e28e0e1e%20%3D%20L.popup%28%7BmaxWidth%3A%20%27100%25%27%0A%20%20%20%20%20%20%20%20%20%20%20%20%0A%20%20%20%20%20%20%20%20%20%20%20%20%7D%29%3B%0A%0A%20%20%20%20%20%20%20%20%20%20%20%20%0A%20%20%20%20%20%20%20%20%20%20%20%20%20%20%20%20var%20html_d85460fe0b2245388be37bf1f4a10fd0%20%3D%20%24%28%60%3Cdiv%20id%3D%22html_d85460fe0b2245388be37bf1f4a10fd0%22%20style%3D%22width%3A%20100.0%25%3B%20height%3A%20100.0%25%3B%22%3E%D7%A4%D7%90%D7%A8%D7%A7%20%D7%90%D7%A4%D7%A7%3C/div%3E%60%29%5B0%5D%3B%0A%20%20%20%20%20%20%20%20%20%20%20%20%20%20%20%20popup_85deb1964af348e98abf2121e28e0e1e.setContent%28html_d85460fe0b2245388be37bf1f4a10fd0%29%3B%0A%20%20%20%20%20%20%20%20%20%20%20%20%0A%0A%20%20%20%20%20%20%20%20%20%20%20%20marker_619dd9bad085489ba9a6e546601a3587.bindPopup%28popup_85deb1964af348e98abf2121e28e0e1e%29%0A%20%20%20%20%20%20%20%20%20%20%20%20%3B%0A%0A%20%20%20%20%20%20%20%20%20%20%20%20%0A%20%20%20%20%20%20%20%20%0A%20%20%20%20%0A%20%20%20%20%20%20%20%20var%20marker_bac2972d100446b59923cd06b101b566%20%3D%20L.marker%28%0A%20%20%20%20%20%20%20%20%20%20%20%20%5B31.9279988%2C%2034.8623473%5D%2C%0A%20%20%20%20%20%20%20%20%20%20%20%20%7B%0A%20%20%20%20%20%20%20%20%20%20%20%20%20%20%20%20icon%3A%20new%20L.Icon.Default%28%29%2C%0A%20%20%20%20%20%20%20%20%20%20%20%20%20%20%20%20%7D%0A%20%20%20%20%20%20%20%20%20%20%20%20%29.addTo%28map_09fa97b971d44bafb55eb8b118a0d457%29%3B%0A%20%20%20%20%20%20%20%20%0A%20%20%20%20%0A%20%20%20%20%20%20%20%20%20%20%20%20var%20popup_0919af7c75c1443ca736df5095f0f6b4%20%3D%20L.popup%28%7BmaxWidth%3A%20%27100%25%27%0A%20%20%20%20%20%20%20%20%20%20%20%20%0A%20%20%20%20%20%20%20%20%20%20%20%20%7D%29%3B%0A%0A%20%20%20%20%20%20%20%20%20%20%20%20%0A%20%20%20%20%20%20%20%20%20%20%20%20%20%20%20%20var%20html_cb9cb61035b345a7a478b54f782fbf12%20%3D%20%24%28%60%3Cdiv%20id%3D%22html_cb9cb61035b345a7a478b54f782fbf12%22%20style%3D%22width%3A%20100.0%25%3B%20height%3A%20100.0%25%3B%22%3E%D7%A4%D7%95%D7%9C%D7%99%D7%91%D7%94%3C/div%3E%60%29%5B0%5D%3B%0A%20%20%20%20%20%20%20%20%20%20%20%20%20%20%20%20popup_0919af7c75c1443ca736df5095f0f6b4.setContent%28html_cb9cb61035b345a7a478b54f782fbf12%29%3B%0A%20%20%20%20%20%20%20%20%20%20%20%20%0A%0A%20%20%20%20%20%20%20%20%20%20%20%20marker_bac2972d100446b59923cd06b101b566.bindPopup%28popup_0919af7c75c1443ca736df5095f0f6b4%29%0A%20%20%20%20%20%20%20%20%20%20%20%20%3B%0A%0A%20%20%20%20%20%20%20%20%20%20%20%20%0A%20%20%20%20%20%20%20%20%0A%20%20%20%20%0A%20%20%20%20%20%20%20%20var%20marker_62d2bc25089743198e12a1a4a46b0c32%20%3D%20L.marker%28%0A%20%20%20%20%20%20%20%20%20%20%20%20%5B32.8132268%2C%2034.9934915%5D%2C%0A%20%20%20%20%20%20%20%20%20%20%20%20%7B%0A%20%20%20%20%20%20%20%20%20%20%20%20%20%20%20%20icon%3A%20new%20L.Icon.Default%28%29%2C%0A%20%20%20%20%20%20%20%20%20%20%20%20%20%20%20%20%7D%0A%20%20%20%20%20%20%20%20%20%20%20%20%29.addTo%28map_09fa97b971d44bafb55eb8b118a0d457%29%3B%0A%20%20%20%20%20%20%20%20%0A%20%20%20%20%0A%20%20%20%20%20%20%20%20%20%20%20%20var%20popup_4643dbcf48b3477ba4cdbe5d6d07d4fc%20%3D%20L.popup%28%7BmaxWidth%3A%20%27100%25%27%0A%20%20%20%20%20%20%20%20%20%20%20%20%0A%20%20%20%20%20%20%20%20%20%20%20%20%7D%29%3B%0A%0A%20%20%20%20%20%20%20%20%20%20%20%20%0A%20%20%20%20%20%20%20%20%20%20%20%20%20%20%20%20var%20html_1226b39aeae746b2a4a45a5ab18ca5f2%20%3D%20%24%28%60%3Cdiv%20id%3D%22html_1226b39aeae746b2a4a45a5ab18ca5f2%22%20style%3D%22width%3A%20100.0%25%3B%20height%3A%20100.0%25%3B%22%3E%D7%94%D7%A0%D7%91%D7%99%D7%90%D7%99%D7%9D%20%D7%94%D7%93%D7%A8%20%D7%97%D7%99%D7%A4%D7%94%3C/div%3E%60%29%5B0%5D%3B%0A%20%20%20%20%20%20%20%20%20%20%20%20%20%20%20%20popup_4643dbcf48b3477ba4cdbe5d6d07d4fc.setContent%28html_1226b39aeae746b2a4a45a5ab18ca5f2%29%3B%0A%20%20%20%20%20%20%20%20%20%20%20%20%0A%0A%20%20%20%20%20%20%20%20%20%20%20%20marker_62d2bc25089743198e12a1a4a46b0c32.bindPopup%28popup_4643dbcf48b3477ba4cdbe5d6d07d4fc%29%0A%20%20%20%20%20%20%20%20%20%20%20%20%3B%0A%0A%20%20%20%20%20%20%20%20%20%20%20%20%0A%20%20%20%20%20%20%20%20%0A%3C/script%3E onload=\"this.contentDocument.open();this.contentDocument.write(    decodeURIComponent(this.getAttribute('data-html')));this.contentDocument.close();\" allowfullscreen webkitallowfullscreen mozallowfullscreen></iframe></div></div>"
            ],
            "text/plain": [
              "<folium.folium.Map at 0x7fe15fc649d0>"
            ]
          },
          "metadata": {
            "tags": []
          },
          "execution_count": 37
        }
      ]
    },
    {
      "cell_type": "code",
      "metadata": {
        "id": "2j2B5iNUk_7X"
      },
      "source": [
        "station_map.save('Stations Map.html')"
      ],
      "execution_count": 38,
      "outputs": []
    }
  ]
}